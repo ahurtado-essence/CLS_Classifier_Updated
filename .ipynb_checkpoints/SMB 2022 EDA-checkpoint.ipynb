{
 "cells": [
  {
   "cell_type": "markdown",
   "id": "9478414c",
   "metadata": {},
   "source": [
    "<h1 align='center'> SMB 2022 EDA <h1>"
   ]
  },
  {
   "cell_type": "code",
   "execution_count": 3,
   "id": "c2327601",
   "metadata": {},
   "outputs": [],
   "source": [
    "#importing libraries \n",
    "import numpy as np\n",
    "import pandas as pd\n",
    "import seaborn as sns\n",
    "import matplotlib.pyplot as plt \n",
    "import statsmodels as sm\n",
    "import statsmodels.api as smf\n",
    "from statsmodels.sandbox.regression.predstd import wls_prediction_std\n",
    "from sklearn.linear_model import Ridge, Lasso, HuberRegressor, ElasticNet\n",
    "from sklearn.metrics import mean_squared_error\n",
    "from sklearn.metrics import r2_score\n",
    "from scipy import stats\n",
    "from scipy.interpolate import make_interp_spline, BSpline\n",
    "from sklearn.ensemble import IsolationForest"
   ]
  },
  {
   "cell_type": "code",
   "execution_count": 4,
   "id": "02ddf8e2",
   "metadata": {},
   "outputs": [
    {
     "data": {
      "text/html": [
       "<div>\n",
       "<style scoped>\n",
       "    .dataframe tbody tr th:only-of-type {\n",
       "        vertical-align: middle;\n",
       "    }\n",
       "\n",
       "    .dataframe tbody tr th {\n",
       "        vertical-align: top;\n",
       "    }\n",
       "\n",
       "    .dataframe thead th {\n",
       "        text-align: right;\n",
       "    }\n",
       "</style>\n",
       "<table border=\"1\" class=\"dataframe\">\n",
       "  <thead>\n",
       "    <tr style=\"text-align: right;\">\n",
       "      <th></th>\n",
       "      <th>study_id</th>\n",
       "      <th>year</th>\n",
       "      <th>quarter</th>\n",
       "      <th>region</th>\n",
       "      <th>country</th>\n",
       "      <th>pa</th>\n",
       "      <th>channel</th>\n",
       "      <th>tactic</th>\n",
       "      <th>conversion</th>\n",
       "      <th>study_name</th>\n",
       "      <th>...</th>\n",
       "      <th>exposed</th>\n",
       "      <th>control_user_count</th>\n",
       "      <th>scaled_control</th>\n",
       "      <th>control</th>\n",
       "      <th>scaling_factor</th>\n",
       "      <th>cost_spent_on_exposed_group</th>\n",
       "      <th>absolute_lift</th>\n",
       "      <th>relative_lift</th>\n",
       "      <th>probability_of_lift</th>\n",
       "      <th>Significant_Spend</th>\n",
       "    </tr>\n",
       "  </thead>\n",
       "  <tbody>\n",
       "    <tr>\n",
       "      <th>0</th>\n",
       "      <td>148603228.0</td>\n",
       "      <td>2021.0</td>\n",
       "      <td>Q1</td>\n",
       "      <td>AMER</td>\n",
       "      <td>AR</td>\n",
       "      <td>SMB</td>\n",
       "      <td>DISPLAY</td>\n",
       "      <td>REMK</td>\n",
       "      <td>Type 288347008 (LENA - B Lead)</td>\n",
       "      <td>Google SMB | Q1 2021 | Acquisition | GDN AR RMKT</td>\n",
       "      <td>...</td>\n",
       "      <td>1939.0</td>\n",
       "      <td>2117871.0</td>\n",
       "      <td>2099.850830</td>\n",
       "      <td>899.0</td>\n",
       "      <td>2.335704</td>\n",
       "      <td>15112.32429</td>\n",
       "      <td>-160.850845</td>\n",
       "      <td>-0.076578</td>\n",
       "      <td>0.1321</td>\n",
       "      <td>0.0</td>\n",
       "    </tr>\n",
       "    <tr>\n",
       "      <th>1</th>\n",
       "      <td>148603868.0</td>\n",
       "      <td>2021.0</td>\n",
       "      <td>Q1</td>\n",
       "      <td>AMER</td>\n",
       "      <td>AR</td>\n",
       "      <td>SMB</td>\n",
       "      <td>DISPLAY</td>\n",
       "      <td>non-REMK</td>\n",
       "      <td>Type 288347008 (LENA - B Lead)</td>\n",
       "      <td>Google SMB | Q1 2021 | Acquisition | GDN AR Pros</td>\n",
       "      <td>...</td>\n",
       "      <td>4045.0</td>\n",
       "      <td>5031838.0</td>\n",
       "      <td>4107.776367</td>\n",
       "      <td>1753.0</td>\n",
       "      <td>2.341607</td>\n",
       "      <td>83446.36284</td>\n",
       "      <td>-62.776375</td>\n",
       "      <td>-0.014577</td>\n",
       "      <td>0.3561</td>\n",
       "      <td>0.0</td>\n",
       "    </tr>\n",
       "    <tr>\n",
       "      <th>2</th>\n",
       "      <td>148603229.0</td>\n",
       "      <td>2021.0</td>\n",
       "      <td>Q1</td>\n",
       "      <td>AMER</td>\n",
       "      <td>BR</td>\n",
       "      <td>SMB</td>\n",
       "      <td>DISPLAY</td>\n",
       "      <td>REMK</td>\n",
       "      <td>Type 288347008 (LENA - B Lead)</td>\n",
       "      <td>Google SMB | Q1 2021 | Acquisition | GDN BR RMKT</td>\n",
       "      <td>...</td>\n",
       "      <td>22209.0</td>\n",
       "      <td>6513673.0</td>\n",
       "      <td>22519.300781</td>\n",
       "      <td>9658.0</td>\n",
       "      <td>2.327656</td>\n",
       "      <td>86061.69181</td>\n",
       "      <td>-310.300049</td>\n",
       "      <td>-0.012077</td>\n",
       "      <td>0.1686</td>\n",
       "      <td>0.0</td>\n",
       "    </tr>\n",
       "    <tr>\n",
       "      <th>3</th>\n",
       "      <td>148603738.0</td>\n",
       "      <td>2021.0</td>\n",
       "      <td>Q1</td>\n",
       "      <td>AMER</td>\n",
       "      <td>BR</td>\n",
       "      <td>SMB</td>\n",
       "      <td>DISPLAY</td>\n",
       "      <td>non-REMK</td>\n",
       "      <td>Type 288347008 (LENA - B Lead)</td>\n",
       "      <td>Google SMB | Q1 2021 | Acquisition | GDN BR Pros</td>\n",
       "      <td>...</td>\n",
       "      <td>37402.0</td>\n",
       "      <td>8927700.0</td>\n",
       "      <td>37133.390625</td>\n",
       "      <td>15845.0</td>\n",
       "      <td>2.327620</td>\n",
       "      <td>205559.89220</td>\n",
       "      <td>268.608551</td>\n",
       "      <td>0.014123</td>\n",
       "      <td>0.6315</td>\n",
       "      <td>0.0</td>\n",
       "    </tr>\n",
       "    <tr>\n",
       "      <th>4</th>\n",
       "      <td>148603713.0</td>\n",
       "      <td>2021.0</td>\n",
       "      <td>Q1</td>\n",
       "      <td>AMER</td>\n",
       "      <td>CL</td>\n",
       "      <td>SMB</td>\n",
       "      <td>DISPLAY</td>\n",
       "      <td>REMK</td>\n",
       "      <td>Type 288347008 (LENA - B Lead)</td>\n",
       "      <td>Google SMB | Q1 2021 | Acquisition | GDN CL RMKT</td>\n",
       "      <td>...</td>\n",
       "      <td>690.0</td>\n",
       "      <td>912420.0</td>\n",
       "      <td>807.356567</td>\n",
       "      <td>347.0</td>\n",
       "      <td>2.329245</td>\n",
       "      <td>12378.59177</td>\n",
       "      <td>-117.356544</td>\n",
       "      <td>-0.146302</td>\n",
       "      <td>0.0744</td>\n",
       "      <td>0.0</td>\n",
       "    </tr>\n",
       "  </tbody>\n",
       "</table>\n",
       "<p>5 rows × 21 columns</p>\n",
       "</div>"
      ],
      "text/plain": [
       "      study_id    year quarter region country   pa  channel    tactic  \\\n",
       "0  148603228.0  2021.0      Q1   AMER      AR  SMB  DISPLAY      REMK   \n",
       "1  148603868.0  2021.0      Q1   AMER      AR  SMB  DISPLAY  non-REMK   \n",
       "2  148603229.0  2021.0      Q1   AMER      BR  SMB  DISPLAY      REMK   \n",
       "3  148603738.0  2021.0      Q1   AMER      BR  SMB  DISPLAY  non-REMK   \n",
       "4  148603713.0  2021.0      Q1   AMER      CL  SMB  DISPLAY      REMK   \n",
       "\n",
       "                       conversion  \\\n",
       "0  Type 288347008 (LENA - B Lead)   \n",
       "1  Type 288347008 (LENA - B Lead)   \n",
       "2  Type 288347008 (LENA - B Lead)   \n",
       "3  Type 288347008 (LENA - B Lead)   \n",
       "4  Type 288347008 (LENA - B Lead)   \n",
       "\n",
       "                                         study_name  ...  exposed  \\\n",
       "0  Google SMB | Q1 2021 | Acquisition | GDN AR RMKT  ...   1939.0   \n",
       "1  Google SMB | Q1 2021 | Acquisition | GDN AR Pros  ...   4045.0   \n",
       "2  Google SMB | Q1 2021 | Acquisition | GDN BR RMKT  ...  22209.0   \n",
       "3  Google SMB | Q1 2021 | Acquisition | GDN BR Pros  ...  37402.0   \n",
       "4  Google SMB | Q1 2021 | Acquisition | GDN CL RMKT  ...    690.0   \n",
       "\n",
       "   control_user_count  scaled_control  control  scaling_factor  \\\n",
       "0           2117871.0     2099.850830    899.0        2.335704   \n",
       "1           5031838.0     4107.776367   1753.0        2.341607   \n",
       "2           6513673.0    22519.300781   9658.0        2.327656   \n",
       "3           8927700.0    37133.390625  15845.0        2.327620   \n",
       "4            912420.0      807.356567    347.0        2.329245   \n",
       "\n",
       "   cost_spent_on_exposed_group  absolute_lift  relative_lift  \\\n",
       "0                  15112.32429    -160.850845      -0.076578   \n",
       "1                  83446.36284     -62.776375      -0.014577   \n",
       "2                  86061.69181    -310.300049      -0.012077   \n",
       "3                 205559.89220     268.608551       0.014123   \n",
       "4                  12378.59177    -117.356544      -0.146302   \n",
       "\n",
       "   probability_of_lift  Significant_Spend  \n",
       "0               0.1321                0.0  \n",
       "1               0.3561                0.0  \n",
       "2               0.1686                0.0  \n",
       "3               0.6315                0.0  \n",
       "4               0.0744                0.0  \n",
       "\n",
       "[5 rows x 21 columns]"
      ]
     },
     "execution_count": 4,
     "metadata": {},
     "output_type": "execute_result"
    }
   ],
   "source": [
    "#reading in dataset\n",
    "smb_2022 = pd.read_excel('SMB_Dataset_2022_Update-Copy1.xlsx')\n",
    "smb_2022.head()"
   ]
  },
  {
   "cell_type": "code",
   "execution_count": 5,
   "id": "ade7ac94",
   "metadata": {},
   "outputs": [
    {
     "data": {
      "text/plain": [
       "Index(['study_id', 'year', 'quarter', 'region', 'country', 'pa', 'channel',\n",
       "       'tactic', 'conversion', 'study_name', 'treatment_user_count', 'exposed',\n",
       "       'control_user_count', 'scaled_control', 'control', 'scaling_factor',\n",
       "       'cost_spent_on_exposed_group', 'absolute_lift', 'relative_lift',\n",
       "       'probability_of_lift', 'Significant_Spend'],\n",
       "      dtype='object')"
      ]
     },
     "execution_count": 5,
     "metadata": {},
     "output_type": "execute_result"
    }
   ],
   "source": [
    "smb_2022.columns"
   ]
  },
  {
   "cell_type": "code",
   "execution_count": 4,
   "id": "975cd30b",
   "metadata": {},
   "outputs": [
    {
     "data": {
      "text/html": [
       "<div>\n",
       "<style scoped>\n",
       "    .dataframe tbody tr th:only-of-type {\n",
       "        vertical-align: middle;\n",
       "    }\n",
       "\n",
       "    .dataframe tbody tr th {\n",
       "        vertical-align: top;\n",
       "    }\n",
       "\n",
       "    .dataframe thead th {\n",
       "        text-align: right;\n",
       "    }\n",
       "</style>\n",
       "<table border=\"1\" class=\"dataframe\">\n",
       "  <thead>\n",
       "    <tr style=\"text-align: right;\">\n",
       "      <th></th>\n",
       "      <th>study_id</th>\n",
       "      <th>year</th>\n",
       "      <th>treatment_user_count</th>\n",
       "      <th>exposed</th>\n",
       "      <th>control_user_count</th>\n",
       "      <th>scaled_control</th>\n",
       "      <th>control</th>\n",
       "      <th>scaling_factor</th>\n",
       "      <th>cost_spent_on_exposed_group</th>\n",
       "      <th>absolute_lift</th>\n",
       "      <th>relative_lift</th>\n",
       "      <th>probability_of_lift</th>\n",
       "      <th>Significant_Spend</th>\n",
       "    </tr>\n",
       "  </thead>\n",
       "  <tbody>\n",
       "    <tr>\n",
       "      <th>count</th>\n",
       "      <td>1.120000e+02</td>\n",
       "      <td>112.000000</td>\n",
       "      <td>1.120000e+02</td>\n",
       "      <td>112.000000</td>\n",
       "      <td>1.120000e+02</td>\n",
       "      <td>112.000000</td>\n",
       "      <td>112.000000</td>\n",
       "      <td>112.000000</td>\n",
       "      <td>112.000000</td>\n",
       "      <td>112.000000</td>\n",
       "      <td>112.000000</td>\n",
       "      <td>112.000000</td>\n",
       "      <td>112.000000</td>\n",
       "    </tr>\n",
       "    <tr>\n",
       "      <th>mean</th>\n",
       "      <td>6.625555e+07</td>\n",
       "      <td>2021.669643</td>\n",
       "      <td>1.358859e+07</td>\n",
       "      <td>15935.366071</td>\n",
       "      <td>5.845170e+06</td>\n",
       "      <td>14191.012994</td>\n",
       "      <td>6104.276786</td>\n",
       "      <td>2.326244</td>\n",
       "      <td>63126.888650</td>\n",
       "      <td>1742.712540</td>\n",
       "      <td>0.106015</td>\n",
       "      <td>0.674219</td>\n",
       "      <td>0.437500</td>\n",
       "    </tr>\n",
       "    <tr>\n",
       "      <th>std</th>\n",
       "      <td>7.057908e+07</td>\n",
       "      <td>0.472456</td>\n",
       "      <td>6.699929e+07</td>\n",
       "      <td>71919.224703</td>\n",
       "      <td>2.873560e+07</td>\n",
       "      <td>66467.927258</td>\n",
       "      <td>28506.288041</td>\n",
       "      <td>0.027690</td>\n",
       "      <td>92015.375541</td>\n",
       "      <td>6489.632034</td>\n",
       "      <td>0.273963</td>\n",
       "      <td>0.357756</td>\n",
       "      <td>0.498308</td>\n",
       "    </tr>\n",
       "    <tr>\n",
       "      <th>min</th>\n",
       "      <td>2.902105e+06</td>\n",
       "      <td>2021.000000</td>\n",
       "      <td>7.012000e+03</td>\n",
       "      <td>-1.000000</td>\n",
       "      <td>2.961000e+03</td>\n",
       "      <td>-1.000000</td>\n",
       "      <td>-1.000000</td>\n",
       "      <td>2.223291</td>\n",
       "      <td>173.221786</td>\n",
       "      <td>-537.000000</td>\n",
       "      <td>-1.000000</td>\n",
       "      <td>-1.000000</td>\n",
       "      <td>0.000000</td>\n",
       "    </tr>\n",
       "    <tr>\n",
       "      <th>25%</th>\n",
       "      <td>6.286056e+06</td>\n",
       "      <td>2021.000000</td>\n",
       "      <td>7.486455e+05</td>\n",
       "      <td>1204.000000</td>\n",
       "      <td>3.177130e+05</td>\n",
       "      <td>1125.793427</td>\n",
       "      <td>482.000000</td>\n",
       "      <td>2.318871</td>\n",
       "      <td>12615.286332</td>\n",
       "      <td>-19.588611</td>\n",
       "      <td>-0.014802</td>\n",
       "      <td>0.428125</td>\n",
       "      <td>0.000000</td>\n",
       "    </tr>\n",
       "    <tr>\n",
       "      <th>50%</th>\n",
       "      <td>6.370670e+06</td>\n",
       "      <td>2022.000000</td>\n",
       "      <td>3.521152e+06</td>\n",
       "      <td>3768.000000</td>\n",
       "      <td>1.511968e+06</td>\n",
       "      <td>3777.800537</td>\n",
       "      <td>1625.500000</td>\n",
       "      <td>2.328877</td>\n",
       "      <td>33094.087802</td>\n",
       "      <td>144.500000</td>\n",
       "      <td>0.048457</td>\n",
       "      <td>0.793350</td>\n",
       "      <td>0.000000</td>\n",
       "    </tr>\n",
       "    <tr>\n",
       "      <th>75%</th>\n",
       "      <td>1.491670e+08</td>\n",
       "      <td>2022.000000</td>\n",
       "      <td>1.098986e+07</td>\n",
       "      <td>11550.750000</td>\n",
       "      <td>4.712322e+06</td>\n",
       "      <td>11024.165283</td>\n",
       "      <td>4722.250000</td>\n",
       "      <td>2.335021</td>\n",
       "      <td>78452.303312</td>\n",
       "      <td>589.805069</td>\n",
       "      <td>0.135395</td>\n",
       "      <td>0.990074</td>\n",
       "      <td>1.000000</td>\n",
       "    </tr>\n",
       "    <tr>\n",
       "      <th>max</th>\n",
       "      <td>1.497045e+08</td>\n",
       "      <td>2022.000000</td>\n",
       "      <td>7.059509e+08</td>\n",
       "      <td>758504.000000</td>\n",
       "      <td>3.027281e+08</td>\n",
       "      <td>703406.583500</td>\n",
       "      <td>301637.000000</td>\n",
       "      <td>2.511795</td>\n",
       "      <td>629561.703100</td>\n",
       "      <td>54913.676296</td>\n",
       "      <td>1.491129</td>\n",
       "      <td>1.000000</td>\n",
       "      <td>1.000000</td>\n",
       "    </tr>\n",
       "  </tbody>\n",
       "</table>\n",
       "</div>"
      ],
      "text/plain": [
       "           study_id         year  treatment_user_count        exposed  \\\n",
       "count  1.120000e+02   112.000000          1.120000e+02     112.000000   \n",
       "mean   6.625555e+07  2021.669643          1.358859e+07   15935.366071   \n",
       "std    7.057908e+07     0.472456          6.699929e+07   71919.224703   \n",
       "min    2.902105e+06  2021.000000          7.012000e+03      -1.000000   \n",
       "25%    6.286056e+06  2021.000000          7.486455e+05    1204.000000   \n",
       "50%    6.370670e+06  2022.000000          3.521152e+06    3768.000000   \n",
       "75%    1.491670e+08  2022.000000          1.098986e+07   11550.750000   \n",
       "max    1.497045e+08  2022.000000          7.059509e+08  758504.000000   \n",
       "\n",
       "       control_user_count  scaled_control        control  scaling_factor  \\\n",
       "count        1.120000e+02      112.000000     112.000000      112.000000   \n",
       "mean         5.845170e+06    14191.012994    6104.276786        2.326244   \n",
       "std          2.873560e+07    66467.927258   28506.288041        0.027690   \n",
       "min          2.961000e+03       -1.000000      -1.000000        2.223291   \n",
       "25%          3.177130e+05     1125.793427     482.000000        2.318871   \n",
       "50%          1.511968e+06     3777.800537    1625.500000        2.328877   \n",
       "75%          4.712322e+06    11024.165283    4722.250000        2.335021   \n",
       "max          3.027281e+08   703406.583500  301637.000000        2.511795   \n",
       "\n",
       "       cost_spent_on_exposed_group  absolute_lift  relative_lift  \\\n",
       "count                   112.000000     112.000000     112.000000   \n",
       "mean                  63126.888650    1742.712540       0.106015   \n",
       "std                   92015.375541    6489.632034       0.273963   \n",
       "min                     173.221786    -537.000000      -1.000000   \n",
       "25%                   12615.286332     -19.588611      -0.014802   \n",
       "50%                   33094.087802     144.500000       0.048457   \n",
       "75%                   78452.303312     589.805069       0.135395   \n",
       "max                  629561.703100   54913.676296       1.491129   \n",
       "\n",
       "       probability_of_lift  Significant_Spend  \n",
       "count           112.000000         112.000000  \n",
       "mean              0.674219           0.437500  \n",
       "std               0.357756           0.498308  \n",
       "min              -1.000000           0.000000  \n",
       "25%               0.428125           0.000000  \n",
       "50%               0.793350           0.000000  \n",
       "75%               0.990074           1.000000  \n",
       "max               1.000000           1.000000  "
      ]
     },
     "execution_count": 4,
     "metadata": {},
     "output_type": "execute_result"
    }
   ],
   "source": [
    "smb_2022.describe()"
   ]
  },
  {
   "cell_type": "code",
   "execution_count": 6,
   "id": "c7f154fa",
   "metadata": {},
   "outputs": [
    {
     "name": "stdout",
     "output_type": "stream",
     "text": [
      "<class 'pandas.core.frame.DataFrame'>\n",
      "RangeIndex: 112 entries, 0 to 111\n",
      "Data columns (total 21 columns):\n",
      " #   Column                       Non-Null Count  Dtype  \n",
      "---  ------                       --------------  -----  \n",
      " 0   study_id                     112 non-null    float64\n",
      " 1   year                         112 non-null    float64\n",
      " 2   quarter                      112 non-null    object \n",
      " 3   region                       80 non-null     object \n",
      " 4   country                      112 non-null    object \n",
      " 5   pa                           112 non-null    object \n",
      " 6   channel                      112 non-null    object \n",
      " 7   tactic                       112 non-null    object \n",
      " 8   conversion                   112 non-null    object \n",
      " 9   study_name                   112 non-null    object \n",
      " 10  treatment_user_count         112 non-null    float64\n",
      " 11  exposed                      112 non-null    float64\n",
      " 12  control_user_count           112 non-null    float64\n",
      " 13  scaled_control               112 non-null    float64\n",
      " 14  control                      112 non-null    float64\n",
      " 15  scaling_factor               112 non-null    float64\n",
      " 16  cost_spent_on_exposed_group  112 non-null    float64\n",
      " 17  absolute_lift                112 non-null    float64\n",
      " 18  relative_lift                112 non-null    float64\n",
      " 19  probability_of_lift          112 non-null    float64\n",
      " 20  Significant_Spend            112 non-null    float64\n",
      "dtypes: float64(13), object(8)\n",
      "memory usage: 18.5+ KB\n"
     ]
    }
   ],
   "source": [
    "smb_2022.info()"
   ]
  },
  {
   "cell_type": "code",
   "execution_count": 7,
   "id": "aaa131ed",
   "metadata": {},
   "outputs": [
    {
     "data": {
      "text/plain": [
       "study_id                        0\n",
       "year                            0\n",
       "quarter                         0\n",
       "region                         32\n",
       "country                         0\n",
       "pa                              0\n",
       "channel                         0\n",
       "tactic                          0\n",
       "conversion                      0\n",
       "study_name                      0\n",
       "treatment_user_count            0\n",
       "exposed                         0\n",
       "control_user_count              0\n",
       "scaled_control                  0\n",
       "control                         0\n",
       "scaling_factor                  0\n",
       "cost_spent_on_exposed_group     0\n",
       "absolute_lift                   0\n",
       "relative_lift                   0\n",
       "probability_of_lift             0\n",
       "Significant_Spend               0\n",
       "dtype: int64"
      ]
     },
     "execution_count": 7,
     "metadata": {},
     "output_type": "execute_result"
    }
   ],
   "source": [
    "smb_2022.isnull().sum()"
   ]
  },
  {
   "cell_type": "code",
   "execution_count": 8,
   "id": "7be89944",
   "metadata": {},
   "outputs": [
    {
     "data": {
      "text/plain": [
       "EMEA    45\n",
       "AMER    24\n",
       "APAC    11\n",
       "Name: region, dtype: int64"
      ]
     },
     "execution_count": 8,
     "metadata": {},
     "output_type": "execute_result"
    }
   ],
   "source": [
    "smb_2022['region'].value_counts()"
   ]
  },
  {
   "cell_type": "code",
   "execution_count": 9,
   "id": "1d59dd6e",
   "metadata": {},
   "outputs": [
    {
     "data": {
      "text/plain": [
       "0"
      ]
     },
     "execution_count": 9,
     "metadata": {},
     "output_type": "execute_result"
    }
   ],
   "source": [
    "#replacing 'NA' values in region with 'EMEA' since this is the most popular region \n",
    "smb_2022['region'].fillna('EMEA', inplace = True)\n",
    "\n",
    "#ensuring there are no null values now\n",
    "smb_2022.isnull().sum()['region']"
   ]
  },
  {
   "cell_type": "code",
   "execution_count": 10,
   "id": "3ba75e7d",
   "metadata": {},
   "outputs": [
    {
     "data": {
      "text/plain": [
       "(32, 21)"
      ]
     },
     "execution_count": 10,
     "metadata": {},
     "output_type": "execute_result"
    }
   ],
   "source": [
    "#Focus only on sig spend = 1 & conversion = '288347008 (LENA - B Lead)'\n",
    "smb_2022_fixed = smb_2022[(smb_2022['Significant_Spend'] == 1) & (smb_2022['conversion'] == 'Type 288347008 (LENA - B Lead)')]\n",
    "\n",
    "#seeing how many samples there are now\n",
    "smb_2022_fixed.shape"
   ]
  },
  {
   "cell_type": "code",
   "execution_count": 11,
   "id": "8417cc99",
   "metadata": {},
   "outputs": [
    {
     "data": {
      "text/html": [
       "<div>\n",
       "<style scoped>\n",
       "    .dataframe tbody tr th:only-of-type {\n",
       "        vertical-align: middle;\n",
       "    }\n",
       "\n",
       "    .dataframe tbody tr th {\n",
       "        vertical-align: top;\n",
       "    }\n",
       "\n",
       "    .dataframe thead th {\n",
       "        text-align: right;\n",
       "    }\n",
       "</style>\n",
       "<table border=\"1\" class=\"dataframe\">\n",
       "  <thead>\n",
       "    <tr style=\"text-align: right;\">\n",
       "      <th></th>\n",
       "      <th>study_id</th>\n",
       "      <th>year</th>\n",
       "      <th>quarter</th>\n",
       "      <th>region</th>\n",
       "      <th>country</th>\n",
       "      <th>pa</th>\n",
       "      <th>channel</th>\n",
       "      <th>tactic</th>\n",
       "      <th>conversion</th>\n",
       "      <th>study_name</th>\n",
       "      <th>...</th>\n",
       "      <th>exposed</th>\n",
       "      <th>control_user_count</th>\n",
       "      <th>scaled_control</th>\n",
       "      <th>control</th>\n",
       "      <th>scaling_factor</th>\n",
       "      <th>cost_spent_on_exposed_group</th>\n",
       "      <th>absolute_lift</th>\n",
       "      <th>relative_lift</th>\n",
       "      <th>probability_of_lift</th>\n",
       "      <th>Significant_Spend</th>\n",
       "    </tr>\n",
       "  </thead>\n",
       "  <tbody>\n",
       "    <tr>\n",
       "      <th>13</th>\n",
       "      <td>148612498.0</td>\n",
       "      <td>2021.0</td>\n",
       "      <td>Q1</td>\n",
       "      <td>AMER</td>\n",
       "      <td>US</td>\n",
       "      <td>SMB</td>\n",
       "      <td>DISPLAY</td>\n",
       "      <td>REMK</td>\n",
       "      <td>Type 288347008 (LENA - B Lead)</td>\n",
       "      <td>Google SMB | Q1 2021 | Acquisition | GDN US RMKT</td>\n",
       "      <td>...</td>\n",
       "      <td>5735.0</td>\n",
       "      <td>334180.0</td>\n",
       "      <td>5079.615234</td>\n",
       "      <td>2177.0</td>\n",
       "      <td>2.330932</td>\n",
       "      <td>27861.472510</td>\n",
       "      <td>655.384583</td>\n",
       "      <td>0.130174</td>\n",
       "      <td>0.996500</td>\n",
       "      <td>1.0</td>\n",
       "    </tr>\n",
       "    <tr>\n",
       "      <th>21</th>\n",
       "      <td>149166897.0</td>\n",
       "      <td>2021.0</td>\n",
       "      <td>Q4</td>\n",
       "      <td>AMER</td>\n",
       "      <td>AR</td>\n",
       "      <td>SMB</td>\n",
       "      <td>DISPLAY</td>\n",
       "      <td>REMK</td>\n",
       "      <td>Type 288347008 (LENA - B Lead)</td>\n",
       "      <td>Google SMB | Q3 2021 | Acquisition | GDN AR RMKT</td>\n",
       "      <td>...</td>\n",
       "      <td>913.0</td>\n",
       "      <td>1447421.0</td>\n",
       "      <td>790.586853</td>\n",
       "      <td>338.0</td>\n",
       "      <td>2.331689</td>\n",
       "      <td>28952.369800</td>\n",
       "      <td>122.413147</td>\n",
       "      <td>0.158467</td>\n",
       "      <td>0.969700</td>\n",
       "      <td>1.0</td>\n",
       "    </tr>\n",
       "    <tr>\n",
       "      <th>22</th>\n",
       "      <td>149167411.0</td>\n",
       "      <td>2021.0</td>\n",
       "      <td>Q4</td>\n",
       "      <td>AMER</td>\n",
       "      <td>AR</td>\n",
       "      <td>SMB</td>\n",
       "      <td>DISPLAY</td>\n",
       "      <td>non-REMK</td>\n",
       "      <td>Type 288347008 (LENA - B Lead)</td>\n",
       "      <td>Google SMB | Q3 2021 | Acquisition | GDN AR Pros</td>\n",
       "      <td>...</td>\n",
       "      <td>761.0</td>\n",
       "      <td>1163660.0</td>\n",
       "      <td>649.649963</td>\n",
       "      <td>279.0</td>\n",
       "      <td>2.330728</td>\n",
       "      <td>20423.227120</td>\n",
       "      <td>111.350044</td>\n",
       "      <td>0.170277</td>\n",
       "      <td>0.926700</td>\n",
       "      <td>1.0</td>\n",
       "    </tr>\n",
       "    <tr>\n",
       "      <th>26</th>\n",
       "      <td>149167580.0</td>\n",
       "      <td>2021.0</td>\n",
       "      <td>Q4</td>\n",
       "      <td>AMER</td>\n",
       "      <td>CO</td>\n",
       "      <td>SMB</td>\n",
       "      <td>DISPLAY</td>\n",
       "      <td>REMK</td>\n",
       "      <td>Type 288347008 (LENA - B Lead)</td>\n",
       "      <td>Google SMB | Q3 2021 | Acquisition | GDN CO RMKT</td>\n",
       "      <td>...</td>\n",
       "      <td>738.0</td>\n",
       "      <td>622688.0</td>\n",
       "      <td>552.239258</td>\n",
       "      <td>237.0</td>\n",
       "      <td>2.331061</td>\n",
       "      <td>12694.184520</td>\n",
       "      <td>185.760742</td>\n",
       "      <td>0.335840</td>\n",
       "      <td>0.991300</td>\n",
       "      <td>1.0</td>\n",
       "    </tr>\n",
       "    <tr>\n",
       "      <th>38</th>\n",
       "      <td>149544427.0</td>\n",
       "      <td>2022.0</td>\n",
       "      <td>Q1</td>\n",
       "      <td>EMEA</td>\n",
       "      <td>BR</td>\n",
       "      <td>SMB</td>\n",
       "      <td>DISPLAY</td>\n",
       "      <td>non-REMK</td>\n",
       "      <td>Type 288347008 (LENA - B Lead)</td>\n",
       "      <td>Study #1: GDN Brazil Prospects</td>\n",
       "      <td>...</td>\n",
       "      <td>7305.0</td>\n",
       "      <td>3588115.0</td>\n",
       "      <td>6584.324219</td>\n",
       "      <td>2823.0</td>\n",
       "      <td>2.329719</td>\n",
       "      <td>333900.618917</td>\n",
       "      <td>720.675659</td>\n",
       "      <td>0.109453</td>\n",
       "      <td>0.989379</td>\n",
       "      <td>1.0</td>\n",
       "    </tr>\n",
       "  </tbody>\n",
       "</table>\n",
       "<p>5 rows × 21 columns</p>\n",
       "</div>"
      ],
      "text/plain": [
       "       study_id    year quarter region country   pa  channel    tactic  \\\n",
       "13  148612498.0  2021.0      Q1   AMER      US  SMB  DISPLAY      REMK   \n",
       "21  149166897.0  2021.0      Q4   AMER      AR  SMB  DISPLAY      REMK   \n",
       "22  149167411.0  2021.0      Q4   AMER      AR  SMB  DISPLAY  non-REMK   \n",
       "26  149167580.0  2021.0      Q4   AMER      CO  SMB  DISPLAY      REMK   \n",
       "38  149544427.0  2022.0      Q1   EMEA      BR  SMB  DISPLAY  non-REMK   \n",
       "\n",
       "                        conversion  \\\n",
       "13  Type 288347008 (LENA - B Lead)   \n",
       "21  Type 288347008 (LENA - B Lead)   \n",
       "22  Type 288347008 (LENA - B Lead)   \n",
       "26  Type 288347008 (LENA - B Lead)   \n",
       "38  Type 288347008 (LENA - B Lead)   \n",
       "\n",
       "                                          study_name  ...  exposed  \\\n",
       "13  Google SMB | Q1 2021 | Acquisition | GDN US RMKT  ...   5735.0   \n",
       "21  Google SMB | Q3 2021 | Acquisition | GDN AR RMKT  ...    913.0   \n",
       "22  Google SMB | Q3 2021 | Acquisition | GDN AR Pros  ...    761.0   \n",
       "26  Google SMB | Q3 2021 | Acquisition | GDN CO RMKT  ...    738.0   \n",
       "38                    Study #1: GDN Brazil Prospects  ...   7305.0   \n",
       "\n",
       "    control_user_count  scaled_control  control  scaling_factor  \\\n",
       "13            334180.0     5079.615234   2177.0        2.330932   \n",
       "21           1447421.0      790.586853    338.0        2.331689   \n",
       "22           1163660.0      649.649963    279.0        2.330728   \n",
       "26            622688.0      552.239258    237.0        2.331061   \n",
       "38           3588115.0     6584.324219   2823.0        2.329719   \n",
       "\n",
       "    cost_spent_on_exposed_group  absolute_lift  relative_lift  \\\n",
       "13                 27861.472510     655.384583       0.130174   \n",
       "21                 28952.369800     122.413147       0.158467   \n",
       "22                 20423.227120     111.350044       0.170277   \n",
       "26                 12694.184520     185.760742       0.335840   \n",
       "38                333900.618917     720.675659       0.109453   \n",
       "\n",
       "    probability_of_lift  Significant_Spend  \n",
       "13             0.996500                1.0  \n",
       "21             0.969700                1.0  \n",
       "22             0.926700                1.0  \n",
       "26             0.991300                1.0  \n",
       "38             0.989379                1.0  \n",
       "\n",
       "[5 rows x 21 columns]"
      ]
     },
     "execution_count": 11,
     "metadata": {},
     "output_type": "execute_result"
    }
   ],
   "source": [
    "smb_2022_fixed.head()"
   ]
  },
  {
   "cell_type": "code",
   "execution_count": 12,
   "id": "8deac436",
   "metadata": {},
   "outputs": [
    {
     "data": {
      "text/html": [
       "<div>\n",
       "<style scoped>\n",
       "    .dataframe tbody tr th:only-of-type {\n",
       "        vertical-align: middle;\n",
       "    }\n",
       "\n",
       "    .dataframe tbody tr th {\n",
       "        vertical-align: top;\n",
       "    }\n",
       "\n",
       "    .dataframe thead th {\n",
       "        text-align: right;\n",
       "    }\n",
       "</style>\n",
       "<table border=\"1\" class=\"dataframe\">\n",
       "  <thead>\n",
       "    <tr style=\"text-align: right;\">\n",
       "      <th></th>\n",
       "      <th>study_id</th>\n",
       "      <th>year</th>\n",
       "      <th>treatment_user_count</th>\n",
       "      <th>exposed</th>\n",
       "      <th>control_user_count</th>\n",
       "      <th>scaled_control</th>\n",
       "      <th>control</th>\n",
       "      <th>scaling_factor</th>\n",
       "      <th>cost_spent_on_exposed_group</th>\n",
       "      <th>absolute_lift</th>\n",
       "      <th>relative_lift</th>\n",
       "      <th>probability_of_lift</th>\n",
       "      <th>Significant_Spend</th>\n",
       "    </tr>\n",
       "  </thead>\n",
       "  <tbody>\n",
       "    <tr>\n",
       "      <th>count</th>\n",
       "      <td>3.200000e+01</td>\n",
       "      <td>32.000000</td>\n",
       "      <td>3.200000e+01</td>\n",
       "      <td>32.000000</td>\n",
       "      <td>3.200000e+01</td>\n",
       "      <td>32.000000</td>\n",
       "      <td>32.000000</td>\n",
       "      <td>32.000000</td>\n",
       "      <td>32.000000</td>\n",
       "      <td>32.000000</td>\n",
       "      <td>32.000000</td>\n",
       "      <td>32.000000</td>\n",
       "      <td>32.0</td>\n",
       "    </tr>\n",
       "    <tr>\n",
       "      <th>mean</th>\n",
       "      <td>6.614891e+07</td>\n",
       "      <td>2021.875000</td>\n",
       "      <td>8.626455e+06</td>\n",
       "      <td>9136.500000</td>\n",
       "      <td>3.733505e+06</td>\n",
       "      <td>8078.467573</td>\n",
       "      <td>3517.750000</td>\n",
       "      <td>2.326101</td>\n",
       "      <td>51277.508443</td>\n",
       "      <td>1058.032413</td>\n",
       "      <td>0.241100</td>\n",
       "      <td>0.973495</td>\n",
       "      <td>1.0</td>\n",
       "    </tr>\n",
       "    <tr>\n",
       "      <th>std</th>\n",
       "      <td>7.068666e+07</td>\n",
       "      <td>0.336011</td>\n",
       "      <td>1.779433e+07</td>\n",
       "      <td>12255.326687</td>\n",
       "      <td>7.701590e+06</td>\n",
       "      <td>10742.302499</td>\n",
       "      <td>4728.978148</td>\n",
       "      <td>0.043323</td>\n",
       "      <td>70138.888857</td>\n",
       "      <td>2059.593853</td>\n",
       "      <td>0.222534</td>\n",
       "      <td>0.030847</td>\n",
       "      <td>0.0</td>\n",
       "    </tr>\n",
       "    <tr>\n",
       "      <th>min</th>\n",
       "      <td>5.475007e+06</td>\n",
       "      <td>2021.000000</td>\n",
       "      <td>2.941400e+04</td>\n",
       "      <td>107.000000</td>\n",
       "      <td>1.272900e+04</td>\n",
       "      <td>50.999996</td>\n",
       "      <td>22.000000</td>\n",
       "      <td>2.223291</td>\n",
       "      <td>2302.680070</td>\n",
       "      <td>46.353321</td>\n",
       "      <td>0.043823</td>\n",
       "      <td>0.904501</td>\n",
       "      <td>1.0</td>\n",
       "    </tr>\n",
       "    <tr>\n",
       "      <th>25%</th>\n",
       "      <td>6.336154e+06</td>\n",
       "      <td>2022.000000</td>\n",
       "      <td>3.080122e+05</td>\n",
       "      <td>875.000000</td>\n",
       "      <td>1.311148e+05</td>\n",
       "      <td>755.352631</td>\n",
       "      <td>323.250000</td>\n",
       "      <td>2.314921</td>\n",
       "      <td>12099.522580</td>\n",
       "      <td>179.840870</td>\n",
       "      <td>0.104656</td>\n",
       "      <td>0.947100</td>\n",
       "      <td>1.0</td>\n",
       "    </tr>\n",
       "    <tr>\n",
       "      <th>50%</th>\n",
       "      <td>6.370520e+06</td>\n",
       "      <td>2022.000000</td>\n",
       "      <td>1.572476e+06</td>\n",
       "      <td>3709.500000</td>\n",
       "      <td>6.746880e+05</td>\n",
       "      <td>3072.500000</td>\n",
       "      <td>1316.500000</td>\n",
       "      <td>2.328779</td>\n",
       "      <td>30943.165127</td>\n",
       "      <td>519.500000</td>\n",
       "      <td>0.156794</td>\n",
       "      <td>0.989727</td>\n",
       "      <td>1.0</td>\n",
       "    </tr>\n",
       "    <tr>\n",
       "      <th>75%</th>\n",
       "      <td>1.495445e+08</td>\n",
       "      <td>2022.000000</td>\n",
       "      <td>9.667861e+06</td>\n",
       "      <td>11595.000000</td>\n",
       "      <td>4.166923e+06</td>\n",
       "      <td>10485.000000</td>\n",
       "      <td>4542.250000</td>\n",
       "      <td>2.333190</td>\n",
       "      <td>60712.488899</td>\n",
       "      <td>1043.750000</td>\n",
       "      <td>0.336633</td>\n",
       "      <td>0.997563</td>\n",
       "      <td>1.0</td>\n",
       "    </tr>\n",
       "    <tr>\n",
       "      <th>max</th>\n",
       "      <td>1.497033e+08</td>\n",
       "      <td>2022.000000</td>\n",
       "      <td>9.687323e+07</td>\n",
       "      <td>41750.000000</td>\n",
       "      <td>4.191061e+07</td>\n",
       "      <td>38511.000000</td>\n",
       "      <td>17142.000000</td>\n",
       "      <td>2.511795</td>\n",
       "      <td>333900.618917</td>\n",
       "      <td>11330.000000</td>\n",
       "      <td>1.098039</td>\n",
       "      <td>1.000000</td>\n",
       "      <td>1.0</td>\n",
       "    </tr>\n",
       "  </tbody>\n",
       "</table>\n",
       "</div>"
      ],
      "text/plain": [
       "           study_id         year  treatment_user_count       exposed  \\\n",
       "count  3.200000e+01    32.000000          3.200000e+01     32.000000   \n",
       "mean   6.614891e+07  2021.875000          8.626455e+06   9136.500000   \n",
       "std    7.068666e+07     0.336011          1.779433e+07  12255.326687   \n",
       "min    5.475007e+06  2021.000000          2.941400e+04    107.000000   \n",
       "25%    6.336154e+06  2022.000000          3.080122e+05    875.000000   \n",
       "50%    6.370520e+06  2022.000000          1.572476e+06   3709.500000   \n",
       "75%    1.495445e+08  2022.000000          9.667861e+06  11595.000000   \n",
       "max    1.497033e+08  2022.000000          9.687323e+07  41750.000000   \n",
       "\n",
       "       control_user_count  scaled_control       control  scaling_factor  \\\n",
       "count        3.200000e+01       32.000000     32.000000       32.000000   \n",
       "mean         3.733505e+06     8078.467573   3517.750000        2.326101   \n",
       "std          7.701590e+06    10742.302499   4728.978148        0.043323   \n",
       "min          1.272900e+04       50.999996     22.000000        2.223291   \n",
       "25%          1.311148e+05      755.352631    323.250000        2.314921   \n",
       "50%          6.746880e+05     3072.500000   1316.500000        2.328779   \n",
       "75%          4.166923e+06    10485.000000   4542.250000        2.333190   \n",
       "max          4.191061e+07    38511.000000  17142.000000        2.511795   \n",
       "\n",
       "       cost_spent_on_exposed_group  absolute_lift  relative_lift  \\\n",
       "count                    32.000000      32.000000      32.000000   \n",
       "mean                  51277.508443    1058.032413       0.241100   \n",
       "std                   70138.888857    2059.593853       0.222534   \n",
       "min                    2302.680070      46.353321       0.043823   \n",
       "25%                   12099.522580     179.840870       0.104656   \n",
       "50%                   30943.165127     519.500000       0.156794   \n",
       "75%                   60712.488899    1043.750000       0.336633   \n",
       "max                  333900.618917   11330.000000       1.098039   \n",
       "\n",
       "       probability_of_lift  Significant_Spend  \n",
       "count            32.000000               32.0  \n",
       "mean              0.973495                1.0  \n",
       "std               0.030847                0.0  \n",
       "min               0.904501                1.0  \n",
       "25%               0.947100                1.0  \n",
       "50%               0.989727                1.0  \n",
       "75%               0.997563                1.0  \n",
       "max               1.000000                1.0  "
      ]
     },
     "execution_count": 12,
     "metadata": {},
     "output_type": "execute_result"
    }
   ],
   "source": [
    "smb_2022_fixed.describe()"
   ]
  },
  {
   "cell_type": "code",
   "execution_count": 13,
   "id": "5f81dce5",
   "metadata": {},
   "outputs": [
    {
     "data": {
      "text/plain": [
       "DISPLAY      14\n",
       "DISCOVERY    12\n",
       "YOUTUBE       6\n",
       "Name: channel, dtype: int64"
      ]
     },
     "execution_count": 13,
     "metadata": {},
     "output_type": "execute_result"
    }
   ],
   "source": [
    "smb_2022_fixed['channel'].value_counts()"
   ]
  },
  {
   "cell_type": "code",
   "execution_count": 14,
   "id": "cb972e5b",
   "metadata": {},
   "outputs": [
    {
     "data": {
      "text/plain": [
       "study_id                       float64\n",
       "year                           float64\n",
       "quarter                         object\n",
       "region                          object\n",
       "country                         object\n",
       "pa                              object\n",
       "channel                         object\n",
       "tactic                          object\n",
       "conversion                      object\n",
       "study_name                      object\n",
       "treatment_user_count           float64\n",
       "exposed                        float64\n",
       "control_user_count             float64\n",
       "scaled_control                 float64\n",
       "control                        float64\n",
       "scaling_factor                 float64\n",
       "cost_spent_on_exposed_group    float64\n",
       "absolute_lift                  float64\n",
       "relative_lift                  float64\n",
       "probability_of_lift            float64\n",
       "Significant_Spend              float64\n",
       "dtype: object"
      ]
     },
     "execution_count": 14,
     "metadata": {},
     "output_type": "execute_result"
    }
   ],
   "source": [
    "#making sure dtypes are integers for calculations\n",
    "smb_2022_fixed.dtypes"
   ]
  },
  {
   "cell_type": "code",
   "execution_count": 15,
   "id": "3da5f9d2",
   "metadata": {},
   "outputs": [
    {
     "data": {
      "text/html": [
       "<div>\n",
       "<style scoped>\n",
       "    .dataframe tbody tr th:only-of-type {\n",
       "        vertical-align: middle;\n",
       "    }\n",
       "\n",
       "    .dataframe tbody tr th {\n",
       "        vertical-align: top;\n",
       "    }\n",
       "\n",
       "    .dataframe thead th {\n",
       "        text-align: right;\n",
       "    }\n",
       "</style>\n",
       "<table border=\"1\" class=\"dataframe\">\n",
       "  <thead>\n",
       "    <tr style=\"text-align: right;\">\n",
       "      <th></th>\n",
       "      <th>study_id</th>\n",
       "      <th>year</th>\n",
       "      <th>quarter</th>\n",
       "      <th>region</th>\n",
       "      <th>country</th>\n",
       "      <th>pa</th>\n",
       "      <th>channel</th>\n",
       "      <th>tactic</th>\n",
       "      <th>conversion</th>\n",
       "      <th>study_name</th>\n",
       "      <th>...</th>\n",
       "      <th>exposed</th>\n",
       "      <th>control_user_count</th>\n",
       "      <th>scaled_control</th>\n",
       "      <th>control</th>\n",
       "      <th>scaling_factor</th>\n",
       "      <th>cost_spent_on_exposed_group</th>\n",
       "      <th>absolute_lift</th>\n",
       "      <th>relative_lift</th>\n",
       "      <th>probability_of_lift</th>\n",
       "      <th>Significant_Spend</th>\n",
       "    </tr>\n",
       "  </thead>\n",
       "  <tbody>\n",
       "    <tr>\n",
       "      <th>0</th>\n",
       "      <td>148612498.0</td>\n",
       "      <td>2021.0</td>\n",
       "      <td>Q1</td>\n",
       "      <td>AMER</td>\n",
       "      <td>US</td>\n",
       "      <td>SMB</td>\n",
       "      <td>DISPLAY</td>\n",
       "      <td>REMK</td>\n",
       "      <td>Type 288347008 (LENA - B Lead)</td>\n",
       "      <td>Google SMB | Q1 2021 | Acquisition | GDN US RMKT</td>\n",
       "      <td>...</td>\n",
       "      <td>5735.0</td>\n",
       "      <td>334180.0</td>\n",
       "      <td>5079.615234</td>\n",
       "      <td>2177.0</td>\n",
       "      <td>2.330932</td>\n",
       "      <td>27861.472510</td>\n",
       "      <td>655.384583</td>\n",
       "      <td>0.130174</td>\n",
       "      <td>0.996500</td>\n",
       "      <td>1.0</td>\n",
       "    </tr>\n",
       "    <tr>\n",
       "      <th>1</th>\n",
       "      <td>149166897.0</td>\n",
       "      <td>2021.0</td>\n",
       "      <td>Q4</td>\n",
       "      <td>AMER</td>\n",
       "      <td>AR</td>\n",
       "      <td>SMB</td>\n",
       "      <td>DISPLAY</td>\n",
       "      <td>REMK</td>\n",
       "      <td>Type 288347008 (LENA - B Lead)</td>\n",
       "      <td>Google SMB | Q3 2021 | Acquisition | GDN AR RMKT</td>\n",
       "      <td>...</td>\n",
       "      <td>913.0</td>\n",
       "      <td>1447421.0</td>\n",
       "      <td>790.586853</td>\n",
       "      <td>338.0</td>\n",
       "      <td>2.331689</td>\n",
       "      <td>28952.369800</td>\n",
       "      <td>122.413147</td>\n",
       "      <td>0.158467</td>\n",
       "      <td>0.969700</td>\n",
       "      <td>1.0</td>\n",
       "    </tr>\n",
       "    <tr>\n",
       "      <th>2</th>\n",
       "      <td>149167411.0</td>\n",
       "      <td>2021.0</td>\n",
       "      <td>Q4</td>\n",
       "      <td>AMER</td>\n",
       "      <td>AR</td>\n",
       "      <td>SMB</td>\n",
       "      <td>DISPLAY</td>\n",
       "      <td>non-REMK</td>\n",
       "      <td>Type 288347008 (LENA - B Lead)</td>\n",
       "      <td>Google SMB | Q3 2021 | Acquisition | GDN AR Pros</td>\n",
       "      <td>...</td>\n",
       "      <td>761.0</td>\n",
       "      <td>1163660.0</td>\n",
       "      <td>649.649963</td>\n",
       "      <td>279.0</td>\n",
       "      <td>2.330728</td>\n",
       "      <td>20423.227120</td>\n",
       "      <td>111.350044</td>\n",
       "      <td>0.170277</td>\n",
       "      <td>0.926700</td>\n",
       "      <td>1.0</td>\n",
       "    </tr>\n",
       "    <tr>\n",
       "      <th>3</th>\n",
       "      <td>149167580.0</td>\n",
       "      <td>2021.0</td>\n",
       "      <td>Q4</td>\n",
       "      <td>AMER</td>\n",
       "      <td>CO</td>\n",
       "      <td>SMB</td>\n",
       "      <td>DISPLAY</td>\n",
       "      <td>REMK</td>\n",
       "      <td>Type 288347008 (LENA - B Lead)</td>\n",
       "      <td>Google SMB | Q3 2021 | Acquisition | GDN CO RMKT</td>\n",
       "      <td>...</td>\n",
       "      <td>738.0</td>\n",
       "      <td>622688.0</td>\n",
       "      <td>552.239258</td>\n",
       "      <td>237.0</td>\n",
       "      <td>2.331061</td>\n",
       "      <td>12694.184520</td>\n",
       "      <td>185.760742</td>\n",
       "      <td>0.335840</td>\n",
       "      <td>0.991300</td>\n",
       "      <td>1.0</td>\n",
       "    </tr>\n",
       "    <tr>\n",
       "      <th>4</th>\n",
       "      <td>149544427.0</td>\n",
       "      <td>2022.0</td>\n",
       "      <td>Q1</td>\n",
       "      <td>EMEA</td>\n",
       "      <td>BR</td>\n",
       "      <td>SMB</td>\n",
       "      <td>DISPLAY</td>\n",
       "      <td>non-REMK</td>\n",
       "      <td>Type 288347008 (LENA - B Lead)</td>\n",
       "      <td>Study #1: GDN Brazil Prospects</td>\n",
       "      <td>...</td>\n",
       "      <td>7305.0</td>\n",
       "      <td>3588115.0</td>\n",
       "      <td>6584.324219</td>\n",
       "      <td>2823.0</td>\n",
       "      <td>2.329719</td>\n",
       "      <td>333900.618917</td>\n",
       "      <td>720.675659</td>\n",
       "      <td>0.109453</td>\n",
       "      <td>0.989379</td>\n",
       "      <td>1.0</td>\n",
       "    </tr>\n",
       "  </tbody>\n",
       "</table>\n",
       "<p>5 rows × 21 columns</p>\n",
       "</div>"
      ],
      "text/plain": [
       "      study_id    year quarter region country   pa  channel    tactic  \\\n",
       "0  148612498.0  2021.0      Q1   AMER      US  SMB  DISPLAY      REMK   \n",
       "1  149166897.0  2021.0      Q4   AMER      AR  SMB  DISPLAY      REMK   \n",
       "2  149167411.0  2021.0      Q4   AMER      AR  SMB  DISPLAY  non-REMK   \n",
       "3  149167580.0  2021.0      Q4   AMER      CO  SMB  DISPLAY      REMK   \n",
       "4  149544427.0  2022.0      Q1   EMEA      BR  SMB  DISPLAY  non-REMK   \n",
       "\n",
       "                       conversion  \\\n",
       "0  Type 288347008 (LENA - B Lead)   \n",
       "1  Type 288347008 (LENA - B Lead)   \n",
       "2  Type 288347008 (LENA - B Lead)   \n",
       "3  Type 288347008 (LENA - B Lead)   \n",
       "4  Type 288347008 (LENA - B Lead)   \n",
       "\n",
       "                                         study_name  ...  exposed  \\\n",
       "0  Google SMB | Q1 2021 | Acquisition | GDN US RMKT  ...   5735.0   \n",
       "1  Google SMB | Q3 2021 | Acquisition | GDN AR RMKT  ...    913.0   \n",
       "2  Google SMB | Q3 2021 | Acquisition | GDN AR Pros  ...    761.0   \n",
       "3  Google SMB | Q3 2021 | Acquisition | GDN CO RMKT  ...    738.0   \n",
       "4                    Study #1: GDN Brazil Prospects  ...   7305.0   \n",
       "\n",
       "   control_user_count  scaled_control  control  scaling_factor  \\\n",
       "0            334180.0     5079.615234   2177.0        2.330932   \n",
       "1           1447421.0      790.586853    338.0        2.331689   \n",
       "2           1163660.0      649.649963    279.0        2.330728   \n",
       "3            622688.0      552.239258    237.0        2.331061   \n",
       "4           3588115.0     6584.324219   2823.0        2.329719   \n",
       "\n",
       "   cost_spent_on_exposed_group  absolute_lift  relative_lift  \\\n",
       "0                 27861.472510     655.384583       0.130174   \n",
       "1                 28952.369800     122.413147       0.158467   \n",
       "2                 20423.227120     111.350044       0.170277   \n",
       "3                 12694.184520     185.760742       0.335840   \n",
       "4                333900.618917     720.675659       0.109453   \n",
       "\n",
       "   probability_of_lift  Significant_Spend  \n",
       "0             0.996500                1.0  \n",
       "1             0.969700                1.0  \n",
       "2             0.926700                1.0  \n",
       "3             0.991300                1.0  \n",
       "4             0.989379                1.0  \n",
       "\n",
       "[5 rows x 21 columns]"
      ]
     },
     "execution_count": 15,
     "metadata": {},
     "output_type": "execute_result"
    }
   ],
   "source": [
    "smb_2022_fixed = smb_2022_fixed.reset_index(drop = True)\n",
    "\n",
    "smb_2022_fixed.head()\n"
   ]
  },
  {
   "cell_type": "code",
   "execution_count": 16,
   "id": "af87f25b",
   "metadata": {},
   "outputs": [
    {
     "data": {
      "image/png": "[encoded data removed]",
      "text/plain": [
       "<Figure size 864x576 with 1 Axes>"
      ]
     },
     "metadata": {},
     "output_type": "display_data"
    },
    {
     "data": {
      "image/png": "[encoded data removed]",
      "text/plain": [
       "<Figure size 864x576 with 1 Axes>"
      ]
     },
     "metadata": {},
     "output_type": "display_data"
    },
    {
     "data": {
      "image/png": "[encoded data removed]",
      "text/plain": [
       "<Figure size 864x576 with 1 Axes>"
      ]
     },
     "metadata": {},
     "output_type": "display_data"
    },
    {
     "data": {
      "image/png": "[encoded data removed]",
      "text/plain": [
       "<Figure size 864x576 with 1 Axes>"
      ]
     },
     "metadata": {},
     "output_type": "display_data"
    },
    {
     "data": {
      "image/png": "[encoded data removed]",
      "text/plain": [
       "<Figure size 864x576 with 1 Axes>"
      ]
     },
     "metadata": {},
     "output_type": "display_data"
    },
    {
     "data": {
      "image/png": "[encoded data removed]",
      "text/plain": [
       "<Figure size 864x576 with 1 Axes>"
      ]
     },
     "metadata": {},
     "output_type": "display_data"
    }
   ],
   "source": [
    "def hist_plot(var):\n",
    "    sns.set_style('darkgrid')\n",
    "    plt.figure(figsize=(12,8))\n",
    "    sns.histplot(smb_2022_fixed[var])\n",
    "    plt.title('Studies by ' + var)\n",
    "    plt.xlabel(var)\n",
    "    plt.ylabel('Count')\n",
    "    \n",
    "cols = ['quarter', 'region', 'channel', 'cost_spent_on_exposed_group', 'absolute_lift', 'relative_lift']\n",
    "for col in cols:\n",
    "    hist_plot(col)"
   ]
  },
  {
   "cell_type": "code",
   "execution_count": 17,
   "id": "50a94288",
   "metadata": {},
   "outputs": [
    {
     "data": {
      "text/html": [
       "<div>\n",
       "<style scoped>\n",
       "    .dataframe tbody tr th:only-of-type {\n",
       "        vertical-align: middle;\n",
       "    }\n",
       "\n",
       "    .dataframe tbody tr th {\n",
       "        vertical-align: top;\n",
       "    }\n",
       "\n",
       "    .dataframe thead th {\n",
       "        text-align: right;\n",
       "    }\n",
       "</style>\n",
       "<table border=\"1\" class=\"dataframe\">\n",
       "  <thead>\n",
       "    <tr style=\"text-align: right;\">\n",
       "      <th></th>\n",
       "      <th>study_id</th>\n",
       "      <th>year</th>\n",
       "      <th>quarter</th>\n",
       "      <th>region</th>\n",
       "      <th>country</th>\n",
       "      <th>pa</th>\n",
       "      <th>channel</th>\n",
       "      <th>tactic</th>\n",
       "      <th>conversion</th>\n",
       "      <th>study_name</th>\n",
       "      <th>...</th>\n",
       "      <th>exposed</th>\n",
       "      <th>control_user_count</th>\n",
       "      <th>scaled_control</th>\n",
       "      <th>control</th>\n",
       "      <th>scaling_factor</th>\n",
       "      <th>cost_spent_on_exposed_group</th>\n",
       "      <th>absolute_lift</th>\n",
       "      <th>relative_lift</th>\n",
       "      <th>probability_of_lift</th>\n",
       "      <th>Significant_Spend</th>\n",
       "    </tr>\n",
       "  </thead>\n",
       "  <tbody>\n",
       "    <tr>\n",
       "      <th>27</th>\n",
       "      <td>149702957.0</td>\n",
       "      <td>2022.0</td>\n",
       "      <td>Q2</td>\n",
       "      <td>EMEA</td>\n",
       "      <td>CA</td>\n",
       "      <td>SMB</td>\n",
       "      <td>DISPLAY</td>\n",
       "      <td>non-REMK</td>\n",
       "      <td>Type 288347008 (LENA - B Lead)</td>\n",
       "      <td>Google Ads SMB_NA_CA_Q2_22_LENA - B Lead_GDN_N...</td>\n",
       "      <td>...</td>\n",
       "      <td>107.0</td>\n",
       "      <td>292301.0</td>\n",
       "      <td>50.999996</td>\n",
       "      <td>22.0</td>\n",
       "      <td>2.318918</td>\n",
       "      <td>38765.027518</td>\n",
       "      <td>56.000004</td>\n",
       "      <td>1.098039</td>\n",
       "      <td>0.994082</td>\n",
       "      <td>1.0</td>\n",
       "    </tr>\n",
       "  </tbody>\n",
       "</table>\n",
       "<p>1 rows × 21 columns</p>\n",
       "</div>"
      ],
      "text/plain": [
       "       study_id    year quarter region country   pa  channel    tactic  \\\n",
       "27  149702957.0  2022.0      Q2   EMEA      CA  SMB  DISPLAY  non-REMK   \n",
       "\n",
       "                        conversion  \\\n",
       "27  Type 288347008 (LENA - B Lead)   \n",
       "\n",
       "                                           study_name  ...  exposed  \\\n",
       "27  Google Ads SMB_NA_CA_Q2_22_LENA - B Lead_GDN_N...  ...    107.0   \n",
       "\n",
       "    control_user_count  scaled_control  control  scaling_factor  \\\n",
       "27            292301.0       50.999996     22.0        2.318918   \n",
       "\n",
       "    cost_spent_on_exposed_group  absolute_lift  relative_lift  \\\n",
       "27                 38765.027518      56.000004       1.098039   \n",
       "\n",
       "    probability_of_lift  Significant_Spend  \n",
       "27             0.994082                1.0  \n",
       "\n",
       "[1 rows x 21 columns]"
      ]
     },
     "execution_count": 17,
     "metadata": {},
     "output_type": "execute_result"
    }
   ],
   "source": [
    "#looking at which study has very high relative lift \n",
    "smb_2022_fixed[smb_2022_fixed['relative_lift']>1]"
   ]
  },
  {
   "cell_type": "markdown",
   "id": "022f6591",
   "metadata": {},
   "source": [
    "### Looking at total spend by channel and average spend by channel"
   ]
  },
  {
   "cell_type": "code",
   "execution_count": 23,
   "id": "2a4525c9",
   "metadata": {},
   "outputs": [
    {
     "data": {
      "text/plain": [
       "<AxesSubplot:title={'center':'Total Cost Spent Per Channel'}, xlabel='Channel', ylabel='Cost Spent'>"
      ]
     },
     "execution_count": 23,
     "metadata": {},
     "output_type": "execute_result"
    },
    {
     "data": {
      "image/png": "[encoded data removed]",
      "text/plain": [
       "<Figure size 720x432 with 1 Axes>"
      ]
     },
     "metadata": {},
     "output_type": "display_data"
    }
   ],
   "source": [
    "#total spent by channel \n",
    "sns.set(style=\"darkgrid\")\n",
    "smb_groups = smb_2022_fixed.groupby(['channel'])['cost_spent_on_exposed_group'].sum()\n",
    "smb_groups.plot(kind='bar', title='Total Cost Spent Per Channel',\n",
    "               ylabel='Cost Spent', xlabel='Channel', figsize=(10, 6))\n",
    "\n"
   ]
  },
  {
   "cell_type": "code",
   "execution_count": 24,
   "id": "2f39a722",
   "metadata": {},
   "outputs": [
    {
     "data": {
      "text/plain": [
       "<AxesSubplot:title={'center':'Average Cost Spent on Exposed Group by Channel'}, xlabel='Channel', ylabel='Average Cost Spent'>"
      ]
     },
     "execution_count": 24,
     "metadata": {},
     "output_type": "execute_result"
    },
    {
     "data": {
      "image/png": "[encoded data removed]",
      "text/plain": [
       "<Figure size 720x432 with 1 Axes>"
      ]
     },
     "metadata": {},
     "output_type": "display_data"
    }
   ],
   "source": [
    "#average cost spent on studies by channel\n",
    "\n",
    "sns.set(style=\"darkgrid\")\n",
    "smb_groups_mean = smb_2022_fixed.groupby('channel')['cost_spent_on_exposed_group'].mean()\n",
    "smb_groups_mean.plot(kind='bar', title='Average Cost Spent on Exposed Group by Channel',\n",
    "               ylabel='Average Cost Spent', xlabel='Channel', figsize=(10, 6))\n"
   ]
  },
  {
   "cell_type": "markdown",
   "id": "fa926b35",
   "metadata": {},
   "source": [
    "### Boxplot of total spend by channel"
   ]
  },
  {
   "cell_type": "code",
   "execution_count": 25,
   "id": "f29da0c5",
   "metadata": {},
   "outputs": [
    {
     "data": {
      "text/plain": [
       "<AxesSubplot:title={'center':'cost_spent_on_exposed_group'}, xlabel='channel'>"
      ]
     },
     "execution_count": 25,
     "metadata": {},
     "output_type": "execute_result"
    },
    {
     "data": {
      "image/png": "[encoded data removed]",
      "text/plain": [
       "<Figure size 864x576 with 1 Axes>"
      ]
     },
     "metadata": {},
     "output_type": "display_data"
    }
   ],
   "source": [
    "#look at ranges within each channel\n",
    "\n",
    "smb_2022_fixed.boxplot(column='cost_spent_on_exposed_group',by='channel',figsize=(12,8))\n"
   ]
  },
  {
   "cell_type": "markdown",
   "id": "58aee381",
   "metadata": {},
   "source": [
    "### Finding correlations between features - most important to look at how they correlate with absolute lift"
   ]
  },
  {
   "cell_type": "code",
   "execution_count": 26,
   "id": "024dfaf4",
   "metadata": {},
   "outputs": [
    {
     "data": {
      "text/html": [
       "<div>\n",
       "<style scoped>\n",
       "    .dataframe tbody tr th:only-of-type {\n",
       "        vertical-align: middle;\n",
       "    }\n",
       "\n",
       "    .dataframe tbody tr th {\n",
       "        vertical-align: top;\n",
       "    }\n",
       "\n",
       "    .dataframe thead th {\n",
       "        text-align: right;\n",
       "    }\n",
       "</style>\n",
       "<table border=\"1\" class=\"dataframe\">\n",
       "  <thead>\n",
       "    <tr style=\"text-align: right;\">\n",
       "      <th></th>\n",
       "      <th>study_id</th>\n",
       "      <th>year</th>\n",
       "      <th>treatment_user_count</th>\n",
       "      <th>exposed</th>\n",
       "      <th>control_user_count</th>\n",
       "      <th>scaled_control</th>\n",
       "      <th>control</th>\n",
       "      <th>scaling_factor</th>\n",
       "      <th>cost_spent_on_exposed_group</th>\n",
       "      <th>absolute_lift</th>\n",
       "      <th>relative_lift</th>\n",
       "      <th>probability_of_lift</th>\n",
       "      <th>Significant_Spend</th>\n",
       "    </tr>\n",
       "  </thead>\n",
       "  <tbody>\n",
       "    <tr>\n",
       "      <th>study_id</th>\n",
       "      <td>1.000000</td>\n",
       "      <td>-0.450252</td>\n",
       "      <td>-0.316012</td>\n",
       "      <td>-0.541052</td>\n",
       "      <td>-0.317096</td>\n",
       "      <td>-0.549514</td>\n",
       "      <td>-0.545839</td>\n",
       "      <td>0.199063</td>\n",
       "      <td>0.031234</td>\n",
       "      <td>-0.353338</td>\n",
       "      <td>0.566571</td>\n",
       "      <td>0.043420</td>\n",
       "      <td>NaN</td>\n",
       "    </tr>\n",
       "    <tr>\n",
       "      <th>year</th>\n",
       "      <td>-0.450252</td>\n",
       "      <td>1.000000</td>\n",
       "      <td>0.141289</td>\n",
       "      <td>0.222466</td>\n",
       "      <td>0.141682</td>\n",
       "      <td>0.225584</td>\n",
       "      <td>0.224123</td>\n",
       "      <td>-0.044331</td>\n",
       "      <td>0.157652</td>\n",
       "      <td>0.147166</td>\n",
       "      <td>0.073186</td>\n",
       "      <td>0.030436</td>\n",
       "      <td>NaN</td>\n",
       "    </tr>\n",
       "    <tr>\n",
       "      <th>treatment_user_count</th>\n",
       "      <td>-0.316012</td>\n",
       "      <td>0.141289</td>\n",
       "      <td>1.000000</td>\n",
       "      <td>0.573278</td>\n",
       "      <td>0.999985</td>\n",
       "      <td>0.598492</td>\n",
       "      <td>0.589523</td>\n",
       "      <td>-0.176512</td>\n",
       "      <td>0.566645</td>\n",
       "      <td>0.289634</td>\n",
       "      <td>-0.253219</td>\n",
       "      <td>0.156500</td>\n",
       "      <td>NaN</td>\n",
       "    </tr>\n",
       "    <tr>\n",
       "      <th>exposed</th>\n",
       "      <td>-0.541052</td>\n",
       "      <td>0.222466</td>\n",
       "      <td>0.573278</td>\n",
       "      <td>1.000000</td>\n",
       "      <td>0.576167</td>\n",
       "      <td>0.992584</td>\n",
       "      <td>0.993978</td>\n",
       "      <td>-0.494901</td>\n",
       "      <td>0.306091</td>\n",
       "      <td>0.773303</td>\n",
       "      <td>-0.347546</td>\n",
       "      <td>0.063335</td>\n",
       "      <td>NaN</td>\n",
       "    </tr>\n",
       "    <tr>\n",
       "      <th>control_user_count</th>\n",
       "      <td>-0.317096</td>\n",
       "      <td>0.141682</td>\n",
       "      <td>0.999985</td>\n",
       "      <td>0.576167</td>\n",
       "      <td>1.000000</td>\n",
       "      <td>0.601208</td>\n",
       "      <td>0.592319</td>\n",
       "      <td>-0.179609</td>\n",
       "      <td>0.566206</td>\n",
       "      <td>0.292658</td>\n",
       "      <td>-0.253135</td>\n",
       "      <td>0.158089</td>\n",
       "      <td>NaN</td>\n",
       "    </tr>\n",
       "    <tr>\n",
       "      <th>scaled_control</th>\n",
       "      <td>-0.549514</td>\n",
       "      <td>0.225584</td>\n",
       "      <td>0.598492</td>\n",
       "      <td>0.992584</td>\n",
       "      <td>0.601208</td>\n",
       "      <td>1.000000</td>\n",
       "      <td>0.999773</td>\n",
       "      <td>-0.467157</td>\n",
       "      <td>0.320149</td>\n",
       "      <td>0.690494</td>\n",
       "      <td>-0.384083</td>\n",
       "      <td>0.037817</td>\n",
       "      <td>NaN</td>\n",
       "    </tr>\n",
       "    <tr>\n",
       "      <th>control</th>\n",
       "      <td>-0.545839</td>\n",
       "      <td>0.224123</td>\n",
       "      <td>0.589523</td>\n",
       "      <td>0.993978</td>\n",
       "      <td>0.592319</td>\n",
       "      <td>0.999773</td>\n",
       "      <td>1.000000</td>\n",
       "      <td>-0.477674</td>\n",
       "      <td>0.314292</td>\n",
       "      <td>0.699977</td>\n",
       "      <td>-0.376922</td>\n",
       "      <td>0.043224</td>\n",
       "      <td>NaN</td>\n",
       "    </tr>\n",
       "    <tr>\n",
       "      <th>scaling_factor</th>\n",
       "      <td>0.199063</td>\n",
       "      <td>-0.044331</td>\n",
       "      <td>-0.176512</td>\n",
       "      <td>-0.494901</td>\n",
       "      <td>-0.179609</td>\n",
       "      <td>-0.467157</td>\n",
       "      <td>-0.477674</td>\n",
       "      <td>1.000000</td>\n",
       "      <td>-0.022054</td>\n",
       "      <td>-0.508273</td>\n",
       "      <td>-0.034150</td>\n",
       "      <td>-0.007537</td>\n",
       "      <td>NaN</td>\n",
       "    </tr>\n",
       "    <tr>\n",
       "      <th>cost_spent_on_exposed_group</th>\n",
       "      <td>0.031234</td>\n",
       "      <td>0.157652</td>\n",
       "      <td>0.566645</td>\n",
       "      <td>0.306091</td>\n",
       "      <td>0.566206</td>\n",
       "      <td>0.320149</td>\n",
       "      <td>0.314292</td>\n",
       "      <td>-0.022054</td>\n",
       "      <td>1.000000</td>\n",
       "      <td>0.151538</td>\n",
       "      <td>-0.172306</td>\n",
       "      <td>0.260994</td>\n",
       "      <td>NaN</td>\n",
       "    </tr>\n",
       "    <tr>\n",
       "      <th>absolute_lift</th>\n",
       "      <td>-0.353338</td>\n",
       "      <td>0.147166</td>\n",
       "      <td>0.289634</td>\n",
       "      <td>0.773303</td>\n",
       "      <td>0.292658</td>\n",
       "      <td>0.690494</td>\n",
       "      <td>0.699977</td>\n",
       "      <td>-0.508273</td>\n",
       "      <td>0.151538</td>\n",
       "      <td>1.000000</td>\n",
       "      <td>-0.064746</td>\n",
       "      <td>0.179625</td>\n",
       "      <td>NaN</td>\n",
       "    </tr>\n",
       "    <tr>\n",
       "      <th>relative_lift</th>\n",
       "      <td>0.566571</td>\n",
       "      <td>0.073186</td>\n",
       "      <td>-0.253219</td>\n",
       "      <td>-0.347546</td>\n",
       "      <td>-0.253135</td>\n",
       "      <td>-0.384083</td>\n",
       "      <td>-0.376922</td>\n",
       "      <td>-0.034150</td>\n",
       "      <td>-0.172306</td>\n",
       "      <td>-0.064746</td>\n",
       "      <td>1.000000</td>\n",
       "      <td>0.151523</td>\n",
       "      <td>NaN</td>\n",
       "    </tr>\n",
       "    <tr>\n",
       "      <th>probability_of_lift</th>\n",
       "      <td>0.043420</td>\n",
       "      <td>0.030436</td>\n",
       "      <td>0.156500</td>\n",
       "      <td>0.063335</td>\n",
       "      <td>0.158089</td>\n",
       "      <td>0.037817</td>\n",
       "      <td>0.043224</td>\n",
       "      <td>-0.007537</td>\n",
       "      <td>0.260994</td>\n",
       "      <td>0.179625</td>\n",
       "      <td>0.151523</td>\n",
       "      <td>1.000000</td>\n",
       "      <td>NaN</td>\n",
       "    </tr>\n",
       "    <tr>\n",
       "      <th>Significant_Spend</th>\n",
       "      <td>NaN</td>\n",
       "      <td>NaN</td>\n",
       "      <td>NaN</td>\n",
       "      <td>NaN</td>\n",
       "      <td>NaN</td>\n",
       "      <td>NaN</td>\n",
       "      <td>NaN</td>\n",
       "      <td>NaN</td>\n",
       "      <td>NaN</td>\n",
       "      <td>NaN</td>\n",
       "      <td>NaN</td>\n",
       "      <td>NaN</td>\n",
       "      <td>NaN</td>\n",
       "    </tr>\n",
       "  </tbody>\n",
       "</table>\n",
       "</div>"
      ],
      "text/plain": [
       "                             study_id      year  treatment_user_count  \\\n",
       "study_id                     1.000000 -0.450252             -0.316012   \n",
       "year                        -0.450252  1.000000              0.141289   \n",
       "treatment_user_count        -0.316012  0.141289              1.000000   \n",
       "exposed                     -0.541052  0.222466              0.573278   \n",
       "control_user_count          -0.317096  0.141682              0.999985   \n",
       "scaled_control              -0.549514  0.225584              0.598492   \n",
       "control                     -0.545839  0.224123              0.589523   \n",
       "scaling_factor               0.199063 -0.044331             -0.176512   \n",
       "cost_spent_on_exposed_group  0.031234  0.157652              0.566645   \n",
       "absolute_lift               -0.353338  0.147166              0.289634   \n",
       "relative_lift                0.566571  0.073186             -0.253219   \n",
       "probability_of_lift          0.043420  0.030436              0.156500   \n",
       "Significant_Spend                 NaN       NaN                   NaN   \n",
       "\n",
       "                              exposed  control_user_count  scaled_control  \\\n",
       "study_id                    -0.541052           -0.317096       -0.549514   \n",
       "year                         0.222466            0.141682        0.225584   \n",
       "treatment_user_count         0.573278            0.999985        0.598492   \n",
       "exposed                      1.000000            0.576167        0.992584   \n",
       "control_user_count           0.576167            1.000000        0.601208   \n",
       "scaled_control               0.992584            0.601208        1.000000   \n",
       "control                      0.993978            0.592319        0.999773   \n",
       "scaling_factor              -0.494901           -0.179609       -0.467157   \n",
       "cost_spent_on_exposed_group  0.306091            0.566206        0.320149   \n",
       "absolute_lift                0.773303            0.292658        0.690494   \n",
       "relative_lift               -0.347546           -0.253135       -0.384083   \n",
       "probability_of_lift          0.063335            0.158089        0.037817   \n",
       "Significant_Spend                 NaN                 NaN             NaN   \n",
       "\n",
       "                              control  scaling_factor  \\\n",
       "study_id                    -0.545839        0.199063   \n",
       "year                         0.224123       -0.044331   \n",
       "treatment_user_count         0.589523       -0.176512   \n",
       "exposed                      0.993978       -0.494901   \n",
       "control_user_count           0.592319       -0.179609   \n",
       "scaled_control               0.999773       -0.467157   \n",
       "control                      1.000000       -0.477674   \n",
       "scaling_factor              -0.477674        1.000000   \n",
       "cost_spent_on_exposed_group  0.314292       -0.022054   \n",
       "absolute_lift                0.699977       -0.508273   \n",
       "relative_lift               -0.376922       -0.034150   \n",
       "probability_of_lift          0.043224       -0.007537   \n",
       "Significant_Spend                 NaN             NaN   \n",
       "\n",
       "                             cost_spent_on_exposed_group  absolute_lift  \\\n",
       "study_id                                        0.031234      -0.353338   \n",
       "year                                            0.157652       0.147166   \n",
       "treatment_user_count                            0.566645       0.289634   \n",
       "exposed                                         0.306091       0.773303   \n",
       "control_user_count                              0.566206       0.292658   \n",
       "scaled_control                                  0.320149       0.690494   \n",
       "control                                         0.314292       0.699977   \n",
       "scaling_factor                                 -0.022054      -0.508273   \n",
       "cost_spent_on_exposed_group                     1.000000       0.151538   \n",
       "absolute_lift                                   0.151538       1.000000   \n",
       "relative_lift                                  -0.172306      -0.064746   \n",
       "probability_of_lift                             0.260994       0.179625   \n",
       "Significant_Spend                                    NaN            NaN   \n",
       "\n",
       "                             relative_lift  probability_of_lift  \\\n",
       "study_id                          0.566571             0.043420   \n",
       "year                              0.073186             0.030436   \n",
       "treatment_user_count             -0.253219             0.156500   \n",
       "exposed                          -0.347546             0.063335   \n",
       "control_user_count               -0.253135             0.158089   \n",
       "scaled_control                   -0.384083             0.037817   \n",
       "control                          -0.376922             0.043224   \n",
       "scaling_factor                   -0.034150            -0.007537   \n",
       "cost_spent_on_exposed_group      -0.172306             0.260994   \n",
       "absolute_lift                    -0.064746             0.179625   \n",
       "relative_lift                     1.000000             0.151523   \n",
       "probability_of_lift               0.151523             1.000000   \n",
       "Significant_Spend                      NaN                  NaN   \n",
       "\n",
       "                             Significant_Spend  \n",
       "study_id                                   NaN  \n",
       "year                                       NaN  \n",
       "treatment_user_count                       NaN  \n",
       "exposed                                    NaN  \n",
       "control_user_count                         NaN  \n",
       "scaled_control                             NaN  \n",
       "control                                    NaN  \n",
       "scaling_factor                             NaN  \n",
       "cost_spent_on_exposed_group                NaN  \n",
       "absolute_lift                              NaN  \n",
       "relative_lift                              NaN  \n",
       "probability_of_lift                        NaN  \n",
       "Significant_Spend                          NaN  "
      ]
     },
     "execution_count": 26,
     "metadata": {},
     "output_type": "execute_result"
    }
   ],
   "source": [
    "#correlations between all components\n",
    "\n",
    "corrMatrix = smb_2022_fixed.corr()\n",
    "corrMatrix"
   ]
  },
  {
   "cell_type": "code",
   "execution_count": 27,
   "id": "74bdc68c",
   "metadata": {},
   "outputs": [
    {
     "data": {
      "text/plain": [
       "<AxesSubplot:>"
      ]
     },
     "execution_count": 27,
     "metadata": {},
     "output_type": "execute_result"
    },
    {
     "data": {
      "image/png": "[encoded data removed]",
      "text/plain": [
       "<Figure size 864x720 with 2 Axes>"
      ]
     },
     "metadata": {},
     "output_type": "display_data"
    }
   ],
   "source": [
    "plt.figure(figsize=[12,10])\n",
    "sns.heatmap(corrMatrix, annot = True, cmap= 'coolwarm')"
   ]
  },
  {
   "cell_type": "code",
   "execution_count": 28,
   "id": "7fd7e8c2",
   "metadata": {},
   "outputs": [
    {
     "data": {
      "text/html": [
       "<div>\n",
       "<style scoped>\n",
       "    .dataframe tbody tr th:only-of-type {\n",
       "        vertical-align: middle;\n",
       "    }\n",
       "\n",
       "    .dataframe tbody tr th {\n",
       "        vertical-align: top;\n",
       "    }\n",
       "\n",
       "    .dataframe thead th {\n",
       "        text-align: right;\n",
       "    }\n",
       "</style>\n",
       "<table border=\"1\" class=\"dataframe\">\n",
       "  <thead>\n",
       "    <tr style=\"text-align: right;\">\n",
       "      <th></th>\n",
       "      <th>treatment_user_count</th>\n",
       "      <th>exposed</th>\n",
       "      <th>control_user_count</th>\n",
       "      <th>cost_spent_on_exposed_group</th>\n",
       "      <th>absolute_lift</th>\n",
       "      <th>relative_lift</th>\n",
       "      <th>probability_of_lift</th>\n",
       "    </tr>\n",
       "  </thead>\n",
       "  <tbody>\n",
       "    <tr>\n",
       "      <th>treatment_user_count</th>\n",
       "      <td>1.000000</td>\n",
       "      <td>0.573278</td>\n",
       "      <td>0.999985</td>\n",
       "      <td>0.566645</td>\n",
       "      <td>0.289634</td>\n",
       "      <td>-0.253219</td>\n",
       "      <td>0.156500</td>\n",
       "    </tr>\n",
       "    <tr>\n",
       "      <th>exposed</th>\n",
       "      <td>0.573278</td>\n",
       "      <td>1.000000</td>\n",
       "      <td>0.576167</td>\n",
       "      <td>0.306091</td>\n",
       "      <td>0.773303</td>\n",
       "      <td>-0.347546</td>\n",
       "      <td>0.063335</td>\n",
       "    </tr>\n",
       "    <tr>\n",
       "      <th>control_user_count</th>\n",
       "      <td>0.999985</td>\n",
       "      <td>0.576167</td>\n",
       "      <td>1.000000</td>\n",
       "      <td>0.566206</td>\n",
       "      <td>0.292658</td>\n",
       "      <td>-0.253135</td>\n",
       "      <td>0.158089</td>\n",
       "    </tr>\n",
       "    <tr>\n",
       "      <th>cost_spent_on_exposed_group</th>\n",
       "      <td>0.566645</td>\n",
       "      <td>0.306091</td>\n",
       "      <td>0.566206</td>\n",
       "      <td>1.000000</td>\n",
       "      <td>0.151538</td>\n",
       "      <td>-0.172306</td>\n",
       "      <td>0.260994</td>\n",
       "    </tr>\n",
       "    <tr>\n",
       "      <th>absolute_lift</th>\n",
       "      <td>0.289634</td>\n",
       "      <td>0.773303</td>\n",
       "      <td>0.292658</td>\n",
       "      <td>0.151538</td>\n",
       "      <td>1.000000</td>\n",
       "      <td>-0.064746</td>\n",
       "      <td>0.179625</td>\n",
       "    </tr>\n",
       "    <tr>\n",
       "      <th>relative_lift</th>\n",
       "      <td>-0.253219</td>\n",
       "      <td>-0.347546</td>\n",
       "      <td>-0.253135</td>\n",
       "      <td>-0.172306</td>\n",
       "      <td>-0.064746</td>\n",
       "      <td>1.000000</td>\n",
       "      <td>0.151523</td>\n",
       "    </tr>\n",
       "    <tr>\n",
       "      <th>probability_of_lift</th>\n",
       "      <td>0.156500</td>\n",
       "      <td>0.063335</td>\n",
       "      <td>0.158089</td>\n",
       "      <td>0.260994</td>\n",
       "      <td>0.179625</td>\n",
       "      <td>0.151523</td>\n",
       "      <td>1.000000</td>\n",
       "    </tr>\n",
       "  </tbody>\n",
       "</table>\n",
       "</div>"
      ],
      "text/plain": [
       "                             treatment_user_count   exposed  \\\n",
       "treatment_user_count                     1.000000  0.573278   \n",
       "exposed                                  0.573278  1.000000   \n",
       "control_user_count                       0.999985  0.576167   \n",
       "cost_spent_on_exposed_group              0.566645  0.306091   \n",
       "absolute_lift                            0.289634  0.773303   \n",
       "relative_lift                           -0.253219 -0.347546   \n",
       "probability_of_lift                      0.156500  0.063335   \n",
       "\n",
       "                             control_user_count  cost_spent_on_exposed_group  \\\n",
       "treatment_user_count                   0.999985                     0.566645   \n",
       "exposed                                0.576167                     0.306091   \n",
       "control_user_count                     1.000000                     0.566206   \n",
       "cost_spent_on_exposed_group            0.566206                     1.000000   \n",
       "absolute_lift                          0.292658                     0.151538   \n",
       "relative_lift                         -0.253135                    -0.172306   \n",
       "probability_of_lift                    0.158089                     0.260994   \n",
       "\n",
       "                             absolute_lift  relative_lift  probability_of_lift  \n",
       "treatment_user_count              0.289634      -0.253219             0.156500  \n",
       "exposed                           0.773303      -0.347546             0.063335  \n",
       "control_user_count                0.292658      -0.253135             0.158089  \n",
       "cost_spent_on_exposed_group       0.151538      -0.172306             0.260994  \n",
       "absolute_lift                     1.000000      -0.064746             0.179625  \n",
       "relative_lift                    -0.064746       1.000000             0.151523  \n",
       "probability_of_lift               0.179625       0.151523             1.000000  "
      ]
     },
     "execution_count": 28,
     "metadata": {},
     "output_type": "execute_result"
    }
   ],
   "source": [
    "#building correlation matrix for more relevant columns \n",
    "\n",
    "corrMatrix_rel = smb_2022_fixed[['treatment_user_count','exposed','control_user_count',\n",
    "                                 'cost_spent_on_exposed_group','absolute_lift','relative_lift','probability_of_lift']].corr()\n",
    "corrMatrix_rel"
   ]
  },
  {
   "cell_type": "code",
   "execution_count": 29,
   "id": "7b969328",
   "metadata": {},
   "outputs": [
    {
     "data": {
      "text/plain": [
       "<AxesSubplot:>"
      ]
     },
     "execution_count": 29,
     "metadata": {},
     "output_type": "execute_result"
    },
    {
     "data": {
      "image/png": "[encoded data removed]",
      "text/plain": [
       "<Figure size 864x720 with 2 Axes>"
      ]
     },
     "metadata": {},
     "output_type": "display_data"
    }
   ],
   "source": [
    "plt.figure(figsize=[12,10])\n",
    "sns.heatmap(corrMatrix_rel, annot = True, cmap= 'coolwarm')"
   ]
  },
  {
   "cell_type": "markdown",
   "id": "80250074",
   "metadata": {},
   "source": [
    "## Scatterplot on cost spent vs. absolute lift - separated by channel and region"
   ]
  },
  {
   "cell_type": "code",
   "execution_count": 30,
   "id": "db1f7bfc",
   "metadata": {},
   "outputs": [
    {
     "data": {
      "image/png": "[encoded data removed]",
      "text/plain": [
       "<Figure size 864x576 with 1 Axes>"
      ]
     },
     "metadata": {},
     "output_type": "display_data"
    },
    {
     "data": {
      "image/png": "[encoded data removed]",
      "text/plain": [
       "<Figure size 864x576 with 1 Axes>"
      ]
     },
     "metadata": {},
     "output_type": "display_data"
    },
    {
     "data": {
      "image/png": "[encoded data removed]",
      "text/plain": [
       "<Figure size 864x576 with 1 Axes>"
      ]
     },
     "metadata": {},
     "output_type": "display_data"
    }
   ],
   "source": [
    "def scatterplot(data, channel):\n",
    "    \n",
    "    #plotting cost vs. absolute lift by channel \n",
    "\n",
    "    sns.set(style=\"darkgrid\")\n",
    "    plt.figure(figsize = (12,8))\n",
    "    plt.title('Cost Spent on Exposed Group vs. Absolute lift on ' + str.lower(channel))\n",
    "    plt.xlabel('Cost in Dollars Spent on Exposed Group')\n",
    "    plt.ylabel('Absolute Lift')\n",
    "    smb_channel = smb_2022_fixed[smb_2022_fixed['channel'] == channel]\n",
    "    sns.scatterplot(data=smb_channel, x=\"cost_spent_on_exposed_group\", y=\"absolute_lift\", hue=\"region\")\n",
    "\n",
    "    \n",
    "channels = ['YOUTUBE', 'DISCOVERY', 'DISPLAY']\n",
    "for channel in channels:\n",
    "    scatterplot(smb_2022_fixed, channel)"
   ]
  },
  {
   "cell_type": "markdown",
   "id": "dd8e763d",
   "metadata": {},
   "source": [
    "# Regression models using Statsmodels"
   ]
  },
  {
   "cell_type": "markdown",
   "id": "931d0d56",
   "metadata": {},
   "source": [
    "## Linear Regression across all channels"
   ]
  },
  {
   "cell_type": "code",
   "execution_count": 31,
   "id": "11b82240",
   "metadata": {},
   "outputs": [
    {
     "name": "stdout",
     "output_type": "stream",
     "text": [
      "                                 OLS Regression Results                                \n",
      "=======================================================================================\n",
      "Dep. Variable:          absolute_lift   R-squared (uncentered):                   0.147\n",
      "Model:                            OLS   Adj. R-squared (uncentered):              0.120\n",
      "Method:                 Least Squares   F-statistic:                              5.353\n",
      "Date:                Mon, 29 Aug 2022   Prob (F-statistic):                      0.0275\n",
      "Time:                        09:40:13   Log-Likelihood:                         -290.37\n",
      "No. Observations:                  32   AIC:                                      582.7\n",
      "Df Residuals:                      31   BIC:                                      584.2\n",
      "Df Model:                           1                                                  \n",
      "Covariance Type:            nonrobust                                                  \n",
      "===============================================================================================\n",
      "                                  coef    std err          t      P>|t|      [0.025      0.975]\n",
      "-----------------------------------------------------------------------------------------------\n",
      "cost_spent_on_exposed_group     0.0102      0.004      2.314      0.027       0.001       0.019\n",
      "==============================================================================\n",
      "Omnibus:                       60.809   Durbin-Watson:                   2.421\n",
      "Prob(Omnibus):                  0.000   Jarque-Bera (JB):              532.411\n",
      "Skew:                           4.016   Prob(JB):                    2.45e-116\n",
      "Kurtosis:                      21.297   Cond. No.                         1.00\n",
      "==============================================================================\n",
      "\n",
      "Notes:\n",
      "[1] R² is computed without centering (uncentered) since the model does not contain a constant.\n",
      "[2] Standard Errors assume that the covariance matrix of the errors is correctly specified.\n",
      "2145.3754563770535\n"
     ]
    }
   ],
   "source": [
    "#linear regression table when comparing across all channels\n",
    "\n",
    "ols_model = smf.OLS(smb_2022_fixed['absolute_lift'], smb_2022_fixed['cost_spent_on_exposed_group'])\n",
    "results_ols = ols_model.fit()\n",
    "print(results_ols.summary())\n",
    "print(np.sqrt(results_ols.mse_resid))"
   ]
  },
  {
   "cell_type": "markdown",
   "id": "30071cb3",
   "metadata": {},
   "source": [
    "## Linear and Robust Regression by channel"
   ]
  },
  {
   "cell_type": "markdown",
   "id": "d2baa7b3",
   "metadata": {},
   "source": [
    "### DISCOVERY"
   ]
  },
  {
   "cell_type": "code",
   "execution_count": 208,
   "id": "ab32c5de",
   "metadata": {},
   "outputs": [
    {
     "name": "stdout",
     "output_type": "stream",
     "text": [
      "                                 OLS Regression Results                                \n",
      "=======================================================================================\n",
      "Dep. Variable:          absolute_lift   R-squared (uncentered):                   0.793\n",
      "Model:                            OLS   Adj. R-squared (uncentered):              0.774\n",
      "Method:                 Least Squares   F-statistic:                              42.09\n",
      "Date:                Mon, 29 Aug 2022   Prob (F-statistic):                    4.50e-05\n",
      "Time:                        15:38:02   Log-Likelihood:                         -94.685\n",
      "No. Observations:                  12   AIC:                                      191.4\n",
      "Df Residuals:                      11   BIC:                                      191.9\n",
      "Df Model:                           1                                                  \n",
      "Covariance Type:            nonrobust                                                  \n",
      "===============================================================================================\n",
      "                                  coef    std err          t      P>|t|      [0.025      0.975]\n",
      "-----------------------------------------------------------------------------------------------\n",
      "cost_spent_on_exposed_group     0.0145      0.002      6.487      0.000       0.010       0.019\n",
      "==============================================================================\n",
      "Omnibus:                        3.842   Durbin-Watson:                   1.579\n",
      "Prob(Omnibus):                  0.146   Jarque-Bera (JB):                1.060\n",
      "Skew:                          -0.271   Prob(JB):                        0.589\n",
      "Kurtosis:                       4.352   Cond. No.                         1.00\n",
      "==============================================================================\n",
      "\n",
      "Notes:\n",
      "[1] R² is computed without centering (uncentered) since the model does not contain a constant.\n",
      "[2] Standard Errors assume that the covariance matrix of the errors is correctly specified.\n",
      "675.1806232177807\n"
     ]
    }
   ],
   "source": [
    "#Discovery channel regression summary table \n",
    "discovery_data = smb_2022_fixed[smb_2022_fixed['channel'] == 'DISCOVERY']\n",
    "\n",
    "disc_ols_model = smf.OLS(discovery_data['absolute_lift'], discovery_data['cost_spent_on_exposed_group'])\n",
    "disc_ols_results = disc_ols_model.fit()\n",
    "print(disc_ols_results.summary())\n",
    "print(np.sqrt(disc_ols_results.mse_resid))"
   ]
  },
  {
   "cell_type": "markdown",
   "id": "d90b7047",
   "metadata": {},
   "source": [
    "# Discovery - Cooks Distance calculation for each point on OLS"
   ]
  },
  {
   "cell_type": "markdown",
   "id": "b42d12c5",
   "metadata": {},
   "source": [
    "[Cooks Distance](https://towardsdatascience.com/outlier-detection-in-regression-using-cooks-distance-f5e4954461a0) - documentation explaining steps\n"
   ]
  },
  {
   "cell_type": "code",
   "execution_count": 154,
   "id": "c6465eb4",
   "metadata": {},
   "outputs": [
    {
     "name": "stdout",
     "output_type": "stream",
     "text": [
      "(array([1.41289394e-01, 3.90790189e-04, 2.28544547e-04, 2.05835786e-05,\n",
      "       4.40241422e-01, 3.33784460e-03, 1.51972041e-03, 4.25364215e-04,\n",
      "       3.47319918e-01, 9.87472020e-03, 1.45117814e-02, 3.46689324e-05]), array([0.71415081, 0.98458214, 0.988209  , 0.99646131, 0.52066906,\n",
      "       0.95496473, 0.969602  , 0.98391467, 0.56754081, 0.92263106,\n",
      "       0.90628711, 0.99540748]))\n",
      "0.3333333333333333\n"
     ]
    }
   ],
   "source": [
    "#rule of thumb is if influence value is > 4/n than it is highly influential \n",
    "threshold_disc = 4 / len(discovery_data)\n",
    "\n",
    "#getting influence calculation and p values associated with them \n",
    "influence_disc = disc_ols_results.get_influence()\n",
    "cooks_disc = influence_disc.cooks_distance\n",
    "print(cooks_disc)\n",
    "print(threshold_disc)"
   ]
  },
  {
   "cell_type": "code",
   "execution_count": 167,
   "id": "a9e0a112",
   "metadata": {},
   "outputs": [],
   "source": [
    "#getting index values of discovery data where points have cooks value > threshold \n",
    "def cooks_dist(data, threshold):\n",
    "\n",
    "    index = []\n",
    "\n",
    "    for num in list(data[0]):\n",
    "        if num > threshold:\n",
    "            index.append(list(data[0]).index(num))\n",
    "    return index"
   ]
  },
  {
   "cell_type": "code",
   "execution_count": 168,
   "id": "90189b57",
   "metadata": {},
   "outputs": [
    {
     "data": {
      "text/plain": [
       "[4, 8]"
      ]
     },
     "execution_count": 168,
     "metadata": {},
     "output_type": "execute_result"
    }
   ],
   "source": [
    "cooks_dist(cooks_disc, threshold_disc)"
   ]
  },
  {
   "cell_type": "code",
   "execution_count": 33,
   "id": "ca9aedff",
   "metadata": {},
   "outputs": [
    {
     "data": {
      "image/png": "[encoded data removed]",
      "text/plain": [
       "<Figure size 864x576 with 1 Axes>"
      ]
     },
     "metadata": {},
     "output_type": "display_data"
    }
   ],
   "source": [
    "#OLS modeling for Discovery\n",
    "\n",
    "fig, ax = plt.subplots(figsize=(12,8))\n",
    "ax.plot(discovery_data['cost_spent_on_exposed_group'], discovery_data['absolute_lift'], 'o', label=\"data\")\n",
    "ax.plot(discovery_data['cost_spent_on_exposed_group'], disc_ols_results.fittedvalues, 'r--.', label=\"OLS\")\n",
    "plt.show()"
   ]
  },
  {
   "cell_type": "code",
   "execution_count": 34,
   "id": "97e78ee5",
   "metadata": {},
   "outputs": [
    {
     "name": "stdout",
     "output_type": "stream",
     "text": [
      "                    Robust linear Model Regression Results                    \n",
      "==============================================================================\n",
      "Dep. Variable:          absolute_lift   No. Observations:                   12\n",
      "Model:                            RLM   Df Residuals:                       11\n",
      "Method:                          IRLS   Df Model:                            0\n",
      "Norm:                          HuberT                                         \n",
      "Scale Est.:                       mad                                         \n",
      "Cov Type:                          H1                                         \n",
      "Date:                Mon, 29 Aug 2022                                         \n",
      "Time:                        09:40:16                                         \n",
      "No. Iterations:                     5                                         \n",
      "===============================================================================================\n",
      "                                  coef    std err          z      P>|z|      [0.025      0.975]\n",
      "-----------------------------------------------------------------------------------------------\n",
      "cost_spent_on_exposed_group     0.0143      0.002      7.839      0.000       0.011       0.018\n",
      "===============================================================================================\n",
      "\n",
      "If the model instance has been used for another fit with different fit parameters, then the fit options might not be the correct ones anymore .\n"
     ]
    }
   ],
   "source": [
    "#Discovery channel robust regression summary table \n",
    "discovery_data = smb_2022_fixed[smb_2022_fixed['channel'] == 'DISCOVERY']\n",
    "\n",
    "disc_rlm_model = smf.RLM(discovery_data['absolute_lift'], discovery_data['cost_spent_on_exposed_group'])\n",
    "disc_rlm_results = disc_rlm_model.fit()\n",
    "print(disc_rlm_results.summary())\n"
   ]
  },
  {
   "cell_type": "code",
   "execution_count": 35,
   "id": "5b2d4b5c",
   "metadata": {},
   "outputs": [
    {
     "data": {
      "image/png": "[encoded data removed]",
      "text/plain": [
       "<Figure size 864x576 with 1 Axes>"
      ]
     },
     "metadata": {},
     "output_type": "display_data"
    }
   ],
   "source": [
    "#RLM modeling for Discovery\n",
    "\n",
    "fig, ax = plt.subplots(figsize=(12,8))\n",
    "ax.plot(discovery_data['cost_spent_on_exposed_group'], discovery_data['absolute_lift'], 'o', label=\"data\")\n",
    "ax.plot(discovery_data['cost_spent_on_exposed_group'], disc_rlm_results.fittedvalues, 'r--.', label=\"OLS\")\n",
    "plt.show()"
   ]
  },
  {
   "cell_type": "markdown",
   "id": "237f6728",
   "metadata": {},
   "source": [
    "### DISPLAY"
   ]
  },
  {
   "cell_type": "code",
   "execution_count": 209,
   "id": "68945a2c",
   "metadata": {},
   "outputs": [
    {
     "name": "stdout",
     "output_type": "stream",
     "text": [
      "                                 OLS Regression Results                                \n",
      "=======================================================================================\n",
      "Dep. Variable:          absolute_lift   R-squared (uncentered):                   0.566\n",
      "Model:                            OLS   Adj. R-squared (uncentered):              0.533\n",
      "Method:                 Least Squares   F-statistic:                              16.97\n",
      "Date:                Mon, 29 Aug 2022   Prob (F-statistic):                     0.00121\n",
      "Time:                        15:38:18   Log-Likelihood:                         -95.436\n",
      "No. Observations:                  14   AIC:                                      192.9\n",
      "Df Residuals:                      13   BIC:                                      193.5\n",
      "Df Model:                           1                                                  \n",
      "Covariance Type:            nonrobust                                                  \n",
      "===============================================================================================\n",
      "                                  coef    std err          t      P>|t|      [0.025      0.975]\n",
      "-----------------------------------------------------------------------------------------------\n",
      "cost_spent_on_exposed_group     0.0026      0.001      4.120      0.001       0.001       0.004\n",
      "==============================================================================\n",
      "Omnibus:                        5.491   Durbin-Watson:                   1.176\n",
      "Prob(Omnibus):                  0.064   Jarque-Bera (JB):                2.904\n",
      "Skew:                           1.089   Prob(JB):                        0.234\n",
      "Kurtosis:                       3.486   Cond. No.                         1.00\n",
      "==============================================================================\n",
      "\n",
      "Notes:\n",
      "[1] R² is computed without centering (uncentered) since the model does not contain a constant.\n",
      "[2] Standard Errors assume that the covariance matrix of the errors is correctly specified.\n",
      "229.28627045529362\n"
     ]
    }
   ],
   "source": [
    "#Display channel regression summary table\n",
    "display_data = smb_2022_fixed[smb_2022_fixed['channel'] == 'DISPLAY']\n",
    "\n",
    "disp_ols_model = smf.OLS(display_data['absolute_lift'], display_data['cost_spent_on_exposed_group'])\n",
    "disp_ols_results = disp_ols_model.fit()\n",
    "print(disp_ols_results.summary())\n",
    "print(np.sqrt(disp_ols_results.mse_resid))"
   ]
  },
  {
   "cell_type": "markdown",
   "id": "ae1d4f37",
   "metadata": {},
   "source": [
    "# Display - Cooks Distance calculation for each point OLS"
   ]
  },
  {
   "cell_type": "code",
   "execution_count": 155,
   "id": "9f02e722",
   "metadata": {},
   "outputs": [
    {
     "name": "stdout",
     "output_type": "stream",
     "text": [
      "(array([3.83977278e-02, 2.72126500e-04, 2.05194036e-04, 5.42338422e-04,\n",
      "       1.39830873e+01, 9.23032664e-03, 3.98383546e-05, 4.63582558e-03,\n",
      "       4.12599407e-03, 1.03163844e-01, 2.42647560e-06, 4.41669598e-04,\n",
      "       1.55446824e-05, 3.59629143e-03]), array([0.84767649, 0.98708898, 0.98878852, 0.98177409, 0.00247697,\n",
      "       0.9249266 , 0.99505981, 0.94675256, 0.9497612 , 0.75317079,\n",
      "       0.99878077, 0.98355209, 0.99691407, 0.95309236]))\n",
      "0.2857142857142857\n"
     ]
    }
   ],
   "source": [
    "#rule of thumb is if influence value is > 4/n than it is highly influential \n",
    "threshold_disp = 4 / len(display_data)\n",
    "\n",
    "#getting influence calculation and p values associated with them \n",
    "influence_disp = disp_ols_results.get_influence()\n",
    "cooks_disp = influence_disp.cooks_distance\n",
    "print(cooks_disp)\n",
    "print(threshold_disp)"
   ]
  },
  {
   "cell_type": "code",
   "execution_count": 169,
   "id": "9164d585",
   "metadata": {},
   "outputs": [
    {
     "data": {
      "text/plain": [
       "[4]"
      ]
     },
     "execution_count": 169,
     "metadata": {},
     "output_type": "execute_result"
    }
   ],
   "source": [
    "#getting index of values in display data that are highly influential\n",
    "\n",
    "cooks_dist(cooks_disp, threshold_disp)"
   ]
  },
  {
   "cell_type": "code",
   "execution_count": 37,
   "id": "a20d8546",
   "metadata": {},
   "outputs": [
    {
     "data": {
      "image/png": "[encoded data removed]",
      "text/plain": [
       "<Figure size 864x576 with 1 Axes>"
      ]
     },
     "metadata": {},
     "output_type": "display_data"
    }
   ],
   "source": [
    "#OLS modeling for Display\n",
    "\n",
    "fig, ax = plt.subplots(figsize=(12,8))\n",
    "ax.plot(display_data['cost_spent_on_exposed_group'], display_data['absolute_lift'], 'o', label=\"data\")\n",
    "ax.plot(display_data['cost_spent_on_exposed_group'], disp_ols_results.fittedvalues,c = 'r', label=\"OLS\")\n",
    "plt.show()"
   ]
  },
  {
   "cell_type": "code",
   "execution_count": 38,
   "id": "63548395",
   "metadata": {},
   "outputs": [
    {
     "name": "stdout",
     "output_type": "stream",
     "text": [
      "                    Robust linear Model Regression Results                    \n",
      "==============================================================================\n",
      "Dep. Variable:          absolute_lift   No. Observations:                   14\n",
      "Model:                            RLM   Df Residuals:                       13\n",
      "Method:                          IRLS   Df Model:                            0\n",
      "Norm:                          HuberT                                         \n",
      "Scale Est.:                       mad                                         \n",
      "Cov Type:                          H1                                         \n",
      "Date:                Mon, 29 Aug 2022                                         \n",
      "Time:                        09:40:22                                         \n",
      "No. Iterations:                     7                                         \n",
      "===============================================================================================\n",
      "                                  coef    std err          z      P>|z|      [0.025      0.975]\n",
      "-----------------------------------------------------------------------------------------------\n",
      "cost_spent_on_exposed_group     0.0023      0.000      5.974      0.000       0.002       0.003\n",
      "===============================================================================================\n",
      "\n",
      "If the model instance has been used for another fit with different fit parameters, then the fit options might not be the correct ones anymore .\n"
     ]
    }
   ],
   "source": [
    "#Display channel robust regression summary table \n",
    "display_data = smb_2022_fixed[smb_2022_fixed['channel'] == 'DISPLAY']\n",
    "\n",
    "disp_rlm_model = smf.RLM(display_data['absolute_lift'], display_data['cost_spent_on_exposed_group'])\n",
    "disp_rlm_results = disp_rlm_model.fit()\n",
    "print(disp_rlm_results.summary())"
   ]
  },
  {
   "cell_type": "code",
   "execution_count": 39,
   "id": "d8004252",
   "metadata": {},
   "outputs": [
    {
     "data": {
      "image/png": "[encoded data removed]",
      "text/plain": [
       "<Figure size 864x576 with 1 Axes>"
      ]
     },
     "metadata": {},
     "output_type": "display_data"
    }
   ],
   "source": [
    "#Robust regression modeling for display \n",
    "\n",
    "fig, ax = plt.subplots(figsize=(12,8))\n",
    "ax.plot(display_data['cost_spent_on_exposed_group'], display_data['absolute_lift'], 'o', label=\"data\")\n",
    "ax.plot(display_data['cost_spent_on_exposed_group'], disp_rlm_results.fittedvalues, 'r--.', label=\"OLS\")\n",
    "plt.show()"
   ]
  },
  {
   "cell_type": "markdown",
   "id": "e571e6a3",
   "metadata": {},
   "source": [
    "### YOUTUBE"
   ]
  },
  {
   "cell_type": "code",
   "execution_count": 210,
   "id": "fc5702fc",
   "metadata": {},
   "outputs": [
    {
     "name": "stdout",
     "output_type": "stream",
     "text": [
      "                                 OLS Regression Results                                \n",
      "=======================================================================================\n",
      "Dep. Variable:          absolute_lift   R-squared (uncentered):                   0.302\n",
      "Model:                            OLS   Adj. R-squared (uncentered):              0.163\n",
      "Method:                 Least Squares   F-statistic:                              2.167\n",
      "Date:                Mon, 29 Aug 2022   Prob (F-statistic):                       0.201\n",
      "Time:                        15:38:23   Log-Likelihood:                         -58.363\n",
      "No. Observations:                   6   AIC:                                      118.7\n",
      "Df Residuals:                       5   BIC:                                      118.5\n",
      "Df Model:                           1                                                  \n",
      "Covariance Type:            nonrobust                                                  \n",
      "===============================================================================================\n",
      "                                  coef    std err          t      P>|t|      [0.025      0.975]\n",
      "-----------------------------------------------------------------------------------------------\n",
      "cost_spent_on_exposed_group     0.0573      0.039      1.472      0.201      -0.043       0.157\n",
      "==============================================================================\n",
      "Omnibus:                          nan   Durbin-Watson:                   0.882\n",
      "Prob(Omnibus):                    nan   Jarque-Bera (JB):                1.623\n",
      "Skew:                           1.252   Prob(JB):                        0.444\n",
      "Kurtosis:                       3.473   Cond. No.                         1.00\n",
      "==============================================================================\n",
      "\n",
      "Notes:\n",
      "[1] R² is computed without centering (uncentered) since the model does not contain a constant.\n",
      "[2] Standard Errors assume that the covariance matrix of the errors is correctly specified.\n",
      "4444.1144843731445\n"
     ]
    }
   ],
   "source": [
    "#Youtube channel ols regression summary table \n",
    "youtube_data = smb_2022_fixed[smb_2022_fixed['channel'] == 'YOUTUBE']\n",
    "\n",
    "yt_ols_model = smf.OLS(youtube_data['absolute_lift'], youtube_data['cost_spent_on_exposed_group'])\n",
    "yt_ols_results = yt_ols_model.fit()\n",
    "print(yt_ols_results.summary())\n",
    "print(np.sqrt(yt_ols_results.mse_resid))"
   ]
  },
  {
   "cell_type": "markdown",
   "id": "c7286917",
   "metadata": {},
   "source": [
    "# Youtube - Cooks Distance calculation for each point OLS"
   ]
  },
  {
   "cell_type": "code",
   "execution_count": 156,
   "id": "84850669",
   "metadata": {},
   "outputs": [
    {
     "name": "stdout",
     "output_type": "stream",
     "text": [
      "(array([5.91564333e-01, 3.36845274e-05, 1.18395456e-03, 4.23286133e-03,\n",
      "       2.88145195e-05, 1.96701058e+00]), array([0.47655659, 0.99559368, 0.97388268, 0.95064701, 0.99592463,\n",
      "       0.21970081]))\n",
      "0.6666666666666666\n"
     ]
    }
   ],
   "source": [
    "#rule of thumb is if influence value is > 4/n than it is highly influential \n",
    "threshold_yt = 4 / len(youtube_data)\n",
    "\n",
    "#getting influence calculation and p values associated with them \n",
    "influence_yt = yt_ols_results.get_influence()\n",
    "cooks_yt = influence_yt.cooks_distance\n",
    "print(cooks_yt)\n",
    "print(threshold_yt)"
   ]
  },
  {
   "cell_type": "code",
   "execution_count": 170,
   "id": "ff1c56bc",
   "metadata": {},
   "outputs": [
    {
     "data": {
      "text/plain": [
       "[5]"
      ]
     },
     "execution_count": 170,
     "metadata": {},
     "output_type": "execute_result"
    }
   ],
   "source": [
    "#getting index of values in youtube data that are highly influential\n",
    "\n",
    "cooks_dist(cooks_yt, threshold_yt)"
   ]
  },
  {
   "cell_type": "code",
   "execution_count": 41,
   "id": "e58cc181",
   "metadata": {},
   "outputs": [
    {
     "data": {
      "image/png": "[encoded data removed]",
      "text/plain": [
       "<Figure size 864x576 with 1 Axes>"
      ]
     },
     "metadata": {},
     "output_type": "display_data"
    }
   ],
   "source": [
    "#OLS regression modeling for youtube\n",
    "\n",
    "fig, ax = plt.subplots(figsize=(12,8))\n",
    "ax.plot(youtube_data['cost_spent_on_exposed_group'], youtube_data['absolute_lift'], 'o', label=\"data\")\n",
    "ax.plot(youtube_data['cost_spent_on_exposed_group'], yt_ols_results.fittedvalues, 'r--.', label=\"OLS\")\n",
    "plt.show()"
   ]
  },
  {
   "cell_type": "code",
   "execution_count": 42,
   "id": "b3a8d007",
   "metadata": {},
   "outputs": [
    {
     "name": "stdout",
     "output_type": "stream",
     "text": [
      "                    Robust linear Model Regression Results                    \n",
      "==============================================================================\n",
      "Dep. Variable:          absolute_lift   No. Observations:                    6\n",
      "Model:                            RLM   Df Residuals:                        5\n",
      "Method:                          IRLS   Df Model:                            0\n",
      "Norm:                          HuberT                                         \n",
      "Scale Est.:                       mad                                         \n",
      "Cov Type:                          H1                                         \n",
      "Date:                Mon, 29 Aug 2022                                         \n",
      "Time:                        09:42:47                                         \n",
      "No. Iterations:                     8                                         \n",
      "===============================================================================================\n",
      "                                  coef    std err          z      P>|z|      [0.025      0.975]\n",
      "-----------------------------------------------------------------------------------------------\n",
      "cost_spent_on_exposed_group     0.0337      0.014      2.350      0.019       0.006       0.062\n",
      "===============================================================================================\n",
      "\n",
      "If the model instance has been used for another fit with different fit parameters, then the fit options might not be the correct ones anymore .\n"
     ]
    }
   ],
   "source": [
    "#Youtube channel robust regression summary table \n",
    "youtube_data = smb_2022_fixed[smb_2022_fixed['channel'] == 'YOUTUBE']\n",
    "\n",
    "yt_rlm_model = smf.RLM(youtube_data['absolute_lift'], youtube_data['cost_spent_on_exposed_group'])\n",
    "yt_rlm_results = yt_rlm_model.fit()\n",
    "print(yt_rlm_results.summary())"
   ]
  },
  {
   "cell_type": "code",
   "execution_count": 43,
   "id": "f1440da3",
   "metadata": {},
   "outputs": [
    {
     "data": {
      "image/png": "[encoded data removed]",
      "text/plain": [
       "<Figure size 864x576 with 1 Axes>"
      ]
     },
     "metadata": {},
     "output_type": "display_data"
    }
   ],
   "source": [
    "#robust regression modeling for youtube\n",
    "\n",
    "fig, ax = plt.subplots(figsize=(12,8))\n",
    "ax.plot(youtube_data['cost_spent_on_exposed_group'], youtube_data['absolute_lift'], 'o', label=\"data\")\n",
    "ax.plot(youtube_data['cost_spent_on_exposed_group'], yt_rlm_results.fittedvalues, 'r--.', label=\"OLS\")\n",
    "plt.show()"
   ]
  },
  {
   "cell_type": "markdown",
   "id": "e11997f3",
   "metadata": {},
   "source": [
    "# Regression models with Scikit Learn"
   ]
  },
  {
   "cell_type": "markdown",
   "id": "11fb09ac",
   "metadata": {},
   "source": [
    "# Functions to return RMSE, R squared and modeling results \n"
   ]
  },
  {
   "cell_type": "code",
   "execution_count": 82,
   "id": "8e48e465",
   "metadata": {},
   "outputs": [],
   "source": [
    "def Hubor_Regressor(dataset, powers, channel):\n",
    "    \n",
    "    #empty dictionaries to store power values and their corresponding rmse and r squared scores \n",
    "    rmse_scores = {}\n",
    "    r2_scores = {}\n",
    "    fig_count = 1\n",
    "    \n",
    "    #looping across each power value to obtain curve for each \n",
    "    for i in powers:\n",
    "        \n",
    "        \n",
    "        x = dataset['cost_spent_on_exposed_group']\n",
    "        y = dataset['absolute_lift']\n",
    "    \n",
    "        #need to reshape x and y\n",
    "        x = np.array(x).reshape(-1,1)\n",
    "        y = np.array(y).reshape(-1,1)\n",
    "\n",
    "        #initializing model\n",
    "        hr = HuberRegressor()\n",
    "        hr.fit(x**i,y)\n",
    "        pred_train_hr = hr.predict(x**i)\n",
    "        rmse_scores[i] = np.sqrt(mean_squared_error(y,pred_train_hr))\n",
    "        r2_scores[i] = r2_score(y, pred_train_hr)\n",
    "        \n",
    "\n",
    "\n",
    "        #sorting x and y values for line plot \n",
    "        x_plot, y_plot = zip(*sorted(zip(x, pred_train_hr)))\n",
    "        \n",
    "        #code to smoothen line \n",
    "        xnew = np.linspace(np.asarray(x_plot).min(), np.asarray(x_plot).max(), 200) \n",
    "        \n",
    "        #define spline\n",
    "        spl = make_interp_spline(np.asarray(x_plot).flatten(), np.asarray(y_plot).flatten(), k=2)\n",
    "        y_smooth = spl(xnew)\n",
    "\n",
    "\n",
    "        #creating the curve \n",
    "        #plotting fitted values against real values \n",
    "        fig = plt.figure(figsize = (12,8))\n",
    "        plt.scatter(x,y)\n",
    "        plt.plot(xnew,y_smooth, c = 'r')\n",
    "        plt.title(channel + ' channel: HuberRegressor Modeling', fontsize=16)\n",
    "        plt.xlabel('Cost Spent on Exposed Group ^ ' + str(i))\n",
    "        plt.ylabel('Absolute Lift')\n",
    "        \n",
    "        #saving curve in modeling results folder \n",
    "        plt.savefig('Modeling Results/{} HR {}.png'.format(channel,fig_count))\n",
    "        \n",
    "        #makes sure that image doesn't display on here, otherwise there would be too many graphs \n",
    "        plt.close(fig)\n",
    "        fig_count += 1\n",
    "    \n",
    "    #returns the highest rmse score and its corresponding power value\n",
    "    return min(rmse_scores.items(), key=lambda x: x[1]), max(r2_scores.items(), key=lambda x: x[1])\n"
   ]
  },
  {
   "cell_type": "code",
   "execution_count": 83,
   "id": "27212bf5",
   "metadata": {},
   "outputs": [],
   "source": [
    "def ridge_regression(dataset, powers, channel):\n",
    "    \n",
    "    #empty dictionaries to store power values and their corresponding rmse and r squared scores \n",
    "    rmse_scores = {}\n",
    "    r2_scores = {}\n",
    "    fig_count = 1\n",
    "    \n",
    "    #looping across each power value to obtain curve for each \n",
    "    for i in powers:\n",
    "        \n",
    "        x = dataset['cost_spent_on_exposed_group']\n",
    "        y = dataset['absolute_lift']\n",
    "    \n",
    "        #need to reshape x and y\n",
    "        x = np.array(x).reshape(-1,1)\n",
    "        y = np.array(y).reshape(-1,1)\n",
    "    \n",
    "        \n",
    "        #initializing model\n",
    "        ridge = Ridge(alpha = 0.1)\n",
    "        ridge.fit(x**i,y)\n",
    "        pred_train_ridge = ridge.predict(x**i)\n",
    "        rmse_scores[i] = np.sqrt(mean_squared_error(y, pred_train_ridge))\n",
    "        r2_scores[i] = r2_score(y, pred_train_ridge)\n",
    "        \n",
    "        #sorting x and y values for line plot \n",
    "        x_plot, y_plot = zip(*sorted(zip(x, pred_train_ridge)))\n",
    "        \n",
    "        #code to smoothen line \n",
    "        xnew = np.linspace(np.asarray(x_plot).min(), np.asarray(x_plot).max(), 200) \n",
    "        \n",
    "        #define spline\n",
    "        spl = make_interp_spline(np.asarray(x_plot).flatten(), np.asarray(y_plot).flatten(), k=2)\n",
    "        y_smooth = spl(xnew)\n",
    "\n",
    "        #plotting fitted values against real values\n",
    "        fig = plt.figure(figsize = (12,8))\n",
    "        plt.scatter(x,y)\n",
    "        plt.plot(xnew,y_smooth, c = 'r')\n",
    "        plt.title(channel + ' channel: Ridge Regression Modeling', fontsize=16)\n",
    "        plt.xlabel('Cost Spent on Exposed Group ^ ' + str(i))\n",
    "        plt.ylabel('Absolute Lift')\n",
    "        plt.savefig('Modeling Results/{} Ridge {}.png'.format(channel,fig_count))\n",
    "        plt.close(fig)\n",
    "        fig_count += 1\n",
    "        \n",
    "        \n",
    "    return min(rmse_scores.items(), key=lambda x: x[1]), max(r2_scores.items(), key=lambda x: x[1])\n"
   ]
  },
  {
   "cell_type": "code",
   "execution_count": 84,
   "id": "00940834",
   "metadata": {},
   "outputs": [],
   "source": [
    "def lasso_regression(dataset, powers, channel):\n",
    "\n",
    "    rmse_scores = {}\n",
    "    r2_scores = {}\n",
    "    fig_count = 1\n",
    "    \n",
    "    for i in powers:\n",
    "        \n",
    "        x = dataset['cost_spent_on_exposed_group']\n",
    "        y = dataset['absolute_lift']\n",
    "    \n",
    "        #need to reshape x and y\n",
    "        x = np.array(x).reshape(-1,1)\n",
    "        y = np.array(y).reshape(-1,1)\n",
    "        \n",
    "\n",
    "        #initializing model\n",
    "        lasso = Lasso(alpha = 0.1)\n",
    "        lasso.fit(x**i,y)\n",
    "        pred_train_lasso = lasso.predict(x**i)\n",
    "        rmse_scores[i] = np.sqrt(mean_squared_error(y, pred_train_lasso))\n",
    "        r2_scores[i] = r2_score(y, pred_train_lasso)\n",
    "        \n",
    "        #sorting x and y values for line plot \n",
    "        x_plot, y_plot = zip(*sorted(zip(x, pred_train_lasso)))\n",
    "        \n",
    "        #code to smoothen line \n",
    "        xnew = np.linspace(np.asarray(x_plot).min(), np.asarray(x_plot).max(), 200) \n",
    "        \n",
    "        #define spline\n",
    "        spl = make_interp_spline(np.asarray(x_plot).flatten(), np.asarray(y_plot).flatten(), k=2)\n",
    "        y_smooth = spl(xnew)\n",
    "\n",
    "        \n",
    "        #plotting fitted values against real values \n",
    "        fig = plt.figure(figsize = (12,8))\n",
    "        plt.scatter(x,y)\n",
    "        plt.plot(xnew,y_smooth,c = 'r')\n",
    "        plt.title(channel + ' channel: Lasso Regression Modeling', fontsize=16)\n",
    "        plt.xlabel('Cost Spent on Exposed Group ^ ' + str(i))\n",
    "        plt.ylabel('Absolute Lift')\n",
    "        plt.savefig('Modeling Results/{} Lasso {}.png'.format(channel,fig_count))\n",
    "        plt.close(fig)\n",
    "        fig_count += 1\n",
    "        \n",
    "        \n",
    "    return min(rmse_scores.items(), key=lambda x: x[1]), max(r2_scores.items(), key=lambda x: x[1])\n"
   ]
  },
  {
   "cell_type": "markdown",
   "id": "200fdc0b",
   "metadata": {},
   "source": [
    "## Outlier Exclusion Methods "
   ]
  },
  {
   "cell_type": "markdown",
   "id": "fa6b1bcf",
   "metadata": {},
   "source": [
    "[Methods for finding outliers](https://towardsdatascience.com/detecting-and-treating-outliers-in-python-part-1-4ece5098b755#:~:text=In%20the%20following%2C%20I%20will,Median%20Absolute%20Deviation%20method)"
   ]
  },
  {
   "cell_type": "markdown",
   "id": "f2d2ff09",
   "metadata": {},
   "source": [
    "### Boxplot and scatterplot to visualize outliers"
   ]
  },
  {
   "cell_type": "code",
   "execution_count": 47,
   "id": "b1281556",
   "metadata": {},
   "outputs": [
    {
     "data": {
      "text/html": [
       "<div>\n",
       "<style scoped>\n",
       "    .dataframe tbody tr th:only-of-type {\n",
       "        vertical-align: middle;\n",
       "    }\n",
       "\n",
       "    .dataframe tbody tr th {\n",
       "        vertical-align: top;\n",
       "    }\n",
       "\n",
       "    .dataframe thead th {\n",
       "        text-align: right;\n",
       "    }\n",
       "</style>\n",
       "<table border=\"1\" class=\"dataframe\">\n",
       "  <thead>\n",
       "    <tr style=\"text-align: right;\">\n",
       "      <th></th>\n",
       "      <th>control_user_count</th>\n",
       "      <th>scaled_control</th>\n",
       "      <th>control</th>\n",
       "      <th>scaling_factor</th>\n",
       "      <th>cost_spent_on_exposed_group</th>\n",
       "      <th>absolute_lift</th>\n",
       "      <th>relative_lift</th>\n",
       "      <th>probability_of_lift</th>\n",
       "    </tr>\n",
       "  </thead>\n",
       "  <tbody>\n",
       "    <tr>\n",
       "      <th>count</th>\n",
       "      <td>3.200000e+01</td>\n",
       "      <td>32.000000</td>\n",
       "      <td>32.000000</td>\n",
       "      <td>32.000000</td>\n",
       "      <td>32.000000</td>\n",
       "      <td>32.000000</td>\n",
       "      <td>32.000000</td>\n",
       "      <td>32.000000</td>\n",
       "    </tr>\n",
       "    <tr>\n",
       "      <th>mean</th>\n",
       "      <td>3.733505e+06</td>\n",
       "      <td>8078.467573</td>\n",
       "      <td>3517.750000</td>\n",
       "      <td>2.326101</td>\n",
       "      <td>51277.508443</td>\n",
       "      <td>1058.032413</td>\n",
       "      <td>0.241100</td>\n",
       "      <td>0.973495</td>\n",
       "    </tr>\n",
       "    <tr>\n",
       "      <th>std</th>\n",
       "      <td>7.701590e+06</td>\n",
       "      <td>10742.302499</td>\n",
       "      <td>4728.978148</td>\n",
       "      <td>0.043323</td>\n",
       "      <td>70138.888857</td>\n",
       "      <td>2059.593853</td>\n",
       "      <td>0.222534</td>\n",
       "      <td>0.030847</td>\n",
       "    </tr>\n",
       "    <tr>\n",
       "      <th>min</th>\n",
       "      <td>1.272900e+04</td>\n",
       "      <td>50.999996</td>\n",
       "      <td>22.000000</td>\n",
       "      <td>2.223291</td>\n",
       "      <td>2302.680070</td>\n",
       "      <td>46.353321</td>\n",
       "      <td>0.043823</td>\n",
       "      <td>0.904501</td>\n",
       "    </tr>\n",
       "    <tr>\n",
       "      <th>25%</th>\n",
       "      <td>1.311148e+05</td>\n",
       "      <td>755.352631</td>\n",
       "      <td>323.250000</td>\n",
       "      <td>2.314921</td>\n",
       "      <td>12099.522580</td>\n",
       "      <td>179.840870</td>\n",
       "      <td>0.104656</td>\n",
       "      <td>0.947100</td>\n",
       "    </tr>\n",
       "    <tr>\n",
       "      <th>50%</th>\n",
       "      <td>6.746880e+05</td>\n",
       "      <td>3072.500000</td>\n",
       "      <td>1316.500000</td>\n",
       "      <td>2.328779</td>\n",
       "      <td>30943.165127</td>\n",
       "      <td>519.500000</td>\n",
       "      <td>0.156794</td>\n",
       "      <td>0.989727</td>\n",
       "    </tr>\n",
       "    <tr>\n",
       "      <th>75%</th>\n",
       "      <td>4.166923e+06</td>\n",
       "      <td>10485.000000</td>\n",
       "      <td>4542.250000</td>\n",
       "      <td>2.333190</td>\n",
       "      <td>60712.488899</td>\n",
       "      <td>1043.750000</td>\n",
       "      <td>0.336633</td>\n",
       "      <td>0.997563</td>\n",
       "    </tr>\n",
       "    <tr>\n",
       "      <th>max</th>\n",
       "      <td>4.191061e+07</td>\n",
       "      <td>38511.000000</td>\n",
       "      <td>17142.000000</td>\n",
       "      <td>2.511795</td>\n",
       "      <td>333900.618917</td>\n",
       "      <td>11330.000000</td>\n",
       "      <td>1.098039</td>\n",
       "      <td>1.000000</td>\n",
       "    </tr>\n",
       "  </tbody>\n",
       "</table>\n",
       "</div>"
      ],
      "text/plain": [
       "       control_user_count  scaled_control       control  scaling_factor  \\\n",
       "count        3.200000e+01       32.000000     32.000000       32.000000   \n",
       "mean         3.733505e+06     8078.467573   3517.750000        2.326101   \n",
       "std          7.701590e+06    10742.302499   4728.978148        0.043323   \n",
       "min          1.272900e+04       50.999996     22.000000        2.223291   \n",
       "25%          1.311148e+05      755.352631    323.250000        2.314921   \n",
       "50%          6.746880e+05     3072.500000   1316.500000        2.328779   \n",
       "75%          4.166923e+06    10485.000000   4542.250000        2.333190   \n",
       "max          4.191061e+07    38511.000000  17142.000000        2.511795   \n",
       "\n",
       "       cost_spent_on_exposed_group  absolute_lift  relative_lift  \\\n",
       "count                    32.000000      32.000000      32.000000   \n",
       "mean                  51277.508443    1058.032413       0.241100   \n",
       "std                   70138.888857    2059.593853       0.222534   \n",
       "min                    2302.680070      46.353321       0.043823   \n",
       "25%                   12099.522580     179.840870       0.104656   \n",
       "50%                   30943.165127     519.500000       0.156794   \n",
       "75%                   60712.488899    1043.750000       0.336633   \n",
       "max                  333900.618917   11330.000000       1.098039   \n",
       "\n",
       "       probability_of_lift  \n",
       "count            32.000000  \n",
       "mean              0.973495  \n",
       "std               0.030847  \n",
       "min               0.904501  \n",
       "25%               0.947100  \n",
       "50%               0.989727  \n",
       "75%               0.997563  \n",
       "max               1.000000  "
      ]
     },
     "execution_count": 47,
     "metadata": {},
     "output_type": "execute_result"
    }
   ],
   "source": [
    "#get a feel for ranges in dataset\n",
    "#indexing on relevant columns \n",
    "smb_2022_boxplots = smb_2022_fixed[['control_user_count', 'scaled_control', 'control', 'scaling_factor',\n",
    "       'cost_spent_on_exposed_group', 'absolute_lift', 'relative_lift', 'probability_of_lift']]\n",
    "smb_2022_boxplots.describe()"
   ]
  },
  {
   "cell_type": "code",
   "execution_count": 48,
   "id": "283b1bf9",
   "metadata": {},
   "outputs": [
    {
     "data": {
      "text/plain": [
       "control_user_count                AxesSubplot(0.125,0.657941;0.227941x0.222059)\n",
       "scaled_control                 AxesSubplot(0.398529,0.657941;0.227941x0.222059)\n",
       "control                        AxesSubplot(0.672059,0.657941;0.227941x0.222059)\n",
       "scaling_factor                    AxesSubplot(0.125,0.391471;0.227941x0.222059)\n",
       "cost_spent_on_exposed_group    AxesSubplot(0.398529,0.391471;0.227941x0.222059)\n",
       "absolute_lift                  AxesSubplot(0.672059,0.391471;0.227941x0.222059)\n",
       "relative_lift                        AxesSubplot(0.125,0.125;0.227941x0.222059)\n",
       "probability_of_lift               AxesSubplot(0.398529,0.125;0.227941x0.222059)\n",
       "dtype: object"
      ]
     },
     "execution_count": 48,
     "metadata": {},
     "output_type": "execute_result"
    },
    {
     "data": {
      "image/png": "[encoded data removed]",
      "text/plain": [
       "<Figure size 720x720 with 9 Axes>"
      ]
     },
     "metadata": {},
     "output_type": "display_data"
    }
   ],
   "source": [
    "#creating boxplot subplots of variables \n",
    "smb_2022_boxplots.plot(kind = \"box\", subplots = True, layout = (3,3), figsize = (10,10))"
   ]
  },
  {
   "cell_type": "code",
   "execution_count": 49,
   "id": "04981b7b",
   "metadata": {},
   "outputs": [
    {
     "data": {
      "text/plain": [
       "Text(0.5, 1.0, 'Cost Spent on Exposed Group vs. Absolute Lift')"
      ]
     },
     "execution_count": 49,
     "metadata": {},
     "output_type": "execute_result"
    },
    {
     "data": {
      "image/png": "[encoded data removed]",
      "text/plain": [
       "<Figure size 864x576 with 1 Axes>"
      ]
     },
     "metadata": {},
     "output_type": "display_data"
    }
   ],
   "source": [
    "#creating scatterplot of cost spent vs. absolute lift \n",
    "plt.figure(figsize = (12,8))\n",
    "plt.scatter(smb_2022_fixed['cost_spent_on_exposed_group'], smb_2022_fixed['absolute_lift'])\n",
    "plt.xlabel('Cost Spent')\n",
    "plt.ylabel('Absolute Lift')\n",
    "plt.title('Cost Spent on Exposed Group vs. Absolute Lift')"
   ]
  },
  {
   "cell_type": "markdown",
   "id": "66ac121d",
   "metadata": {},
   "source": [
    "### Calculating z-scores and extract values >3 and <-3"
   ]
  },
  {
   "cell_type": "code",
   "execution_count": 50,
   "id": "8b3cf098",
   "metadata": {},
   "outputs": [
    {
     "data": {
      "text/html": [
       "<div>\n",
       "<style scoped>\n",
       "    .dataframe tbody tr th:only-of-type {\n",
       "        vertical-align: middle;\n",
       "    }\n",
       "\n",
       "    .dataframe tbody tr th {\n",
       "        vertical-align: top;\n",
       "    }\n",
       "\n",
       "    .dataframe thead th {\n",
       "        text-align: right;\n",
       "    }\n",
       "</style>\n",
       "<table border=\"1\" class=\"dataframe\">\n",
       "  <thead>\n",
       "    <tr style=\"text-align: right;\">\n",
       "      <th></th>\n",
       "      <th>control_user_count</th>\n",
       "      <th>scaled_control</th>\n",
       "      <th>control</th>\n",
       "      <th>scaling_factor</th>\n",
       "      <th>cost_spent_on_exposed_group</th>\n",
       "      <th>absolute_lift</th>\n",
       "      <th>relative_lift</th>\n",
       "      <th>probability_of_lift</th>\n",
       "    </tr>\n",
       "  </thead>\n",
       "  <tbody>\n",
       "    <tr>\n",
       "      <th>0</th>\n",
       "      <td>-0.448442</td>\n",
       "      <td>-0.283630</td>\n",
       "      <td>-0.288054</td>\n",
       "      <td>0.113297</td>\n",
       "      <td>-0.339194</td>\n",
       "      <td>-0.198627</td>\n",
       "      <td>-0.506446</td>\n",
       "      <td>0.757722</td>\n",
       "    </tr>\n",
       "    <tr>\n",
       "      <th>1</th>\n",
       "      <td>-0.301582</td>\n",
       "      <td>-0.689284</td>\n",
       "      <td>-0.683156</td>\n",
       "      <td>0.131029</td>\n",
       "      <td>-0.323392</td>\n",
       "      <td>-0.461543</td>\n",
       "      <td>-0.377273</td>\n",
       "      <td>-0.124991</td>\n",
       "    </tr>\n",
       "    <tr>\n",
       "      <th>2</th>\n",
       "      <td>-0.339016</td>\n",
       "      <td>-0.702613</td>\n",
       "      <td>-0.695832</td>\n",
       "      <td>0.108503</td>\n",
       "      <td>-0.446942</td>\n",
       "      <td>-0.467000</td>\n",
       "      <td>-0.323349</td>\n",
       "      <td>-1.541285</td>\n",
       "    </tr>\n",
       "    <tr>\n",
       "      <th>3</th>\n",
       "      <td>-0.410382</td>\n",
       "      <td>-0.711827</td>\n",
       "      <td>-0.704855</td>\n",
       "      <td>0.116323</td>\n",
       "      <td>-0.558901</td>\n",
       "      <td>-0.430293</td>\n",
       "      <td>0.432541</td>\n",
       "      <td>0.586450</td>\n",
       "    </tr>\n",
       "    <tr>\n",
       "      <th>4</th>\n",
       "      <td>-0.019180</td>\n",
       "      <td>-0.141315</td>\n",
       "      <td>-0.149264</td>\n",
       "      <td>0.084848</td>\n",
       "      <td>4.093954</td>\n",
       "      <td>-0.166419</td>\n",
       "      <td>-0.601048</td>\n",
       "      <td>0.523177</td>\n",
       "    </tr>\n",
       "    <tr>\n",
       "      <th>5</th>\n",
       "      <td>-0.093139</td>\n",
       "      <td>2.113050</td>\n",
       "      <td>2.184176</td>\n",
       "      <td>-2.411057</td>\n",
       "      <td>-0.193157</td>\n",
       "      <td>5.067178</td>\n",
       "      <td>0.599716</td>\n",
       "      <td>0.873002</td>\n",
       "    </tr>\n",
       "    <tr>\n",
       "      <th>6</th>\n",
       "      <td>-0.101125</td>\n",
       "      <td>-0.670222</td>\n",
       "      <td>-0.664464</td>\n",
       "      <td>0.222534</td>\n",
       "      <td>-0.050535</td>\n",
       "      <td>-0.379427</td>\n",
       "      <td>0.228581</td>\n",
       "      <td>0.793866</td>\n",
       "    </tr>\n",
       "    <tr>\n",
       "      <th>7</th>\n",
       "      <td>-0.396662</td>\n",
       "      <td>-0.746868</td>\n",
       "      <td>-0.739016</td>\n",
       "      <td>0.099335</td>\n",
       "      <td>-0.556057</td>\n",
       "      <td>-0.485296</td>\n",
       "      <td>0.764789</td>\n",
       "      <td>0.006033</td>\n",
       "    </tr>\n",
       "    <tr>\n",
       "      <th>8</th>\n",
       "      <td>-0.488792</td>\n",
       "      <td>-0.474171</td>\n",
       "      <td>-0.469814</td>\n",
       "      <td>-0.576587</td>\n",
       "      <td>-0.691878</td>\n",
       "      <td>-0.009389</td>\n",
       "      <td>0.447034</td>\n",
       "      <td>0.867259</td>\n",
       "    </tr>\n",
       "    <tr>\n",
       "      <th>9</th>\n",
       "      <td>-0.427786</td>\n",
       "      <td>-0.729354</td>\n",
       "      <td>-0.722043</td>\n",
       "      <td>0.272118</td>\n",
       "      <td>0.507316</td>\n",
       "      <td>-0.441974</td>\n",
       "      <td>0.916022</td>\n",
       "      <td>0.823054</td>\n",
       "    </tr>\n",
       "    <tr>\n",
       "      <th>10</th>\n",
       "      <td>-0.488213</td>\n",
       "      <td>-0.665443</td>\n",
       "      <td>-0.659523</td>\n",
       "      <td>0.040757</td>\n",
       "      <td>-0.448146</td>\n",
       "      <td>-0.366372</td>\n",
       "      <td>0.280036</td>\n",
       "      <td>0.586620</td>\n",
       "    </tr>\n",
       "    <tr>\n",
       "      <th>11</th>\n",
       "      <td>-0.477795</td>\n",
       "      <td>-0.510584</td>\n",
       "      <td>-0.504404</td>\n",
       "      <td>-0.829481</td>\n",
       "      <td>-0.448698</td>\n",
       "      <td>-0.359633</td>\n",
       "      <td>-0.539879</td>\n",
       "      <td>-1.167232</td>\n",
       "    </tr>\n",
       "    <tr>\n",
       "      <th>12</th>\n",
       "      <td>5.036359</td>\n",
       "      <td>2.528443</td>\n",
       "      <td>2.479804</td>\n",
       "      <td>-0.344182</td>\n",
       "      <td>2.940262</td>\n",
       "      <td>1.252477</td>\n",
       "      <td>-0.628992</td>\n",
       "      <td>0.867515</td>\n",
       "    </tr>\n",
       "    <tr>\n",
       "      <th>13</th>\n",
       "      <td>0.737413</td>\n",
       "      <td>-0.479089</td>\n",
       "      <td>-0.475185</td>\n",
       "      <td>-0.260182</td>\n",
       "      <td>-0.639106</td>\n",
       "      <td>-0.192897</td>\n",
       "      <td>-0.089932</td>\n",
       "      <td>0.839960</td>\n",
       "    </tr>\n",
       "    <tr>\n",
       "      <th>14</th>\n",
       "      <td>-0.474376</td>\n",
       "      <td>-0.456012</td>\n",
       "      <td>-0.458427</td>\n",
       "      <td>0.912095</td>\n",
       "      <td>-0.617647</td>\n",
       "      <td>-0.284158</td>\n",
       "      <td>-0.424492</td>\n",
       "      <td>0.546077</td>\n",
       "    </tr>\n",
       "    <tr>\n",
       "      <th>15</th>\n",
       "      <td>-0.451235</td>\n",
       "      <td>-0.450533</td>\n",
       "      <td>-0.473252</td>\n",
       "      <td>4.354806</td>\n",
       "      <td>0.153402</td>\n",
       "      <td>-0.235285</td>\n",
       "      <td>-0.300464</td>\n",
       "      <td>0.823104</td>\n",
       "    </tr>\n",
       "    <tr>\n",
       "      <th>16</th>\n",
       "      <td>-0.489945</td>\n",
       "      <td>-0.472752</td>\n",
       "      <td>-0.472607</td>\n",
       "      <td>0.407974</td>\n",
       "      <td>-0.694072</td>\n",
       "      <td>-0.362099</td>\n",
       "      <td>-0.620939</td>\n",
       "      <td>-0.990017</td>\n",
       "    </tr>\n",
       "    <tr>\n",
       "      <th>17</th>\n",
       "      <td>-0.205617</td>\n",
       "      <td>-0.531675</td>\n",
       "      <td>-0.528682</td>\n",
       "      <td>-0.078249</td>\n",
       "      <td>0.737624</td>\n",
       "      <td>-0.369992</td>\n",
       "      <td>-0.528863</td>\n",
       "      <td>0.211996</td>\n",
       "    </tr>\n",
       "    <tr>\n",
       "      <th>18</th>\n",
       "      <td>0.147678</td>\n",
       "      <td>0.065688</td>\n",
       "      <td>0.055699</td>\n",
       "      <td>-0.086263</td>\n",
       "      <td>0.131094</td>\n",
       "      <td>0.001957</td>\n",
       "      <td>-0.548355</td>\n",
       "      <td>0.838502</td>\n",
       "    </tr>\n",
       "    <tr>\n",
       "      <th>19</th>\n",
       "      <td>0.378062</td>\n",
       "      <td>0.780142</td>\n",
       "      <td>0.755881</td>\n",
       "      <td>0.111535</td>\n",
       "      <td>-0.265717</td>\n",
       "      <td>-0.168725</td>\n",
       "      <td>-0.900692</td>\n",
       "      <td>-2.272443</td>\n",
       "    </tr>\n",
       "    <tr>\n",
       "      <th>20</th>\n",
       "      <td>-0.486748</td>\n",
       "      <td>-0.095948</td>\n",
       "      <td>-0.105436</td>\n",
       "      <td>0.163178</td>\n",
       "      <td>-0.593357</td>\n",
       "      <td>-0.247160</td>\n",
       "      <td>-0.740468</td>\n",
       "      <td>-0.829166</td>\n",
       "    </tr>\n",
       "    <tr>\n",
       "      <th>21</th>\n",
       "      <td>0.523226</td>\n",
       "      <td>0.822892</td>\n",
       "      <td>0.800139</td>\n",
       "      <td>0.020631</td>\n",
       "      <td>0.324510</td>\n",
       "      <td>0.762135</td>\n",
       "      <td>-0.392543</td>\n",
       "      <td>-1.956436</td>\n",
       "    </tr>\n",
       "    <tr>\n",
       "      <th>22</th>\n",
       "      <td>0.805844</td>\n",
       "      <td>1.071446</td>\n",
       "      <td>1.045064</td>\n",
       "      <td>-0.268231</td>\n",
       "      <td>-0.204602</td>\n",
       "      <td>0.008863</td>\n",
       "      <td>-0.847662</td>\n",
       "      <td>0.213328</td>\n",
       "    </tr>\n",
       "    <tr>\n",
       "      <th>23</th>\n",
       "      <td>0.027010</td>\n",
       "      <td>-0.009597</td>\n",
       "      <td>-0.011333</td>\n",
       "      <td>-0.161667</td>\n",
       "      <td>0.223288</td>\n",
       "      <td>-0.218055</td>\n",
       "      <td>-0.748329</td>\n",
       "      <td>0.546077</td>\n",
       "    </tr>\n",
       "    <tr>\n",
       "      <th>24</th>\n",
       "      <td>0.207761</td>\n",
       "      <td>2.878292</td>\n",
       "      <td>2.927113</td>\n",
       "      <td>-1.790308</td>\n",
       "      <td>0.128958</td>\n",
       "      <td>0.982148</td>\n",
       "      <td>-0.739331</td>\n",
       "      <td>0.792352</td>\n",
       "    </tr>\n",
       "    <tr>\n",
       "      <th>25</th>\n",
       "      <td>-0.490848</td>\n",
       "      <td>-0.753784</td>\n",
       "      <td>-0.745676</td>\n",
       "      <td>-0.359159</td>\n",
       "      <td>-0.709428</td>\n",
       "      <td>-0.491153</td>\n",
       "      <td>1.521703</td>\n",
       "      <td>-1.901477</td>\n",
       "    </tr>\n",
       "    <tr>\n",
       "      <th>26</th>\n",
       "      <td>-0.479405</td>\n",
       "      <td>1.447400</td>\n",
       "      <td>1.409012</td>\n",
       "      <td>-0.106796</td>\n",
       "      <td>-0.518915</td>\n",
       "      <td>-0.000016</td>\n",
       "      <td>-0.894200</td>\n",
       "      <td>-1.485900</td>\n",
       "    </tr>\n",
       "    <tr>\n",
       "      <th>27</th>\n",
       "      <td>-0.453967</td>\n",
       "      <td>-0.759233</td>\n",
       "      <td>-0.751047</td>\n",
       "      <td>-0.168464</td>\n",
       "      <td>-0.181250</td>\n",
       "      <td>-0.494304</td>\n",
       "      <td>3.912441</td>\n",
       "      <td>0.678074</td>\n",
       "    </tr>\n",
       "    <tr>\n",
       "      <th>28</th>\n",
       "      <td>-0.435096</td>\n",
       "      <td>-0.749405</td>\n",
       "      <td>-0.741594</td>\n",
       "      <td>0.523590</td>\n",
       "      <td>-0.602600</td>\n",
       "      <td>-0.492782</td>\n",
       "      <td>0.640557</td>\n",
       "      <td>-1.419786</td>\n",
       "    </tr>\n",
       "    <tr>\n",
       "      <th>29</th>\n",
       "      <td>-0.486243</td>\n",
       "      <td>-0.579722</td>\n",
       "      <td>-0.577022</td>\n",
       "      <td>0.463162</td>\n",
       "      <td>-0.682511</td>\n",
       "      <td>-0.349767</td>\n",
       "      <td>-0.283731</td>\n",
       "      <td>0.446027</td>\n",
       "    </tr>\n",
       "    <tr>\n",
       "      <th>30</th>\n",
       "      <td>1.032395</td>\n",
       "      <td>0.713369</td>\n",
       "      <td>0.713342</td>\n",
       "      <td>-0.880507</td>\n",
       "      <td>0.497358</td>\n",
       "      <td>0.096671</td>\n",
       "      <td>-0.734138</td>\n",
       "      <td>0.475307</td>\n",
       "    </tr>\n",
       "    <tr>\n",
       "      <th>31</th>\n",
       "      <td>-0.450153</td>\n",
       "      <td>-0.757659</td>\n",
       "      <td>-0.749543</td>\n",
       "      <td>0.175418</td>\n",
       "      <td>0.028340</td>\n",
       "      <td>-0.499063</td>\n",
       "      <td>2.027704</td>\n",
       "      <td>0.593232</td>\n",
       "    </tr>\n",
       "  </tbody>\n",
       "</table>\n",
       "</div>"
      ],
      "text/plain": [
       "    control_user_count  scaled_control   control  scaling_factor  \\\n",
       "0            -0.448442       -0.283630 -0.288054        0.113297   \n",
       "1            -0.301582       -0.689284 -0.683156        0.131029   \n",
       "2            -0.339016       -0.702613 -0.695832        0.108503   \n",
       "3            -0.410382       -0.711827 -0.704855        0.116323   \n",
       "4            -0.019180       -0.141315 -0.149264        0.084848   \n",
       "5            -0.093139        2.113050  2.184176       -2.411057   \n",
       "6            -0.101125       -0.670222 -0.664464        0.222534   \n",
       "7            -0.396662       -0.746868 -0.739016        0.099335   \n",
       "8            -0.488792       -0.474171 -0.469814       -0.576587   \n",
       "9            -0.427786       -0.729354 -0.722043        0.272118   \n",
       "10           -0.488213       -0.665443 -0.659523        0.040757   \n",
       "11           -0.477795       -0.510584 -0.504404       -0.829481   \n",
       "12            5.036359        2.528443  2.479804       -0.344182   \n",
       "13            0.737413       -0.479089 -0.475185       -0.260182   \n",
       "14           -0.474376       -0.456012 -0.458427        0.912095   \n",
       "15           -0.451235       -0.450533 -0.473252        4.354806   \n",
       "16           -0.489945       -0.472752 -0.472607        0.407974   \n",
       "17           -0.205617       -0.531675 -0.528682       -0.078249   \n",
       "18            0.147678        0.065688  0.055699       -0.086263   \n",
       "19            0.378062        0.780142  0.755881        0.111535   \n",
       "20           -0.486748       -0.095948 -0.105436        0.163178   \n",
       "21            0.523226        0.822892  0.800139        0.020631   \n",
       "22            0.805844        1.071446  1.045064       -0.268231   \n",
       "23            0.027010       -0.009597 -0.011333       -0.161667   \n",
       "24            0.207761        2.878292  2.927113       -1.790308   \n",
       "25           -0.490848       -0.753784 -0.745676       -0.359159   \n",
       "26           -0.479405        1.447400  1.409012       -0.106796   \n",
       "27           -0.453967       -0.759233 -0.751047       -0.168464   \n",
       "28           -0.435096       -0.749405 -0.741594        0.523590   \n",
       "29           -0.486243       -0.579722 -0.577022        0.463162   \n",
       "30            1.032395        0.713369  0.713342       -0.880507   \n",
       "31           -0.450153       -0.757659 -0.749543        0.175418   \n",
       "\n",
       "    cost_spent_on_exposed_group  absolute_lift  relative_lift  \\\n",
       "0                     -0.339194      -0.198627      -0.506446   \n",
       "1                     -0.323392      -0.461543      -0.377273   \n",
       "2                     -0.446942      -0.467000      -0.323349   \n",
       "3                     -0.558901      -0.430293       0.432541   \n",
       "4                      4.093954      -0.166419      -0.601048   \n",
       "5                     -0.193157       5.067178       0.599716   \n",
       "6                     -0.050535      -0.379427       0.228581   \n",
       "7                     -0.556057      -0.485296       0.764789   \n",
       "8                     -0.691878      -0.009389       0.447034   \n",
       "9                      0.507316      -0.441974       0.916022   \n",
       "10                    -0.448146      -0.366372       0.280036   \n",
       "11                    -0.448698      -0.359633      -0.539879   \n",
       "12                     2.940262       1.252477      -0.628992   \n",
       "13                    -0.639106      -0.192897      -0.089932   \n",
       "14                    -0.617647      -0.284158      -0.424492   \n",
       "15                     0.153402      -0.235285      -0.300464   \n",
       "16                    -0.694072      -0.362099      -0.620939   \n",
       "17                     0.737624      -0.369992      -0.528863   \n",
       "18                     0.131094       0.001957      -0.548355   \n",
       "19                    -0.265717      -0.168725      -0.900692   \n",
       "20                    -0.593357      -0.247160      -0.740468   \n",
       "21                     0.324510       0.762135      -0.392543   \n",
       "22                    -0.204602       0.008863      -0.847662   \n",
       "23                     0.223288      -0.218055      -0.748329   \n",
       "24                     0.128958       0.982148      -0.739331   \n",
       "25                    -0.709428      -0.491153       1.521703   \n",
       "26                    -0.518915      -0.000016      -0.894200   \n",
       "27                    -0.181250      -0.494304       3.912441   \n",
       "28                    -0.602600      -0.492782       0.640557   \n",
       "29                    -0.682511      -0.349767      -0.283731   \n",
       "30                     0.497358       0.096671      -0.734138   \n",
       "31                     0.028340      -0.499063       2.027704   \n",
       "\n",
       "    probability_of_lift  \n",
       "0              0.757722  \n",
       "1             -0.124991  \n",
       "2             -1.541285  \n",
       "3              0.586450  \n",
       "4              0.523177  \n",
       "5              0.873002  \n",
       "6              0.793866  \n",
       "7              0.006033  \n",
       "8              0.867259  \n",
       "9              0.823054  \n",
       "10             0.586620  \n",
       "11            -1.167232  \n",
       "12             0.867515  \n",
       "13             0.839960  \n",
       "14             0.546077  \n",
       "15             0.823104  \n",
       "16            -0.990017  \n",
       "17             0.211996  \n",
       "18             0.838502  \n",
       "19            -2.272443  \n",
       "20            -0.829166  \n",
       "21            -1.956436  \n",
       "22             0.213328  \n",
       "23             0.546077  \n",
       "24             0.792352  \n",
       "25            -1.901477  \n",
       "26            -1.485900  \n",
       "27             0.678074  \n",
       "28            -1.419786  \n",
       "29             0.446027  \n",
       "30             0.475307  \n",
       "31             0.593232  "
      ]
     },
     "execution_count": 50,
     "metadata": {},
     "output_type": "execute_result"
    }
   ],
   "source": [
    "#calculating all z scores per variable\n",
    "\n",
    "z_scores = stats.zscore(smb_2022_boxplots)\n",
    "z_scores"
   ]
  },
  {
   "cell_type": "code",
   "execution_count": 51,
   "id": "444fd699",
   "metadata": {},
   "outputs": [
    {
     "data": {
      "text/plain": [
       "(27, 8)"
      ]
     },
     "execution_count": 51,
     "metadata": {},
     "output_type": "execute_result"
    }
   ],
   "source": [
    "#getting absolute values \n",
    "abs_z_scores = np.abs(z_scores)\n",
    "\n",
    "#filtering out outliers \n",
    "wo_outliers = (abs_z_scores < 3).all(axis = 1)\n",
    "\n",
    "smb_wo_outliers = smb_2022_boxplots[wo_outliers]\n",
    "smb_wo_outliers.shape"
   ]
  },
  {
   "cell_type": "code",
   "execution_count": 52,
   "id": "4f9cbf55",
   "metadata": {},
   "outputs": [
    {
     "data": {
      "text/plain": [
       "(32, 21)"
      ]
     },
     "execution_count": 52,
     "metadata": {},
     "output_type": "execute_result"
    }
   ],
   "source": [
    "\n",
    "#got rid of 5 data points\n",
    "smb_2022_fixed.shape"
   ]
  },
  {
   "cell_type": "code",
   "execution_count": 53,
   "id": "3b4df4c5",
   "metadata": {},
   "outputs": [
    {
     "data": {
      "text/html": [
       "<div>\n",
       "<style scoped>\n",
       "    .dataframe tbody tr th:only-of-type {\n",
       "        vertical-align: middle;\n",
       "    }\n",
       "\n",
       "    .dataframe tbody tr th {\n",
       "        vertical-align: top;\n",
       "    }\n",
       "\n",
       "    .dataframe thead th {\n",
       "        text-align: right;\n",
       "    }\n",
       "</style>\n",
       "<table border=\"1\" class=\"dataframe\">\n",
       "  <thead>\n",
       "    <tr style=\"text-align: right;\">\n",
       "      <th></th>\n",
       "      <th>cost_spent_on_exposed_group</th>\n",
       "      <th>absolute_lift</th>\n",
       "    </tr>\n",
       "  </thead>\n",
       "  <tbody>\n",
       "    <tr>\n",
       "      <th>0</th>\n",
       "      <td>-0.339194</td>\n",
       "      <td>-0.198627</td>\n",
       "    </tr>\n",
       "    <tr>\n",
       "      <th>1</th>\n",
       "      <td>-0.323392</td>\n",
       "      <td>-0.461543</td>\n",
       "    </tr>\n",
       "    <tr>\n",
       "      <th>2</th>\n",
       "      <td>-0.446942</td>\n",
       "      <td>-0.467000</td>\n",
       "    </tr>\n",
       "    <tr>\n",
       "      <th>3</th>\n",
       "      <td>-0.558901</td>\n",
       "      <td>-0.430293</td>\n",
       "    </tr>\n",
       "    <tr>\n",
       "      <th>4</th>\n",
       "      <td>4.093954</td>\n",
       "      <td>-0.166419</td>\n",
       "    </tr>\n",
       "  </tbody>\n",
       "</table>\n",
       "</div>"
      ],
      "text/plain": [
       "   cost_spent_on_exposed_group  absolute_lift\n",
       "0                    -0.339194      -0.198627\n",
       "1                    -0.323392      -0.461543\n",
       "2                    -0.446942      -0.467000\n",
       "3                    -0.558901      -0.430293\n",
       "4                     4.093954      -0.166419"
      ]
     },
     "execution_count": 53,
     "metadata": {},
     "output_type": "execute_result"
    }
   ],
   "source": [
    "#since modeling analysis is only looking at cost vs absolute lift, then will restrict only based on those two columns\n",
    "\n",
    "smb_2022_modeling = smb_2022_fixed[['cost_spent_on_exposed_group', 'absolute_lift']]\n",
    "\n",
    "z_scores = stats.zscore(smb_2022_modeling)\n",
    "z_scores.head()"
   ]
  },
  {
   "cell_type": "code",
   "execution_count": 54,
   "id": "264f01d8",
   "metadata": {},
   "outputs": [
    {
     "data": {
      "text/plain": [
       "(30, 2)"
      ]
     },
     "execution_count": 54,
     "metadata": {},
     "output_type": "execute_result"
    }
   ],
   "source": [
    "#getting absolute values for each \n",
    "abs_z_scores = np.abs(z_scores)\n",
    "\n",
    "#filtering based on which datapoints lie below 3 \n",
    "wo_outliers = (abs_z_scores < 3).all(axis = 1)\n",
    "\n",
    "#getting rid of outliers and updating smb_2022_modeling\n",
    "smb_2022_modeling_z = smb_2022_modeling[wo_outliers]\n",
    "smb_2022_modeling_z.shape\n",
    "\n",
    "#got rid of two data points that had z scores either > 3 or < -3"
   ]
  },
  {
   "cell_type": "markdown",
   "id": "b36f2168",
   "metadata": {},
   "source": [
    "### Interquartile Range"
   ]
  },
  {
   "cell_type": "code",
   "execution_count": 55,
   "id": "d9d0927c",
   "metadata": {},
   "outputs": [
    {
     "data": {
      "text/html": [
       "<div>\n",
       "<style scoped>\n",
       "    .dataframe tbody tr th:only-of-type {\n",
       "        vertical-align: middle;\n",
       "    }\n",
       "\n",
       "    .dataframe tbody tr th {\n",
       "        vertical-align: top;\n",
       "    }\n",
       "\n",
       "    .dataframe thead th {\n",
       "        text-align: right;\n",
       "    }\n",
       "</style>\n",
       "<table border=\"1\" class=\"dataframe\">\n",
       "  <thead>\n",
       "    <tr style=\"text-align: right;\">\n",
       "      <th></th>\n",
       "      <th>cost_spent_on_exposed_group</th>\n",
       "      <th>absolute_lift</th>\n",
       "    </tr>\n",
       "  </thead>\n",
       "  <tbody>\n",
       "    <tr>\n",
       "      <th>4</th>\n",
       "      <td>333900.618917</td>\n",
       "      <td>720.675659</td>\n",
       "    </tr>\n",
       "    <tr>\n",
       "      <th>5</th>\n",
       "      <td>37943.032364</td>\n",
       "      <td>11330.000000</td>\n",
       "    </tr>\n",
       "    <tr>\n",
       "      <th>12</th>\n",
       "      <td>254256.323043</td>\n",
       "      <td>3597.000000</td>\n",
       "    </tr>\n",
       "    <tr>\n",
       "      <th>21</th>\n",
       "      <td>73679.827312</td>\n",
       "      <td>2603.000000</td>\n",
       "    </tr>\n",
       "    <tr>\n",
       "      <th>24</th>\n",
       "      <td>60180.015069</td>\n",
       "      <td>3049.000000</td>\n",
       "    </tr>\n",
       "  </tbody>\n",
       "</table>\n",
       "</div>"
      ],
      "text/plain": [
       "    cost_spent_on_exposed_group  absolute_lift\n",
       "4                 333900.618917     720.675659\n",
       "5                  37943.032364   11330.000000\n",
       "12                254256.323043    3597.000000\n",
       "21                 73679.827312    2603.000000\n",
       "24                 60180.015069    3049.000000"
      ]
     },
     "execution_count": 55,
     "metadata": {},
     "output_type": "execute_result"
    }
   ],
   "source": [
    "# calculating .25 qand .75 quantiles of the dataset \n",
    "Q1 = smb_2022_modeling.quantile(0.25)\n",
    "Q3 = smb_2022_modeling.quantile(0.75)\n",
    "\n",
    "# calculate the IQR\n",
    "IQR = Q3 - Q1\n",
    "\n",
    "# filter the dataset with the IQR\n",
    "IQR_outliers = smb_2022_modeling[((smb_2022_modeling < (Q1 - 1.5 * IQR)) |(smb_2022_modeling > (Q3 + 1.5 * IQR))).any(axis=1)]\n",
    "IQR_outliers"
   ]
  },
  {
   "cell_type": "code",
   "execution_count": 56,
   "id": "467a766a",
   "metadata": {},
   "outputs": [
    {
     "data": {
      "text/plain": [
       "(27, 2)"
      ]
     },
     "execution_count": 56,
     "metadata": {},
     "output_type": "execute_result"
    }
   ],
   "source": [
    "#saving to new dataframe\n",
    "\n",
    "smb_2022_IQR = smb_2022_modeling[~((smb_2022_modeling < (Q1 - 1.5 * IQR)) |(smb_2022_modeling > (Q3 + 1.5 * IQR))).any(axis=1)]\n",
    "smb_2022_IQR.shape"
   ]
  },
  {
   "cell_type": "code",
   "execution_count": 57,
   "id": "32b3aa93",
   "metadata": {},
   "outputs": [],
   "source": [
    "smb_2022_IQR = smb_2022_IQR.reset_index(drop = True)"
   ]
  },
  {
   "cell_type": "code",
   "execution_count": 58,
   "id": "31caeb8a",
   "metadata": {},
   "outputs": [
    {
     "data": {
      "text/html": [
       "<div>\n",
       "<style scoped>\n",
       "    .dataframe tbody tr th:only-of-type {\n",
       "        vertical-align: middle;\n",
       "    }\n",
       "\n",
       "    .dataframe tbody tr th {\n",
       "        vertical-align: top;\n",
       "    }\n",
       "\n",
       "    .dataframe thead th {\n",
       "        text-align: right;\n",
       "    }\n",
       "</style>\n",
       "<table border=\"1\" class=\"dataframe\">\n",
       "  <thead>\n",
       "    <tr style=\"text-align: right;\">\n",
       "      <th></th>\n",
       "      <th>cost_spent_on_exposed_group</th>\n",
       "      <th>absolute_lift</th>\n",
       "    </tr>\n",
       "  </thead>\n",
       "  <tbody>\n",
       "    <tr>\n",
       "      <th>0</th>\n",
       "      <td>27861.472510</td>\n",
       "      <td>655.384583</td>\n",
       "    </tr>\n",
       "    <tr>\n",
       "      <th>1</th>\n",
       "      <td>28952.369800</td>\n",
       "      <td>122.413147</td>\n",
       "    </tr>\n",
       "    <tr>\n",
       "      <th>2</th>\n",
       "      <td>20423.227120</td>\n",
       "      <td>111.350044</td>\n",
       "    </tr>\n",
       "    <tr>\n",
       "      <th>3</th>\n",
       "      <td>12694.184520</td>\n",
       "      <td>185.760742</td>\n",
       "    </tr>\n",
       "    <tr>\n",
       "      <th>4</th>\n",
       "      <td>47788.858417</td>\n",
       "      <td>288.873688</td>\n",
       "    </tr>\n",
       "  </tbody>\n",
       "</table>\n",
       "</div>"
      ],
      "text/plain": [
       "   cost_spent_on_exposed_group  absolute_lift\n",
       "0                 27861.472510     655.384583\n",
       "1                 28952.369800     122.413147\n",
       "2                 20423.227120     111.350044\n",
       "3                 12694.184520     185.760742\n",
       "4                 47788.858417     288.873688"
      ]
     },
     "execution_count": 58,
     "metadata": {},
     "output_type": "execute_result"
    }
   ],
   "source": [
    "smb_2022_IQR.head()"
   ]
  },
  {
   "cell_type": "markdown",
   "id": "d8484b67",
   "metadata": {},
   "source": [
    "### Tukey's method used to extract exact outlier values "
   ]
  },
  {
   "cell_type": "code",
   "execution_count": null,
   "id": "0f87b529",
   "metadata": {},
   "outputs": [],
   "source": []
  },
  {
   "cell_type": "code",
   "execution_count": 59,
   "id": "db13a543",
   "metadata": {},
   "outputs": [],
   "source": [
    "#meant to distinguish between probable and possible outliers,\n",
    "#where possible outliers lie beyond inner fence and possible beyon outer fence \n",
    "\n",
    "def tukeys_method(df, variable):\n",
    "    \n",
    "    #Takes two parameters: dataframe & variable of interest as string\n",
    "    q1 = df[variable].quantile(0.25)\n",
    "    q3 = df[variable].quantile(0.75)\n",
    "    iqr = q3-q1\n",
    "    inner_fence = 1.5*iqr\n",
    "    outer_fence = 3*iqr\n",
    "    \n",
    "    #inner fence lower and upper end\n",
    "    inner_fence_le = q1-inner_fence\n",
    "    inner_fence_ue = q3+inner_fence\n",
    "    \n",
    "    #outer fence lower and upper end\n",
    "    outer_fence_le = q1-outer_fence\n",
    "    outer_fence_ue = q3+outer_fence\n",
    "    \n",
    "    outliers_prob = []\n",
    "    outliers_poss = []\n",
    "    for index, x in enumerate(df[variable]):\n",
    "        if x <= outer_fence_le or x >= outer_fence_ue:\n",
    "            outliers_prob.append(x)\n",
    "    for index, x in enumerate(df[variable]):\n",
    "        if x <= inner_fence_le or x >= inner_fence_ue:\n",
    "            outliers_poss.append(x)\n",
    "    #getting rid of data points that are probable outliers \n",
    "    for outlier in outliers_prob:\n",
    "        df = df[df[variable] != outlier]\n",
    "    return df"
   ]
  },
  {
   "cell_type": "code",
   "execution_count": 60,
   "id": "b4dcd1c7",
   "metadata": {},
   "outputs": [
    {
     "data": {
      "text/plain": [
       "(30, 21)"
      ]
     },
     "execution_count": 60,
     "metadata": {},
     "output_type": "execute_result"
    }
   ],
   "source": [
    "#excluding outliers found within the cost spent variable first \n",
    "smb_2022_tk = tukeys_method(smb_2022_fixed, 'cost_spent_on_exposed_group')\n",
    "\n",
    "smb_2022_tk.shape"
   ]
  },
  {
   "cell_type": "code",
   "execution_count": 61,
   "id": "e0a4f711",
   "metadata": {},
   "outputs": [
    {
     "data": {
      "text/plain": [
       "(29, 21)"
      ]
     },
     "execution_count": 61,
     "metadata": {},
     "output_type": "execute_result"
    }
   ],
   "source": [
    "#now excluding outliers from absolute lift variable \n",
    "\n",
    "smb_2022_tk = tukeys_method(smb_2022_tk, 'absolute_lift')\n",
    "\n",
    "smb_2022_tk.shape"
   ]
  },
  {
   "cell_type": "markdown",
   "id": "0a839e8f",
   "metadata": {},
   "source": [
    "## Running regression functions on data, grouped by channels"
   ]
  },
  {
   "cell_type": "code",
   "execution_count": 62,
   "id": "3cde2947",
   "metadata": {},
   "outputs": [],
   "source": [
    "powers = []\n",
    "for i in np.arange(0.1,0.9,.01):\n",
    "    powers.append(i)"
   ]
  },
  {
   "cell_type": "code",
   "execution_count": 63,
   "id": "225a3fe1",
   "metadata": {},
   "outputs": [],
   "source": [
    "import warnings\n",
    "warnings.filterwarnings('ignore')"
   ]
  },
  {
   "cell_type": "markdown",
   "id": "59f4cca6",
   "metadata": {},
   "source": [
    "# Discovery "
   ]
  },
  {
   "cell_type": "code",
   "execution_count": 88,
   "id": "d992bb62",
   "metadata": {},
   "outputs": [
    {
     "data": {
      "text/plain": [
       "((0.8899999999999996, 585.7884742359188),\n",
       " (0.8899999999999996, 0.6411908064537689))"
      ]
     },
     "execution_count": 88,
     "metadata": {},
     "output_type": "execute_result"
    }
   ],
   "source": [
    "Hubor_Regressor(discovery_data, powers = powers, channel = 'Discovery')"
   ]
  },
  {
   "cell_type": "code",
   "execution_count": 89,
   "id": "9318dbc2",
   "metadata": {},
   "outputs": [
    {
     "data": {
      "text/plain": [
       "((0.8899999999999996, 580.167636244754),\n",
       " (0.8899999999999996, 0.6480435611827303))"
      ]
     },
     "execution_count": 89,
     "metadata": {},
     "output_type": "execute_result"
    }
   ],
   "source": [
    "ridge_regression(discovery_data, powers = powers, channel = 'Discovery')"
   ]
  },
  {
   "cell_type": "code",
   "execution_count": 90,
   "id": "077f3321",
   "metadata": {},
   "outputs": [
    {
     "data": {
      "text/plain": [
       "((0.8899999999999996, 580.1676362447541),\n",
       " (0.8899999999999996, 0.6480435611827302))"
      ]
     },
     "execution_count": 90,
     "metadata": {},
     "output_type": "execute_result"
    }
   ],
   "source": [
    "lasso_regression(discovery_data, powers = powers, channel = 'Discovery')"
   ]
  },
  {
   "cell_type": "markdown",
   "id": "5acdb19a",
   "metadata": {},
   "source": [
    "# Display"
   ]
  },
  {
   "cell_type": "code",
   "execution_count": 91,
   "id": "dbec6c3a",
   "metadata": {},
   "outputs": [
    {
     "data": {
      "text/plain": [
       "((0.4199999999999998, 181.35658815739953),\n",
       " (0.4199999999999998, 0.36923909833291524))"
      ]
     },
     "execution_count": 91,
     "metadata": {},
     "output_type": "execute_result"
    }
   ],
   "source": [
    "Hubor_Regressor(display_data, powers = powers, channel = 'Display')"
   ]
  },
  {
   "cell_type": "code",
   "execution_count": 92,
   "id": "d1a3b941",
   "metadata": {},
   "outputs": [
    {
     "data": {
      "text/plain": [
       "((0.5799999999999997, 179.0832704977595),\n",
       " (0.5799999999999997, 0.3849532531655041))"
      ]
     },
     "execution_count": 92,
     "metadata": {},
     "output_type": "execute_result"
    }
   ],
   "source": [
    "ridge_regression(display_data, powers = powers, channel = 'Display')"
   ]
  },
  {
   "cell_type": "code",
   "execution_count": 93,
   "id": "05bfb9ad",
   "metadata": {},
   "outputs": [
    {
     "data": {
      "text/plain": [
       "((0.5799999999999997, 179.0832704979827),\n",
       " (0.5799999999999997, 0.3849532531639708))"
      ]
     },
     "execution_count": 93,
     "metadata": {},
     "output_type": "execute_result"
    }
   ],
   "source": [
    "lasso_regression(display_data, powers = powers, channel = 'Display')"
   ]
  },
  {
   "cell_type": "markdown",
   "id": "adb1bd46",
   "metadata": {},
   "source": [
    "# Youtube"
   ]
  },
  {
   "cell_type": "code",
   "execution_count": 94,
   "id": "a9243630",
   "metadata": {},
   "outputs": [
    {
     "data": {
      "text/plain": [
       "((0.7499999999999997, 3951.0253696256545),\n",
       " (0.7499999999999997, -0.0742426775719891))"
      ]
     },
     "execution_count": 94,
     "metadata": {},
     "output_type": "execute_result"
    }
   ],
   "source": [
    "Hubor_Regressor(youtube_data, powers = powers, channel = 'Youtube')"
   ]
  },
  {
   "cell_type": "code",
   "execution_count": 95,
   "id": "795dc1ea",
   "metadata": {},
   "outputs": [
    {
     "data": {
      "text/plain": [
       "((0.11, 3674.06978575922), (0.11, 0.07108159535254432))"
      ]
     },
     "execution_count": 95,
     "metadata": {},
     "output_type": "execute_result"
    }
   ],
   "source": [
    "ridge_regression(youtube_data, powers = powers, channel = 'Youtube')"
   ]
  },
  {
   "cell_type": "code",
   "execution_count": 96,
   "id": "e825c9e6",
   "metadata": {},
   "outputs": [
    {
     "data": {
      "text/plain": [
       "((0.1, 3670.575511091517), (0.1, 0.07284767640806933))"
      ]
     },
     "execution_count": 96,
     "metadata": {},
     "output_type": "execute_result"
    }
   ],
   "source": [
    "lasso_regression(youtube_data, powers = powers, channel = 'Youtube')"
   ]
  },
  {
   "cell_type": "markdown",
   "id": "6a9ae93a",
   "metadata": {},
   "source": [
    "# Creating functions to store modeling results for data without outliers "
   ]
  },
  {
   "cell_type": "code",
   "execution_count": 64,
   "id": "d9123e5a",
   "metadata": {},
   "outputs": [],
   "source": [
    "#testing on smaller amount of power values\n",
    "powers2 = []\n",
    "for i in np.arange(0.1,0.9,0.01):\n",
    "    powers2.append(i)"
   ]
  },
  {
   "cell_type": "code",
   "execution_count": 85,
   "id": "fcb5bf29",
   "metadata": {},
   "outputs": [],
   "source": [
    "def Hubor_Regressor_2(dataset, powers, channel):\n",
    "    \n",
    "    rmse_scores = {}\n",
    "    r2_scores = {}\n",
    "    fig_count = 1\n",
    "    \n",
    "    for i in powers:\n",
    "        \n",
    "        \n",
    "        x = dataset[dataset['channel'] == channel]['cost_spent_on_exposed_group']\n",
    "        y = dataset[dataset['channel'] == channel]['absolute_lift']\n",
    "    \n",
    "        #need to reshape x and y\n",
    "        x = np.array(x).reshape(-1,1)\n",
    "        y = np.array(y).reshape(-1,1)\n",
    "\n",
    "        #initializing model\n",
    "        hr = HuberRegressor()\n",
    "        hr.fit(x**i,y)\n",
    "        pred_train_hr = hr.predict(x**i)\n",
    "        rmse_scores[i] = np.sqrt(mean_squared_error(y,pred_train_hr))\n",
    "        r2_scores[i] = r2_score(y, pred_train_hr)\n",
    "        \n",
    "\n",
    "\n",
    "        #sorting x and y values for line plot \n",
    "        x_plot, y_plot = zip(*sorted(zip(x, pred_train_hr)))\n",
    "        \n",
    "        #code to smoothen line \n",
    "        xnew = np.linspace(np.asarray(x_plot).min(), np.asarray(x_plot).max(), 200) \n",
    "        \n",
    "        #define spline\n",
    "        spl = make_interp_spline(np.asarray(x_plot).flatten(), np.asarray(y_plot).flatten(), k=2)\n",
    "        y_smooth = spl(xnew)\n",
    "\n",
    "\n",
    "\n",
    "        #plotting fitted values against real values \n",
    "        fig = plt.figure(figsize = (12,8))\n",
    "        plt.scatter(x,y)\n",
    "        plt.plot(xnew,y_smooth, c = 'r')\n",
    "        plt.title(channel + ' channel: HuberRegressor Modeling', fontsize=16)\n",
    "        plt.xlabel('Cost Spent on Exposed Group ^ ' + str(i))\n",
    "        plt.ylabel('Absolute Lift')\n",
    "        plt.savefig('Modeling Results WO Outliers/{} HR {}.png'.format(channel,fig_count))\n",
    "        plt.close(fig)\n",
    "        fig_count += 1\n",
    "          \n",
    "    return min(rmse_scores.items(), key=lambda x: x[1]), max(r2_scores.items(), key=lambda x: x[1])\n"
   ]
  },
  {
   "cell_type": "code",
   "execution_count": 86,
   "id": "cd8b9985",
   "metadata": {},
   "outputs": [],
   "source": [
    "def ridge_regression_2(dataset, powers, channel):\n",
    "\n",
    "    rmse_scores = {}\n",
    "    r2_scores = {}\n",
    "    fig_count = 1\n",
    "    \n",
    "    for i in powers:\n",
    "        \n",
    "        x = dataset[dataset['channel'] == channel]['cost_spent_on_exposed_group']\n",
    "        y = dataset[dataset['channel'] == channel]['absolute_lift']\n",
    "    \n",
    "        #need to reshape x and y\n",
    "        x = np.array(x).reshape(-1,1)\n",
    "        y = np.array(y).reshape(-1,1)\n",
    "    \n",
    "        \n",
    "        #initializing model\n",
    "        ridge = Ridge(alpha = 0.1)\n",
    "        ridge.fit(x**i,y)\n",
    "        pred_train_ridge = ridge.predict(x**i)\n",
    "        rmse_scores[i] = np.sqrt(mean_squared_error(y, pred_train_ridge))\n",
    "        r2_scores[i] = r2_score(y, pred_train_ridge)\n",
    "        \n",
    "        #sorting x and y values for line plot \n",
    "        x_plot, y_plot = zip(*sorted(zip(x, pred_train_ridge)))\n",
    "        \n",
    "        #code to smoothen line \n",
    "        xnew = np.linspace(np.asarray(x_plot).min(), np.asarray(x_plot).max(), 200) \n",
    "        \n",
    "        #define spline\n",
    "        spl = make_interp_spline(np.asarray(x_plot).flatten(), np.asarray(y_plot).flatten(), k=2)\n",
    "        y_smooth = spl(xnew)\n",
    "\n",
    "        #plotting fitted values against real values\n",
    "        fig = plt.figure(figsize = (12,8))\n",
    "        plt.scatter(x,y)\n",
    "        plt.plot(xnew,y_smooth, c = 'r')\n",
    "        plt.title(channel + ' channel: Ridge Regression Modeling', fontsize=16)\n",
    "        plt.xlabel('Cost Spent on Exposed Group ^ ' + str(i))\n",
    "        plt.ylabel('Absolute Lift')\n",
    "        plt.savefig('Modeling Results WO Outliers/{} Ridge {}.png'.format(channel,fig_count))\n",
    "        plt.close(fig)\n",
    "        fig_count += 1\n",
    "        \n",
    "        \n",
    "    return min(rmse_scores.items(), key=lambda x: x[1]), max(r2_scores.items(), key=lambda x: x[1])\n"
   ]
  },
  {
   "cell_type": "code",
   "execution_count": 87,
   "id": "84630674",
   "metadata": {},
   "outputs": [],
   "source": [
    "def lasso_regression_2(dataset, powers, channel):\n",
    "\n",
    "    rmse_scores = {}\n",
    "    r2_scores = {}\n",
    "    fig_count = 1\n",
    "    \n",
    "    for i in powers:\n",
    "        \n",
    "        x = dataset[dataset['channel'] == channel]['cost_spent_on_exposed_group']\n",
    "        y = dataset[dataset['channel'] == channel]['absolute_lift']\n",
    "    \n",
    "        #need to reshape x and y\n",
    "        x = np.array(x).reshape(-1,1)\n",
    "        y = np.array(y).reshape(-1,1)\n",
    "        \n",
    "\n",
    "        #initializing model\n",
    "        lasso = Lasso(alpha = 0.1)\n",
    "        lasso.fit(x**i,y)\n",
    "        pred_train_lasso = lasso.predict(x**i)\n",
    "        rmse_scores[i] = np.sqrt(mean_squared_error(y, pred_train_lasso))\n",
    "        r2_scores[i] = r2_score(y, pred_train_lasso)\n",
    "        \n",
    "        #sorting x and y values for line plot \n",
    "        x_plot, y_plot = zip(*sorted(zip(x, pred_train_lasso)))\n",
    "        \n",
    "        #code to smoothen line \n",
    "        xnew = np.linspace(np.asarray(x_plot).min(), np.asarray(x_plot).max(), 200) \n",
    "        \n",
    "        #define spline\n",
    "        spl = make_interp_spline(np.asarray(x_plot).flatten(), np.asarray(y_plot).flatten(), k=2)\n",
    "        y_smooth = spl(xnew)\n",
    "\n",
    "        \n",
    "        #plotting fitted values against real values \n",
    "        fig = plt.figure(figsize = (12,8))\n",
    "        plt.scatter(x,y)\n",
    "        plt.plot(xnew,y_smooth,c = 'r')\n",
    "        plt.title(channel + ' channel: Lasso Regression Modeling', fontsize=16)\n",
    "        plt.xlabel('Cost Spent on Exposed Group ^ ' + str(i))\n",
    "        plt.ylabel('Absolute Lift')\n",
    "        plt.savefig('Modeling Results WO Outliers/{} Lasso {}.png'.format(channel,fig_count))\n",
    "        plt.close(fig)\n",
    "        fig_count += 1\n",
    "        \n",
    "        \n",
    "    return min(rmse_scores.items(), key=lambda x: x[1]), max(r2_scores.items(), key=lambda x: x[1])\n"
   ]
  },
  {
   "cell_type": "markdown",
   "id": "8adbbcea",
   "metadata": {},
   "source": [
    "# Discovery"
   ]
  },
  {
   "cell_type": "code",
   "execution_count": 97,
   "id": "e8880cce",
   "metadata": {},
   "outputs": [
    {
     "data": {
      "text/plain": [
       "((0.13999999999999999, 558.5312905165594),\n",
       " (0.13999999999999999, 0.1994189879783269))"
      ]
     },
     "execution_count": 97,
     "metadata": {},
     "output_type": "execute_result"
    }
   ],
   "source": [
    "Hubor_Regressor_2(smb_2022_tk, powers = powers, channel = 'DISCOVERY')"
   ]
  },
  {
   "cell_type": "code",
   "execution_count": 98,
   "id": "fbdfb6fa",
   "metadata": {},
   "outputs": [
    {
     "data": {
      "text/plain": [
       "((0.11, 551.251368580857), (0.11, 0.22015259797297426))"
      ]
     },
     "execution_count": 98,
     "metadata": {},
     "output_type": "execute_result"
    }
   ],
   "source": [
    "ridge_regression_2(smb_2022_tk, powers = powers, channel = 'DISCOVERY')"
   ]
  },
  {
   "cell_type": "code",
   "execution_count": 99,
   "id": "a60219c6",
   "metadata": {},
   "outputs": [
    {
     "data": {
      "text/plain": [
       "((0.1, 550.8283607096045), (0.1, 0.22134898510005718))"
      ]
     },
     "execution_count": 99,
     "metadata": {},
     "output_type": "execute_result"
    }
   ],
   "source": [
    "lasso_regression_2(smb_2022_tk, powers = powers, channel = 'DISCOVERY')"
   ]
  },
  {
   "cell_type": "markdown",
   "id": "aceb9896",
   "metadata": {},
   "source": [
    "# Display"
   ]
  },
  {
   "cell_type": "code",
   "execution_count": 100,
   "id": "07226c21",
   "metadata": {},
   "outputs": [
    {
     "data": {
      "text/plain": [
       "((0.11, 190.83045251971146), (0.11, 0.028194884962251865))"
      ]
     },
     "execution_count": 100,
     "metadata": {},
     "output_type": "execute_result"
    }
   ],
   "source": [
    "Hubor_Regressor_2(smb_2022_tk, powers = powers, channel = 'DISPLAY')"
   ]
  },
  {
   "cell_type": "code",
   "execution_count": 101,
   "id": "0b1b0903",
   "metadata": {},
   "outputs": [
    {
     "data": {
      "text/plain": [
       "((0.12, 182.97001597524135), (0.12, 0.10660468165182169))"
      ]
     },
     "execution_count": 101,
     "metadata": {},
     "output_type": "execute_result"
    }
   ],
   "source": [
    "ridge_regression_2(smb_2022_tk, powers = powers, channel = 'DISPLAY')"
   ]
  },
  {
   "cell_type": "code",
   "execution_count": 102,
   "id": "8588ac83",
   "metadata": {},
   "outputs": [
    {
     "data": {
      "text/plain": [
       "((0.1, 182.86826559447638), (0.1, 0.1075980470125586))"
      ]
     },
     "execution_count": 102,
     "metadata": {},
     "output_type": "execute_result"
    }
   ],
   "source": [
    "lasso_regression_2(smb_2022_tk, powers = powers, channel = 'DISPLAY')"
   ]
  },
  {
   "cell_type": "markdown",
   "id": "fe6d6979",
   "metadata": {},
   "source": [
    "# Youtube"
   ]
  },
  {
   "cell_type": "code",
   "execution_count": 103,
   "id": "094505c8",
   "metadata": {},
   "outputs": [
    {
     "ename": "ValueError",
     "evalue": "HuberRegressor convergence failed: l-BFGS-b solver terminated with ABNORMAL_TERMINATION_IN_LNSRCH",
     "output_type": "error",
     "traceback": [
      "\u001b[1;31m---------------------------------------------------------------------------\u001b[0m",
      "\u001b[1;31mValueError\u001b[0m                                Traceback (most recent call last)",
      "Input \u001b[1;32mIn [103]\u001b[0m, in \u001b[0;36m<cell line: 1>\u001b[1;34m()\u001b[0m\n\u001b[1;32m----> 1\u001b[0m \u001b[43mHubor_Regressor_2\u001b[49m\u001b[43m(\u001b[49m\u001b[43msmb_2022_tk\u001b[49m\u001b[43m,\u001b[49m\u001b[43m \u001b[49m\u001b[43mpowers\u001b[49m\u001b[43m \u001b[49m\u001b[38;5;241;43m=\u001b[39;49m\u001b[43m \u001b[49m\u001b[43mpowers\u001b[49m\u001b[43m,\u001b[49m\u001b[43m \u001b[49m\u001b[43mchannel\u001b[49m\u001b[43m \u001b[49m\u001b[38;5;241;43m=\u001b[39;49m\u001b[43m \u001b[49m\u001b[38;5;124;43m'\u001b[39;49m\u001b[38;5;124;43mYOUTUBE\u001b[39;49m\u001b[38;5;124;43m'\u001b[39;49m\u001b[43m)\u001b[49m\n",
      "Input \u001b[1;32mIn [85]\u001b[0m, in \u001b[0;36mHubor_Regressor_2\u001b[1;34m(dataset, powers, channel)\u001b[0m\n\u001b[0;32m     17\u001b[0m \u001b[38;5;66;03m#initializing model\u001b[39;00m\n\u001b[0;32m     18\u001b[0m hr \u001b[38;5;241m=\u001b[39m HuberRegressor()\n\u001b[1;32m---> 19\u001b[0m \u001b[43mhr\u001b[49m\u001b[38;5;241;43m.\u001b[39;49m\u001b[43mfit\u001b[49m\u001b[43m(\u001b[49m\u001b[43mx\u001b[49m\u001b[38;5;241;43m*\u001b[39;49m\u001b[38;5;241;43m*\u001b[39;49m\u001b[43mi\u001b[49m\u001b[43m,\u001b[49m\u001b[43my\u001b[49m\u001b[43m)\u001b[49m\n\u001b[0;32m     20\u001b[0m pred_train_hr \u001b[38;5;241m=\u001b[39m hr\u001b[38;5;241m.\u001b[39mpredict(x\u001b[38;5;241m*\u001b[39m\u001b[38;5;241m*\u001b[39mi)\n\u001b[0;32m     21\u001b[0m rmse_scores[i] \u001b[38;5;241m=\u001b[39m np\u001b[38;5;241m.\u001b[39msqrt(mean_squared_error(y,pred_train_hr))\n",
      "File \u001b[1;32m~\\Anaconda3\\lib\\site-packages\\sklearn\\linear_model\\_huber.py:328\u001b[0m, in \u001b[0;36mHuberRegressor.fit\u001b[1;34m(self, X, y, sample_weight)\u001b[0m\n\u001b[0;32m    325\u001b[0m parameters \u001b[38;5;241m=\u001b[39m opt_res\u001b[38;5;241m.\u001b[39mx\n\u001b[0;32m    327\u001b[0m \u001b[38;5;28;01mif\u001b[39;00m opt_res\u001b[38;5;241m.\u001b[39mstatus \u001b[38;5;241m==\u001b[39m \u001b[38;5;241m2\u001b[39m:\n\u001b[1;32m--> 328\u001b[0m     \u001b[38;5;28;01mraise\u001b[39;00m \u001b[38;5;167;01mValueError\u001b[39;00m(\n\u001b[0;32m    329\u001b[0m         \u001b[38;5;124m\"\u001b[39m\u001b[38;5;124mHuberRegressor convergence failed: l-BFGS-b solver terminated with \u001b[39m\u001b[38;5;132;01m%s\u001b[39;00m\u001b[38;5;124m\"\u001b[39m\n\u001b[0;32m    330\u001b[0m         \u001b[38;5;241m%\u001b[39m opt_res\u001b[38;5;241m.\u001b[39mmessage\n\u001b[0;32m    331\u001b[0m     )\n\u001b[0;32m    332\u001b[0m \u001b[38;5;28mself\u001b[39m\u001b[38;5;241m.\u001b[39mn_iter_ \u001b[38;5;241m=\u001b[39m _check_optimize_result(\u001b[38;5;124m\"\u001b[39m\u001b[38;5;124mlbfgs\u001b[39m\u001b[38;5;124m\"\u001b[39m, opt_res, \u001b[38;5;28mself\u001b[39m\u001b[38;5;241m.\u001b[39mmax_iter)\n\u001b[0;32m    333\u001b[0m \u001b[38;5;28mself\u001b[39m\u001b[38;5;241m.\u001b[39mscale_ \u001b[38;5;241m=\u001b[39m parameters[\u001b[38;5;241m-\u001b[39m\u001b[38;5;241m1\u001b[39m]\n",
      "\u001b[1;31mValueError\u001b[0m: HuberRegressor convergence failed: l-BFGS-b solver terminated with ABNORMAL_TERMINATION_IN_LNSRCH"
     ]
    }
   ],
   "source": [
    "Hubor_Regressor_2(smb_2022_tk, powers = powers, channel = 'YOUTUBE')"
   ]
  },
  {
   "cell_type": "code",
   "execution_count": 104,
   "id": "386d1752",
   "metadata": {},
   "outputs": [
    {
     "data": {
      "text/plain": [
       "((0.6199999999999998, 785.1153076006372),\n",
       " (0.6199999999999998, 0.2519625157908594))"
      ]
     },
     "execution_count": 104,
     "metadata": {},
     "output_type": "execute_result"
    }
   ],
   "source": [
    "ridge_regression_2(smb_2022_tk, powers = powers, channel = 'YOUTUBE')"
   ]
  },
  {
   "cell_type": "code",
   "execution_count": 105,
   "id": "5f73571d",
   "metadata": {},
   "outputs": [
    {
     "data": {
      "text/plain": [
       "((0.6199999999999998, 785.1153076006827),\n",
       " (0.6199999999999998, 0.2519625157907722))"
      ]
     },
     "execution_count": 105,
     "metadata": {},
     "output_type": "execute_result"
    }
   ],
   "source": [
    "lasso_regression_2(smb_2022_tk, powers = powers, channel = 'YOUTUBE')"
   ]
  },
  {
   "cell_type": "code",
   "execution_count": 77,
   "id": "13d117f8",
   "metadata": {},
   "outputs": [
    {
     "data": {
      "text/plain": [
       "<matplotlib.collections.PathCollection at 0x180e9ff8d60>"
      ]
     },
     "execution_count": 77,
     "metadata": {},
     "output_type": "execute_result"
    },
    {
     "data": {
      "image/png": "[encoded data removed]",
      "text/plain": [
       "<Figure size 432x288 with 1 Axes>"
      ]
     },
     "metadata": {},
     "output_type": "display_data"
    }
   ],
   "source": [
    "youtube_scatter = smb_2022_tk[smb_2022_tk['channel'] == 'YOUTUBE']\n",
    "\n",
    "plt.scatter(youtube_scatter['cost_spent_on_exposed_group'], youtube_scatter['absolute_lift'])"
   ]
  },
  {
   "cell_type": "code",
   "execution_count": 79,
   "id": "8a4705c7",
   "metadata": {},
   "outputs": [
    {
     "data": {
      "text/plain": [
       "<matplotlib.collections.PathCollection at 0x180ea2ba220>"
      ]
     },
     "execution_count": 79,
     "metadata": {},
     "output_type": "execute_result"
    },
    {
     "data": {
      "image/png": "[encoded data removed]",
      "text/plain": [
       "<Figure size 432x288 with 1 Axes>"
      ]
     },
     "metadata": {},
     "output_type": "display_data"
    }
   ],
   "source": [
    "display_scatter = smb_2022_tk[smb_2022_tk['channel'] == 'DISPLAY']\n",
    "\n",
    "\n",
    "plt.scatter(display_scatter['cost_spent_on_exposed_group'], display_scatter['absolute_lift'])"
   ]
  },
  {
   "cell_type": "code",
   "execution_count": 80,
   "id": "a7a0a859",
   "metadata": {},
   "outputs": [
    {
     "data": {
      "text/plain": [
       "<matplotlib.collections.PathCollection at 0x180e9e5d460>"
      ]
     },
     "execution_count": 80,
     "metadata": {},
     "output_type": "execute_result"
    },
    {
     "data": {
      "image/png": "[encoded data removed]",
      "text/plain": [
       "<Figure size 432x288 with 1 Axes>"
      ]
     },
     "metadata": {},
     "output_type": "display_data"
    }
   ],
   "source": [
    "discovery_scatter = smb_2022_tk[smb_2022_tk['channel'] == 'DISCOVERY']\n",
    "\n",
    "plt.scatter(discovery_scatter['cost_spent_on_exposed_group'], discovery_scatter['absolute_lift'])"
   ]
  },
  {
   "cell_type": "code",
   "execution_count": 106,
   "id": "18a7b7e3",
   "metadata": {},
   "outputs": [],
   "source": [
    "mux = pd.MultiIndex.from_product([['Robust','Ridge','Lasso'], ['Outliers','No Outliers']])\n"
   ]
  },
  {
   "cell_type": "code",
   "execution_count": 139,
   "id": "7cce7043",
   "metadata": {},
   "outputs": [],
   "source": [
    "mux = pd.MultiIndex.from_product([['Robust','Ridge','Lasso'], ['Outliers','No Outliers']])\n",
    "\n",
    "\n",
    "best_rmse = pd.DataFrame({'Robust': [2012, 2014, 2013, 2014],\n",
    "                   'Ridge': [55, 40, 84, 31],\n",
    "                  'Lasso': [1,2,3,4]}, columns = mux)\n",
    "\n",
    "best_rmse['Channel'] = ['Discovery', 'Display', 'Youtube']\n",
    "\n",
    "best_rmse.set_index('Channel', inplace=True)"
   ]
  },
  {
   "cell_type": "code",
   "execution_count": 140,
   "id": "bf0f0a7f",
   "metadata": {},
   "outputs": [
    {
     "data": {
      "text/html": [
       "<div>\n",
       "<style scoped>\n",
       "    .dataframe tbody tr th:only-of-type {\n",
       "        vertical-align: middle;\n",
       "    }\n",
       "\n",
       "    .dataframe tbody tr th {\n",
       "        vertical-align: top;\n",
       "    }\n",
       "\n",
       "    .dataframe thead tr th {\n",
       "        text-align: left;\n",
       "    }\n",
       "\n",
       "    .dataframe thead tr:last-of-type th {\n",
       "        text-align: right;\n",
       "    }\n",
       "</style>\n",
       "<table border=\"1\" class=\"dataframe\">\n",
       "  <thead>\n",
       "    <tr>\n",
       "      <th></th>\n",
       "      <th colspan=\"2\" halign=\"left\">Robust</th>\n",
       "      <th colspan=\"2\" halign=\"left\">Ridge</th>\n",
       "      <th colspan=\"2\" halign=\"left\">Lasso</th>\n",
       "    </tr>\n",
       "    <tr>\n",
       "      <th></th>\n",
       "      <th>Outliers</th>\n",
       "      <th>No Outliers</th>\n",
       "      <th>Outliers</th>\n",
       "      <th>No Outliers</th>\n",
       "      <th>Outliers</th>\n",
       "      <th>No Outliers</th>\n",
       "    </tr>\n",
       "    <tr>\n",
       "      <th>Channel</th>\n",
       "      <th></th>\n",
       "      <th></th>\n",
       "      <th></th>\n",
       "      <th></th>\n",
       "      <th></th>\n",
       "      <th></th>\n",
       "    </tr>\n",
       "  </thead>\n",
       "  <tbody>\n",
       "    <tr>\n",
       "      <th>Discovery</th>\n",
       "      <td>NaN</td>\n",
       "      <td>NaN</td>\n",
       "      <td>NaN</td>\n",
       "      <td>NaN</td>\n",
       "      <td>NaN</td>\n",
       "      <td>NaN</td>\n",
       "    </tr>\n",
       "    <tr>\n",
       "      <th>Display</th>\n",
       "      <td>NaN</td>\n",
       "      <td>NaN</td>\n",
       "      <td>NaN</td>\n",
       "      <td>NaN</td>\n",
       "      <td>NaN</td>\n",
       "      <td>NaN</td>\n",
       "    </tr>\n",
       "    <tr>\n",
       "      <th>Youtube</th>\n",
       "      <td>NaN</td>\n",
       "      <td>NaN</td>\n",
       "      <td>NaN</td>\n",
       "      <td>NaN</td>\n",
       "      <td>NaN</td>\n",
       "      <td>NaN</td>\n",
       "    </tr>\n",
       "  </tbody>\n",
       "</table>\n",
       "</div>"
      ],
      "text/plain": [
       "            Robust                Ridge                Lasso            \n",
       "          Outliers No Outliers Outliers No Outliers Outliers No Outliers\n",
       "Channel                                                                 \n",
       "Discovery      NaN         NaN      NaN         NaN      NaN         NaN\n",
       "Display        NaN         NaN      NaN         NaN      NaN         NaN\n",
       "Youtube        NaN         NaN      NaN         NaN      NaN         NaN"
      ]
     },
     "execution_count": 140,
     "metadata": {},
     "output_type": "execute_result"
    }
   ],
   "source": [
    "best_rmse"
   ]
  },
  {
   "cell_type": "code",
   "execution_count": 145,
   "id": "c6d270cc",
   "metadata": {},
   "outputs": [],
   "source": [
    "best_rmse['Robust','Outliers'] = [{.889 : 585.7885}, {.419 : 181.3566}, {.749 : 3951.0254}]\n",
    "best_rmse['Robust', 'No Outliers'] = [{.139 : 558.5313}, {0.11 : 190.8304}, 'Error']\n",
    "best_rmse['Ridge', 'Outliers'] = [{.889 : 580.1676}, {.579 : 179.0832}, {0.11 : 3674.0698}]\n",
    "best_rmse['Ridge', 'No Outliers'] = [{0.11 : 551.2514}, {0.12 : 182.97}, {.619 : 785.1153}]\n",
    "best_rmse['Lasso', 'Outliers'] = [{0.889 : 580.1676}, {.579 : 179.0832}, {0.1 : 3670.5755}]\n",
    "best_rmse['Lasso', 'No Outliers'] = [{0.1 : 550.8284}, {0.1 : 182.8683}, {.619 : 785.1153}]"
   ]
  },
  {
   "cell_type": "code",
   "execution_count": 146,
   "id": "e9a0ddaa",
   "metadata": {},
   "outputs": [
    {
     "data": {
      "text/html": [
       "<div>\n",
       "<style scoped>\n",
       "    .dataframe tbody tr th:only-of-type {\n",
       "        vertical-align: middle;\n",
       "    }\n",
       "\n",
       "    .dataframe tbody tr th {\n",
       "        vertical-align: top;\n",
       "    }\n",
       "\n",
       "    .dataframe thead tr th {\n",
       "        text-align: left;\n",
       "    }\n",
       "\n",
       "    .dataframe thead tr:last-of-type th {\n",
       "        text-align: right;\n",
       "    }\n",
       "</style>\n",
       "<table border=\"1\" class=\"dataframe\">\n",
       "  <thead>\n",
       "    <tr>\n",
       "      <th></th>\n",
       "      <th colspan=\"2\" halign=\"left\">Robust</th>\n",
       "      <th colspan=\"2\" halign=\"left\">Ridge</th>\n",
       "      <th colspan=\"2\" halign=\"left\">Lasso</th>\n",
       "      <th>Ridge, No Outliers</th>\n",
       "    </tr>\n",
       "    <tr>\n",
       "      <th></th>\n",
       "      <th>Outliers</th>\n",
       "      <th>No Outliers</th>\n",
       "      <th>Outliers</th>\n",
       "      <th>No Outliers</th>\n",
       "      <th>Outliers</th>\n",
       "      <th>No Outliers</th>\n",
       "      <th></th>\n",
       "    </tr>\n",
       "    <tr>\n",
       "      <th>Channel</th>\n",
       "      <th></th>\n",
       "      <th></th>\n",
       "      <th></th>\n",
       "      <th></th>\n",
       "      <th></th>\n",
       "      <th></th>\n",
       "      <th></th>\n",
       "    </tr>\n",
       "  </thead>\n",
       "  <tbody>\n",
       "    <tr>\n",
       "      <th>Discovery</th>\n",
       "      <td>{0.889: 585.7885}</td>\n",
       "      <td>{0.139: 558.5313}</td>\n",
       "      <td>{0.889: 580.1676}</td>\n",
       "      <td>{0.11: 551.2514}</td>\n",
       "      <td>{0.889: 580.1676}</td>\n",
       "      <td>{0.1: 550.8284}</td>\n",
       "      <td>{0.11: 551.2514}</td>\n",
       "    </tr>\n",
       "    <tr>\n",
       "      <th>Display</th>\n",
       "      <td>{0.419: 181.3566}</td>\n",
       "      <td>{0.11: 190.8304}</td>\n",
       "      <td>{0.579: 179.0832}</td>\n",
       "      <td>{0.12: 182.97}</td>\n",
       "      <td>{0.579: 179.0832}</td>\n",
       "      <td>{0.1: 182.8683}</td>\n",
       "      <td>{0.12: 182.97}</td>\n",
       "    </tr>\n",
       "    <tr>\n",
       "      <th>Youtube</th>\n",
       "      <td>{0.749: 3951.0254}</td>\n",
       "      <td>Error</td>\n",
       "      <td>{0.11: 3674.0698}</td>\n",
       "      <td>{0.619: 785.1153}</td>\n",
       "      <td>{0.1: 3670.5755}</td>\n",
       "      <td>{0.619: 785.1153}</td>\n",
       "      <td>{0.619: 785.1153}</td>\n",
       "    </tr>\n",
       "  </tbody>\n",
       "</table>\n",
       "</div>"
      ],
      "text/plain": [
       "                       Robust                                 Ridge  \\\n",
       "                     Outliers        No Outliers           Outliers   \n",
       "Channel                                                               \n",
       "Discovery   {0.889: 585.7885}  {0.139: 558.5313}  {0.889: 580.1676}   \n",
       "Display     {0.419: 181.3566}   {0.11: 190.8304}  {0.579: 179.0832}   \n",
       "Youtube    {0.749: 3951.0254}              Error  {0.11: 3674.0698}   \n",
       "\n",
       "                                          Lasso                     \\\n",
       "                 No Outliers           Outliers        No Outliers   \n",
       "Channel                                                              \n",
       "Discovery   {0.11: 551.2514}  {0.889: 580.1676}    {0.1: 550.8284}   \n",
       "Display       {0.12: 182.97}  {0.579: 179.0832}    {0.1: 182.8683}   \n",
       "Youtube    {0.619: 785.1153}   {0.1: 3670.5755}  {0.619: 785.1153}   \n",
       "\n",
       "          Ridge, No Outliers  \n",
       "                              \n",
       "Channel                       \n",
       "Discovery   {0.11: 551.2514}  \n",
       "Display       {0.12: 182.97}  \n",
       "Youtube    {0.619: 785.1153}  "
      ]
     },
     "execution_count": 146,
     "metadata": {},
     "output_type": "execute_result"
    }
   ],
   "source": [
    "best_rmse"
   ]
  },
  {
   "cell_type": "code",
   "execution_count": 147,
   "id": "98e7a344",
   "metadata": {},
   "outputs": [],
   "source": [
    "best_rmse.drop(columns = ['Ridge, No Outliers'],inplace = True)"
   ]
  },
  {
   "cell_type": "code",
   "execution_count": 148,
   "id": "40bf366a",
   "metadata": {},
   "outputs": [
    {
     "data": {
      "text/html": [
       "<div>\n",
       "<style scoped>\n",
       "    .dataframe tbody tr th:only-of-type {\n",
       "        vertical-align: middle;\n",
       "    }\n",
       "\n",
       "    .dataframe tbody tr th {\n",
       "        vertical-align: top;\n",
       "    }\n",
       "\n",
       "    .dataframe thead tr th {\n",
       "        text-align: left;\n",
       "    }\n",
       "\n",
       "    .dataframe thead tr:last-of-type th {\n",
       "        text-align: right;\n",
       "    }\n",
       "</style>\n",
       "<table border=\"1\" class=\"dataframe\">\n",
       "  <thead>\n",
       "    <tr>\n",
       "      <th></th>\n",
       "      <th colspan=\"2\" halign=\"left\">Robust</th>\n",
       "      <th colspan=\"2\" halign=\"left\">Ridge</th>\n",
       "      <th colspan=\"2\" halign=\"left\">Lasso</th>\n",
       "    </tr>\n",
       "    <tr>\n",
       "      <th></th>\n",
       "      <th>Outliers</th>\n",
       "      <th>No Outliers</th>\n",
       "      <th>Outliers</th>\n",
       "      <th>No Outliers</th>\n",
       "      <th>Outliers</th>\n",
       "      <th>No Outliers</th>\n",
       "    </tr>\n",
       "    <tr>\n",
       "      <th>Channel</th>\n",
       "      <th></th>\n",
       "      <th></th>\n",
       "      <th></th>\n",
       "      <th></th>\n",
       "      <th></th>\n",
       "      <th></th>\n",
       "    </tr>\n",
       "  </thead>\n",
       "  <tbody>\n",
       "    <tr>\n",
       "      <th>Discovery</th>\n",
       "      <td>{0.889: 585.7885}</td>\n",
       "      <td>{0.139: 558.5313}</td>\n",
       "      <td>{0.889: 580.1676}</td>\n",
       "      <td>{0.11: 551.2514}</td>\n",
       "      <td>{0.889: 580.1676}</td>\n",
       "      <td>{0.1: 550.8284}</td>\n",
       "    </tr>\n",
       "    <tr>\n",
       "      <th>Display</th>\n",
       "      <td>{0.419: 181.3566}</td>\n",
       "      <td>{0.11: 190.8304}</td>\n",
       "      <td>{0.579: 179.0832}</td>\n",
       "      <td>{0.12: 182.97}</td>\n",
       "      <td>{0.579: 179.0832}</td>\n",
       "      <td>{0.1: 182.8683}</td>\n",
       "    </tr>\n",
       "    <tr>\n",
       "      <th>Youtube</th>\n",
       "      <td>{0.749: 3951.0254}</td>\n",
       "      <td>Error</td>\n",
       "      <td>{0.11: 3674.0698}</td>\n",
       "      <td>{0.619: 785.1153}</td>\n",
       "      <td>{0.1: 3670.5755}</td>\n",
       "      <td>{0.619: 785.1153}</td>\n",
       "    </tr>\n",
       "  </tbody>\n",
       "</table>\n",
       "</div>"
      ],
      "text/plain": [
       "                       Robust                                 Ridge  \\\n",
       "                     Outliers        No Outliers           Outliers   \n",
       "Channel                                                               \n",
       "Discovery   {0.889: 585.7885}  {0.139: 558.5313}  {0.889: 580.1676}   \n",
       "Display     {0.419: 181.3566}   {0.11: 190.8304}  {0.579: 179.0832}   \n",
       "Youtube    {0.749: 3951.0254}              Error  {0.11: 3674.0698}   \n",
       "\n",
       "                                          Lasso                     \n",
       "                 No Outliers           Outliers        No Outliers  \n",
       "Channel                                                             \n",
       "Discovery   {0.11: 551.2514}  {0.889: 580.1676}    {0.1: 550.8284}  \n",
       "Display       {0.12: 182.97}  {0.579: 179.0832}    {0.1: 182.8683}  \n",
       "Youtube    {0.619: 785.1153}   {0.1: 3670.5755}  {0.619: 785.1153}  "
      ]
     },
     "execution_count": 148,
     "metadata": {},
     "output_type": "execute_result"
    }
   ],
   "source": [
    "best_rmse\n"
   ]
  },
  {
   "cell_type": "markdown",
   "id": "d542b3dc",
   "metadata": {},
   "source": [
    "# Running functions on data with outliers excluded using cook's method "
   ]
  },
  {
   "cell_type": "code",
   "execution_count": 217,
   "id": "b70f39ec",
   "metadata": {},
   "outputs": [],
   "source": [
    "discovery_data_cooks = discovery_data.drop(index = [4,8])\n",
    "display_data_cooks = display_data.drop(index = 4)\n",
    "youtube_data_cooks = youtube_data.drop(index = 5)"
   ]
  },
  {
   "cell_type": "code",
   "execution_count": 213,
   "id": "da45a8d6",
   "metadata": {},
   "outputs": [],
   "source": [
    "discovery_data.reset_index(drop = True, inplace = True)"
   ]
  },
  {
   "cell_type": "code",
   "execution_count": 214,
   "id": "2a8bdd86",
   "metadata": {},
   "outputs": [
    {
     "data": {
      "text/html": [
       "<div>\n",
       "<style scoped>\n",
       "    .dataframe tbody tr th:only-of-type {\n",
       "        vertical-align: middle;\n",
       "    }\n",
       "\n",
       "    .dataframe tbody tr th {\n",
       "        vertical-align: top;\n",
       "    }\n",
       "\n",
       "    .dataframe thead th {\n",
       "        text-align: right;\n",
       "    }\n",
       "</style>\n",
       "<table border=\"1\" class=\"dataframe\">\n",
       "  <thead>\n",
       "    <tr style=\"text-align: right;\">\n",
       "      <th></th>\n",
       "      <th>study_id</th>\n",
       "      <th>year</th>\n",
       "      <th>quarter</th>\n",
       "      <th>region</th>\n",
       "      <th>country</th>\n",
       "      <th>pa</th>\n",
       "      <th>channel</th>\n",
       "      <th>tactic</th>\n",
       "      <th>conversion</th>\n",
       "      <th>study_name</th>\n",
       "      <th>...</th>\n",
       "      <th>exposed</th>\n",
       "      <th>control_user_count</th>\n",
       "      <th>scaled_control</th>\n",
       "      <th>control</th>\n",
       "      <th>scaling_factor</th>\n",
       "      <th>cost_spent_on_exposed_group</th>\n",
       "      <th>absolute_lift</th>\n",
       "      <th>relative_lift</th>\n",
       "      <th>probability_of_lift</th>\n",
       "      <th>Significant_Spend</th>\n",
       "    </tr>\n",
       "  </thead>\n",
       "  <tbody>\n",
       "    <tr>\n",
       "      <th>0</th>\n",
       "      <td>148612498.0</td>\n",
       "      <td>2021.0</td>\n",
       "      <td>Q1</td>\n",
       "      <td>AMER</td>\n",
       "      <td>US</td>\n",
       "      <td>SMB</td>\n",
       "      <td>DISPLAY</td>\n",
       "      <td>REMK</td>\n",
       "      <td>Type 288347008 (LENA - B Lead)</td>\n",
       "      <td>Google SMB | Q1 2021 | Acquisition | GDN US RMKT</td>\n",
       "      <td>...</td>\n",
       "      <td>5735.0</td>\n",
       "      <td>334180.0</td>\n",
       "      <td>5079.615234</td>\n",
       "      <td>2177.0</td>\n",
       "      <td>2.330932</td>\n",
       "      <td>27861.472510</td>\n",
       "      <td>655.384583</td>\n",
       "      <td>0.130174</td>\n",
       "      <td>0.996500</td>\n",
       "      <td>1.0</td>\n",
       "    </tr>\n",
       "    <tr>\n",
       "      <th>1</th>\n",
       "      <td>149166897.0</td>\n",
       "      <td>2021.0</td>\n",
       "      <td>Q4</td>\n",
       "      <td>AMER</td>\n",
       "      <td>AR</td>\n",
       "      <td>SMB</td>\n",
       "      <td>DISPLAY</td>\n",
       "      <td>REMK</td>\n",
       "      <td>Type 288347008 (LENA - B Lead)</td>\n",
       "      <td>Google SMB | Q3 2021 | Acquisition | GDN AR RMKT</td>\n",
       "      <td>...</td>\n",
       "      <td>913.0</td>\n",
       "      <td>1447421.0</td>\n",
       "      <td>790.586853</td>\n",
       "      <td>338.0</td>\n",
       "      <td>2.331689</td>\n",
       "      <td>28952.369800</td>\n",
       "      <td>122.413147</td>\n",
       "      <td>0.158467</td>\n",
       "      <td>0.969700</td>\n",
       "      <td>1.0</td>\n",
       "    </tr>\n",
       "    <tr>\n",
       "      <th>2</th>\n",
       "      <td>149167411.0</td>\n",
       "      <td>2021.0</td>\n",
       "      <td>Q4</td>\n",
       "      <td>AMER</td>\n",
       "      <td>AR</td>\n",
       "      <td>SMB</td>\n",
       "      <td>DISPLAY</td>\n",
       "      <td>non-REMK</td>\n",
       "      <td>Type 288347008 (LENA - B Lead)</td>\n",
       "      <td>Google SMB | Q3 2021 | Acquisition | GDN AR Pros</td>\n",
       "      <td>...</td>\n",
       "      <td>761.0</td>\n",
       "      <td>1163660.0</td>\n",
       "      <td>649.649963</td>\n",
       "      <td>279.0</td>\n",
       "      <td>2.330728</td>\n",
       "      <td>20423.227120</td>\n",
       "      <td>111.350044</td>\n",
       "      <td>0.170277</td>\n",
       "      <td>0.926700</td>\n",
       "      <td>1.0</td>\n",
       "    </tr>\n",
       "    <tr>\n",
       "      <th>3</th>\n",
       "      <td>149167580.0</td>\n",
       "      <td>2021.0</td>\n",
       "      <td>Q4</td>\n",
       "      <td>AMER</td>\n",
       "      <td>CO</td>\n",
       "      <td>SMB</td>\n",
       "      <td>DISPLAY</td>\n",
       "      <td>REMK</td>\n",
       "      <td>Type 288347008 (LENA - B Lead)</td>\n",
       "      <td>Google SMB | Q3 2021 | Acquisition | GDN CO RMKT</td>\n",
       "      <td>...</td>\n",
       "      <td>738.0</td>\n",
       "      <td>622688.0</td>\n",
       "      <td>552.239258</td>\n",
       "      <td>237.0</td>\n",
       "      <td>2.331061</td>\n",
       "      <td>12694.184520</td>\n",
       "      <td>185.760742</td>\n",
       "      <td>0.335840</td>\n",
       "      <td>0.991300</td>\n",
       "      <td>1.0</td>\n",
       "    </tr>\n",
       "    <tr>\n",
       "      <th>4</th>\n",
       "      <td>149544427.0</td>\n",
       "      <td>2022.0</td>\n",
       "      <td>Q1</td>\n",
       "      <td>EMEA</td>\n",
       "      <td>BR</td>\n",
       "      <td>SMB</td>\n",
       "      <td>DISPLAY</td>\n",
       "      <td>non-REMK</td>\n",
       "      <td>Type 288347008 (LENA - B Lead)</td>\n",
       "      <td>Study #1: GDN Brazil Prospects</td>\n",
       "      <td>...</td>\n",
       "      <td>7305.0</td>\n",
       "      <td>3588115.0</td>\n",
       "      <td>6584.324219</td>\n",
       "      <td>2823.0</td>\n",
       "      <td>2.329719</td>\n",
       "      <td>333900.618917</td>\n",
       "      <td>720.675659</td>\n",
       "      <td>0.109453</td>\n",
       "      <td>0.989379</td>\n",
       "      <td>1.0</td>\n",
       "    </tr>\n",
       "  </tbody>\n",
       "</table>\n",
       "<p>5 rows × 21 columns</p>\n",
       "</div>"
      ],
      "text/plain": [
       "      study_id    year quarter region country   pa  channel    tactic  \\\n",
       "0  148612498.0  2021.0      Q1   AMER      US  SMB  DISPLAY      REMK   \n",
       "1  149166897.0  2021.0      Q4   AMER      AR  SMB  DISPLAY      REMK   \n",
       "2  149167411.0  2021.0      Q4   AMER      AR  SMB  DISPLAY  non-REMK   \n",
       "3  149167580.0  2021.0      Q4   AMER      CO  SMB  DISPLAY      REMK   \n",
       "4  149544427.0  2022.0      Q1   EMEA      BR  SMB  DISPLAY  non-REMK   \n",
       "\n",
       "                       conversion  \\\n",
       "0  Type 288347008 (LENA - B Lead)   \n",
       "1  Type 288347008 (LENA - B Lead)   \n",
       "2  Type 288347008 (LENA - B Lead)   \n",
       "3  Type 288347008 (LENA - B Lead)   \n",
       "4  Type 288347008 (LENA - B Lead)   \n",
       "\n",
       "                                         study_name  ...  exposed  \\\n",
       "0  Google SMB | Q1 2021 | Acquisition | GDN US RMKT  ...   5735.0   \n",
       "1  Google SMB | Q3 2021 | Acquisition | GDN AR RMKT  ...    913.0   \n",
       "2  Google SMB | Q3 2021 | Acquisition | GDN AR Pros  ...    761.0   \n",
       "3  Google SMB | Q3 2021 | Acquisition | GDN CO RMKT  ...    738.0   \n",
       "4                    Study #1: GDN Brazil Prospects  ...   7305.0   \n",
       "\n",
       "   control_user_count  scaled_control  control  scaling_factor  \\\n",
       "0            334180.0     5079.615234   2177.0        2.330932   \n",
       "1           1447421.0      790.586853    338.0        2.331689   \n",
       "2           1163660.0      649.649963    279.0        2.330728   \n",
       "3            622688.0      552.239258    237.0        2.331061   \n",
       "4           3588115.0     6584.324219   2823.0        2.329719   \n",
       "\n",
       "   cost_spent_on_exposed_group  absolute_lift  relative_lift  \\\n",
       "0                 27861.472510     655.384583       0.130174   \n",
       "1                 28952.369800     122.413147       0.158467   \n",
       "2                 20423.227120     111.350044       0.170277   \n",
       "3                 12694.184520     185.760742       0.335840   \n",
       "4                333900.618917     720.675659       0.109453   \n",
       "\n",
       "   probability_of_lift  Significant_Spend  \n",
       "0             0.996500                1.0  \n",
       "1             0.969700                1.0  \n",
       "2             0.926700                1.0  \n",
       "3             0.991300                1.0  \n",
       "4             0.989379                1.0  \n",
       "\n",
       "[5 rows x 21 columns]"
      ]
     },
     "execution_count": 214,
     "metadata": {},
     "output_type": "execute_result"
    }
   ],
   "source": [
    "display_data.head()"
   ]
  },
  {
   "cell_type": "code",
   "execution_count": 216,
   "id": "7f7d08dd",
   "metadata": {},
   "outputs": [],
   "source": [
    "youtube_data.reset_index(drop = True, inplace = True)"
   ]
  },
  {
   "cell_type": "code",
   "execution_count": 206,
   "id": "4fec924d",
   "metadata": {},
   "outputs": [
    {
     "data": {
      "text/html": [
       "<div>\n",
       "<style scoped>\n",
       "    .dataframe tbody tr th:only-of-type {\n",
       "        vertical-align: middle;\n",
       "    }\n",
       "\n",
       "    .dataframe tbody tr th {\n",
       "        vertical-align: top;\n",
       "    }\n",
       "\n",
       "    .dataframe thead th {\n",
       "        text-align: right;\n",
       "    }\n",
       "</style>\n",
       "<table border=\"1\" class=\"dataframe\">\n",
       "  <thead>\n",
       "    <tr style=\"text-align: right;\">\n",
       "      <th></th>\n",
       "      <th>study_id</th>\n",
       "      <th>year</th>\n",
       "      <th>quarter</th>\n",
       "      <th>region</th>\n",
       "      <th>country</th>\n",
       "      <th>pa</th>\n",
       "      <th>channel</th>\n",
       "      <th>tactic</th>\n",
       "      <th>conversion</th>\n",
       "      <th>study_name</th>\n",
       "      <th>...</th>\n",
       "      <th>exposed</th>\n",
       "      <th>control_user_count</th>\n",
       "      <th>scaled_control</th>\n",
       "      <th>control</th>\n",
       "      <th>scaling_factor</th>\n",
       "      <th>cost_spent_on_exposed_group</th>\n",
       "      <th>absolute_lift</th>\n",
       "      <th>relative_lift</th>\n",
       "      <th>probability_of_lift</th>\n",
       "      <th>Significant_Spend</th>\n",
       "    </tr>\n",
       "  </thead>\n",
       "  <tbody>\n",
       "    <tr>\n",
       "      <th>0</th>\n",
       "      <td>5475007.0</td>\n",
       "      <td>2022.0</td>\n",
       "      <td>Q1</td>\n",
       "      <td>EMEA</td>\n",
       "      <td>BR</td>\n",
       "      <td>SMB</td>\n",
       "      <td>YOUTUBE</td>\n",
       "      <td>non-REMK</td>\n",
       "      <td>Type 288347008 (LENA - B Lead)</td>\n",
       "      <td>Study #8: YouTube BR Prospecting</td>\n",
       "      <td>...</td>\n",
       "      <td>41750.0</td>\n",
       "      <td>3027483.0</td>\n",
       "      <td>30420.0</td>\n",
       "      <td>13684.0</td>\n",
       "      <td>2.223291</td>\n",
       "      <td>37943.032364</td>\n",
       "      <td>11330.0</td>\n",
       "      <td>0.372456</td>\n",
       "      <td>1.000000</td>\n",
       "      <td>1.0</td>\n",
       "    </tr>\n",
       "    <tr>\n",
       "      <th>1</th>\n",
       "      <td>5481684.0</td>\n",
       "      <td>2022.0</td>\n",
       "      <td>Q1</td>\n",
       "      <td>EMEA</td>\n",
       "      <td>US</td>\n",
       "      <td>SMB</td>\n",
       "      <td>YOUTUBE</td>\n",
       "      <td>REMK</td>\n",
       "      <td>Type 288347008 (LENA - B Lead)</td>\n",
       "      <td>Study #10: YouTube US Remarketing</td>\n",
       "      <td>...</td>\n",
       "      <td>4104.0</td>\n",
       "      <td>28317.0</td>\n",
       "      <td>3065.0</td>\n",
       "      <td>1331.0</td>\n",
       "      <td>2.301515</td>\n",
       "      <td>3514.206758</td>\n",
       "      <td>1039.0</td>\n",
       "      <td>0.339014</td>\n",
       "      <td>0.999826</td>\n",
       "      <td>1.0</td>\n",
       "    </tr>\n",
       "    <tr>\n",
       "      <th>2</th>\n",
       "      <td>5550419.0</td>\n",
       "      <td>2022.0</td>\n",
       "      <td>Q1</td>\n",
       "      <td>EMEA</td>\n",
       "      <td>US</td>\n",
       "      <td>SMB</td>\n",
       "      <td>YOUTUBE</td>\n",
       "      <td>non-REMK</td>\n",
       "      <td>Type 288347008 (LENA - B Lead)</td>\n",
       "      <td>Study #9: YouTube US Prospecting</td>\n",
       "      <td>...</td>\n",
       "      <td>3009.0</td>\n",
       "      <td>111677.0</td>\n",
       "      <td>2680.0</td>\n",
       "      <td>1170.0</td>\n",
       "      <td>2.290731</td>\n",
       "      <td>20301.975943</td>\n",
       "      <td>329.0</td>\n",
       "      <td>0.122851</td>\n",
       "      <td>0.938057</td>\n",
       "      <td>1.0</td>\n",
       "    </tr>\n",
       "    <tr>\n",
       "      <th>3</th>\n",
       "      <td>6243271.0</td>\n",
       "      <td>2022.0</td>\n",
       "      <td>Q2</td>\n",
       "      <td>EMEA</td>\n",
       "      <td>BR</td>\n",
       "      <td>SMB</td>\n",
       "      <td>YOUTUBE</td>\n",
       "      <td>non-REMK</td>\n",
       "      <td>Type 288347008 (LENA - B Lead)</td>\n",
       "      <td>SMB Ads_LATAM_BR_Q2_22_LENA - B Lead_YouTube_N...</td>\n",
       "      <td>...</td>\n",
       "      <td>41560.0</td>\n",
       "      <td>5308397.0</td>\n",
       "      <td>38511.0</td>\n",
       "      <td>17142.0</td>\n",
       "      <td>2.249761</td>\n",
       "      <td>60180.015069</td>\n",
       "      <td>3049.0</td>\n",
       "      <td>0.079165</td>\n",
       "      <td>0.997551</td>\n",
       "      <td>1.0</td>\n",
       "    </tr>\n",
       "    <tr>\n",
       "      <th>4</th>\n",
       "      <td>6232008.0</td>\n",
       "      <td>2022.0</td>\n",
       "      <td>Q2</td>\n",
       "      <td>EMEA</td>\n",
       "      <td>BR</td>\n",
       "      <td>SMB</td>\n",
       "      <td>YOUTUBE</td>\n",
       "      <td>REMK</td>\n",
       "      <td>Type 288347008 (LENA - B Lead)</td>\n",
       "      <td>SMB Ads_LATAM_BR_Q2_22_LENA - B Lead_YouTube_R...</td>\n",
       "      <td>...</td>\n",
       "      <td>24440.0</td>\n",
       "      <td>99469.0</td>\n",
       "      <td>23382.0</td>\n",
       "      <td>10076.0</td>\n",
       "      <td>2.321547</td>\n",
       "      <td>15454.618297</td>\n",
       "      <td>1058.0</td>\n",
       "      <td>0.045244</td>\n",
       "      <td>0.928382</td>\n",
       "      <td>1.0</td>\n",
       "    </tr>\n",
       "  </tbody>\n",
       "</table>\n",
       "<p>5 rows × 21 columns</p>\n",
       "</div>"
      ],
      "text/plain": [
       "    study_id    year quarter region country   pa  channel    tactic  \\\n",
       "0  5475007.0  2022.0      Q1   EMEA      BR  SMB  YOUTUBE  non-REMK   \n",
       "1  5481684.0  2022.0      Q1   EMEA      US  SMB  YOUTUBE      REMK   \n",
       "2  5550419.0  2022.0      Q1   EMEA      US  SMB  YOUTUBE  non-REMK   \n",
       "3  6243271.0  2022.0      Q2   EMEA      BR  SMB  YOUTUBE  non-REMK   \n",
       "4  6232008.0  2022.0      Q2   EMEA      BR  SMB  YOUTUBE      REMK   \n",
       "\n",
       "                       conversion  \\\n",
       "0  Type 288347008 (LENA - B Lead)   \n",
       "1  Type 288347008 (LENA - B Lead)   \n",
       "2  Type 288347008 (LENA - B Lead)   \n",
       "3  Type 288347008 (LENA - B Lead)   \n",
       "4  Type 288347008 (LENA - B Lead)   \n",
       "\n",
       "                                          study_name  ...  exposed  \\\n",
       "0                   Study #8: YouTube BR Prospecting  ...  41750.0   \n",
       "1                  Study #10: YouTube US Remarketing  ...   4104.0   \n",
       "2                   Study #9: YouTube US Prospecting  ...   3009.0   \n",
       "3  SMB Ads_LATAM_BR_Q2_22_LENA - B Lead_YouTube_N...  ...  41560.0   \n",
       "4  SMB Ads_LATAM_BR_Q2_22_LENA - B Lead_YouTube_R...  ...  24440.0   \n",
       "\n",
       "   control_user_count  scaled_control  control  scaling_factor  \\\n",
       "0           3027483.0         30420.0  13684.0        2.223291   \n",
       "1             28317.0          3065.0   1331.0        2.301515   \n",
       "2            111677.0          2680.0   1170.0        2.290731   \n",
       "3           5308397.0         38511.0  17142.0        2.249761   \n",
       "4             99469.0         23382.0  10076.0        2.321547   \n",
       "\n",
       "   cost_spent_on_exposed_group  absolute_lift  relative_lift  \\\n",
       "0                 37943.032364        11330.0       0.372456   \n",
       "1                  3514.206758         1039.0       0.339014   \n",
       "2                 20301.975943          329.0       0.122851   \n",
       "3                 60180.015069         3049.0       0.079165   \n",
       "4                 15454.618297         1058.0       0.045244   \n",
       "\n",
       "   probability_of_lift  Significant_Spend  \n",
       "0             1.000000                1.0  \n",
       "1             0.999826                1.0  \n",
       "2             0.938057                1.0  \n",
       "3             0.997551                1.0  \n",
       "4             0.928382                1.0  \n",
       "\n",
       "[5 rows x 21 columns]"
      ]
     },
     "execution_count": 206,
     "metadata": {},
     "output_type": "execute_result"
    }
   ],
   "source": [
    "youtube_data.head()"
   ]
  },
  {
   "cell_type": "code",
   "execution_count": 218,
   "id": "2216a0ee",
   "metadata": {},
   "outputs": [
    {
     "data": {
      "text/html": [
       "<div>\n",
       "<style scoped>\n",
       "    .dataframe tbody tr th:only-of-type {\n",
       "        vertical-align: middle;\n",
       "    }\n",
       "\n",
       "    .dataframe tbody tr th {\n",
       "        vertical-align: top;\n",
       "    }\n",
       "\n",
       "    .dataframe thead th {\n",
       "        text-align: right;\n",
       "    }\n",
       "</style>\n",
       "<table border=\"1\" class=\"dataframe\">\n",
       "  <thead>\n",
       "    <tr style=\"text-align: right;\">\n",
       "      <th></th>\n",
       "      <th>study_id</th>\n",
       "      <th>year</th>\n",
       "      <th>quarter</th>\n",
       "      <th>region</th>\n",
       "      <th>country</th>\n",
       "      <th>pa</th>\n",
       "      <th>channel</th>\n",
       "      <th>tactic</th>\n",
       "      <th>conversion</th>\n",
       "      <th>study_name</th>\n",
       "      <th>...</th>\n",
       "      <th>exposed</th>\n",
       "      <th>control_user_count</th>\n",
       "      <th>scaled_control</th>\n",
       "      <th>control</th>\n",
       "      <th>scaling_factor</th>\n",
       "      <th>cost_spent_on_exposed_group</th>\n",
       "      <th>absolute_lift</th>\n",
       "      <th>relative_lift</th>\n",
       "      <th>probability_of_lift</th>\n",
       "      <th>Significant_Spend</th>\n",
       "    </tr>\n",
       "  </thead>\n",
       "  <tbody>\n",
       "    <tr>\n",
       "      <th>0</th>\n",
       "      <td>6336894.0</td>\n",
       "      <td>2022.0</td>\n",
       "      <td>Q2</td>\n",
       "      <td>APAC</td>\n",
       "      <td>ID+KR+LK+MY+PK</td>\n",
       "      <td>SMB</td>\n",
       "      <td>DISCOVERY</td>\n",
       "      <td>non-REMK</td>\n",
       "      <td>Type 288347008 (LENA - B Lead)</td>\n",
       "      <td>1009930_SMB_APAC_Multi_Q2_2022_Hybrid_NonRMKT_...</td>\n",
       "      <td>...</td>\n",
       "      <td>38409.0</td>\n",
       "      <td>41910608.0</td>\n",
       "      <td>34812.0</td>\n",
       "      <td>15060.0</td>\n",
       "      <td>2.311425</td>\n",
       "      <td>254256.323043</td>\n",
       "      <td>3597.0</td>\n",
       "      <td>0.103333</td>\n",
       "      <td>0.999833</td>\n",
       "      <td>1.0</td>\n",
       "    </tr>\n",
       "    <tr>\n",
       "      <th>1</th>\n",
       "      <td>6335583.0</td>\n",
       "      <td>2022.0</td>\n",
       "      <td>Q2</td>\n",
       "      <td>APAC</td>\n",
       "      <td>PH</td>\n",
       "      <td>SMB</td>\n",
       "      <td>DISCOVERY</td>\n",
       "      <td>non-REMK</td>\n",
       "      <td>Type 288347008 (LENA - B Lead)</td>\n",
       "      <td>1009930_SMB_APAC_PH_Q2_2022_Hybrid_NonRMKT_Dis...</td>\n",
       "      <td>...</td>\n",
       "      <td>3680.0</td>\n",
       "      <td>9323314.0</td>\n",
       "      <td>3013.0</td>\n",
       "      <td>1306.0</td>\n",
       "      <td>2.315007</td>\n",
       "      <td>7157.309601</td>\n",
       "      <td>667.0</td>\n",
       "      <td>0.221403</td>\n",
       "      <td>0.998997</td>\n",
       "      <td>1.0</td>\n",
       "    </tr>\n",
       "    <tr>\n",
       "      <th>2</th>\n",
       "      <td>6336345.0</td>\n",
       "      <td>2022.0</td>\n",
       "      <td>Q2</td>\n",
       "      <td>APAC</td>\n",
       "      <td>PH</td>\n",
       "      <td>SMB</td>\n",
       "      <td>DISCOVERY</td>\n",
       "      <td>REMK</td>\n",
       "      <td>Type 288347008 (LENA - B Lead)</td>\n",
       "      <td>1009930_SMB_APAC_PH_Q2_2022_Hybrid_RMKT_Discov...</td>\n",
       "      <td>...</td>\n",
       "      <td>3739.0</td>\n",
       "      <td>137594.0</td>\n",
       "      <td>3257.0</td>\n",
       "      <td>1384.0</td>\n",
       "      <td>2.364994</td>\n",
       "      <td>8638.688031</td>\n",
       "      <td>482.0</td>\n",
       "      <td>0.148124</td>\n",
       "      <td>0.990074</td>\n",
       "      <td>1.0</td>\n",
       "    </tr>\n",
       "    <tr>\n",
       "      <th>3</th>\n",
       "      <td>6358512.0</td>\n",
       "      <td>2022.0</td>\n",
       "      <td>Q2</td>\n",
       "      <td>EMEA</td>\n",
       "      <td>AE</td>\n",
       "      <td>SMB</td>\n",
       "      <td>DISCOVERY</td>\n",
       "      <td>REMK</td>\n",
       "      <td>Type 288347008 (LENA - B Lead)</td>\n",
       "      <td>SMB Google Ads_EMEA_AE_Q2__LENA Qlead_Discover...</td>\n",
       "      <td>...</td>\n",
       "      <td>3404.0</td>\n",
       "      <td>19578.0</td>\n",
       "      <td>3080.0</td>\n",
       "      <td>1318.0</td>\n",
       "      <td>2.343498</td>\n",
       "      <td>3362.755632</td>\n",
       "      <td>324.0</td>\n",
       "      <td>0.105097</td>\n",
       "      <td>0.943437</td>\n",
       "      <td>1.0</td>\n",
       "    </tr>\n",
       "    <tr>\n",
       "      <th>5</th>\n",
       "      <td>6361599.0</td>\n",
       "      <td>2022.0</td>\n",
       "      <td>Q2</td>\n",
       "      <td>EMEA</td>\n",
       "      <td>MA</td>\n",
       "      <td>SMB</td>\n",
       "      <td>DISCOVERY</td>\n",
       "      <td>non-REMK</td>\n",
       "      <td>Type 288347008 (LENA - B Lead)</td>\n",
       "      <td>SMB Google Ads_EMEA_MA_Q2__LENA Qlead_Discover...</td>\n",
       "      <td>...</td>\n",
       "      <td>9835.0</td>\n",
       "      <td>4852948.0</td>\n",
       "      <td>8773.0</td>\n",
       "      <td>3777.0</td>\n",
       "      <td>2.322423</td>\n",
       "      <td>60327.491071</td>\n",
       "      <td>1062.0</td>\n",
       "      <td>0.120995</td>\n",
       "      <td>0.998953</td>\n",
       "      <td>1.0</td>\n",
       "    </tr>\n",
       "  </tbody>\n",
       "</table>\n",
       "<p>5 rows × 21 columns</p>\n",
       "</div>"
      ],
      "text/plain": [
       "    study_id    year quarter region         country   pa    channel    tactic  \\\n",
       "0  6336894.0  2022.0      Q2   APAC  ID+KR+LK+MY+PK  SMB  DISCOVERY  non-REMK   \n",
       "1  6335583.0  2022.0      Q2   APAC              PH  SMB  DISCOVERY  non-REMK   \n",
       "2  6336345.0  2022.0      Q2   APAC              PH  SMB  DISCOVERY      REMK   \n",
       "3  6358512.0  2022.0      Q2   EMEA              AE  SMB  DISCOVERY      REMK   \n",
       "5  6361599.0  2022.0      Q2   EMEA              MA  SMB  DISCOVERY  non-REMK   \n",
       "\n",
       "                       conversion  \\\n",
       "0  Type 288347008 (LENA - B Lead)   \n",
       "1  Type 288347008 (LENA - B Lead)   \n",
       "2  Type 288347008 (LENA - B Lead)   \n",
       "3  Type 288347008 (LENA - B Lead)   \n",
       "5  Type 288347008 (LENA - B Lead)   \n",
       "\n",
       "                                          study_name  ...  exposed  \\\n",
       "0  1009930_SMB_APAC_Multi_Q2_2022_Hybrid_NonRMKT_...  ...  38409.0   \n",
       "1  1009930_SMB_APAC_PH_Q2_2022_Hybrid_NonRMKT_Dis...  ...   3680.0   \n",
       "2  1009930_SMB_APAC_PH_Q2_2022_Hybrid_RMKT_Discov...  ...   3739.0   \n",
       "3  SMB Google Ads_EMEA_AE_Q2__LENA Qlead_Discover...  ...   3404.0   \n",
       "5  SMB Google Ads_EMEA_MA_Q2__LENA Qlead_Discover...  ...   9835.0   \n",
       "\n",
       "   control_user_count  scaled_control  control  scaling_factor  \\\n",
       "0          41910608.0         34812.0  15060.0        2.311425   \n",
       "1           9323314.0          3013.0   1306.0        2.315007   \n",
       "2            137594.0          3257.0   1384.0        2.364994   \n",
       "3             19578.0          3080.0   1318.0        2.343498   \n",
       "5           4852948.0          8773.0   3777.0        2.322423   \n",
       "\n",
       "   cost_spent_on_exposed_group  absolute_lift  relative_lift  \\\n",
       "0                254256.323043         3597.0       0.103333   \n",
       "1                  7157.309601          667.0       0.221403   \n",
       "2                  8638.688031          482.0       0.148124   \n",
       "3                  3362.755632          324.0       0.105097   \n",
       "5                 60327.491071         1062.0       0.120995   \n",
       "\n",
       "   probability_of_lift  Significant_Spend  \n",
       "0             0.999833                1.0  \n",
       "1             0.998997                1.0  \n",
       "2             0.990074                1.0  \n",
       "3             0.943437                1.0  \n",
       "5             0.998953                1.0  \n",
       "\n",
       "[5 rows x 21 columns]"
      ]
     },
     "execution_count": 218,
     "metadata": {},
     "output_type": "execute_result"
    }
   ],
   "source": [
    "discovery_data_cooks.head()"
   ]
  },
  {
   "cell_type": "code",
   "execution_count": 219,
   "id": "7e451557",
   "metadata": {},
   "outputs": [
    {
     "data": {
      "text/html": [
       "<div>\n",
       "<style scoped>\n",
       "    .dataframe tbody tr th:only-of-type {\n",
       "        vertical-align: middle;\n",
       "    }\n",
       "\n",
       "    .dataframe tbody tr th {\n",
       "        vertical-align: top;\n",
       "    }\n",
       "\n",
       "    .dataframe thead th {\n",
       "        text-align: right;\n",
       "    }\n",
       "</style>\n",
       "<table border=\"1\" class=\"dataframe\">\n",
       "  <thead>\n",
       "    <tr style=\"text-align: right;\">\n",
       "      <th></th>\n",
       "      <th>study_id</th>\n",
       "      <th>year</th>\n",
       "      <th>quarter</th>\n",
       "      <th>region</th>\n",
       "      <th>country</th>\n",
       "      <th>pa</th>\n",
       "      <th>channel</th>\n",
       "      <th>tactic</th>\n",
       "      <th>conversion</th>\n",
       "      <th>study_name</th>\n",
       "      <th>...</th>\n",
       "      <th>exposed</th>\n",
       "      <th>control_user_count</th>\n",
       "      <th>scaled_control</th>\n",
       "      <th>control</th>\n",
       "      <th>scaling_factor</th>\n",
       "      <th>cost_spent_on_exposed_group</th>\n",
       "      <th>absolute_lift</th>\n",
       "      <th>relative_lift</th>\n",
       "      <th>probability_of_lift</th>\n",
       "      <th>Significant_Spend</th>\n",
       "    </tr>\n",
       "  </thead>\n",
       "  <tbody>\n",
       "    <tr>\n",
       "      <th>0</th>\n",
       "      <td>148612498.0</td>\n",
       "      <td>2021.0</td>\n",
       "      <td>Q1</td>\n",
       "      <td>AMER</td>\n",
       "      <td>US</td>\n",
       "      <td>SMB</td>\n",
       "      <td>DISPLAY</td>\n",
       "      <td>REMK</td>\n",
       "      <td>Type 288347008 (LENA - B Lead)</td>\n",
       "      <td>Google SMB | Q1 2021 | Acquisition | GDN US RMKT</td>\n",
       "      <td>...</td>\n",
       "      <td>5735.0</td>\n",
       "      <td>334180.0</td>\n",
       "      <td>5079.615234</td>\n",
       "      <td>2177.0</td>\n",
       "      <td>2.330932</td>\n",
       "      <td>27861.472510</td>\n",
       "      <td>655.384583</td>\n",
       "      <td>0.130174</td>\n",
       "      <td>0.996500</td>\n",
       "      <td>1.0</td>\n",
       "    </tr>\n",
       "    <tr>\n",
       "      <th>1</th>\n",
       "      <td>149166897.0</td>\n",
       "      <td>2021.0</td>\n",
       "      <td>Q4</td>\n",
       "      <td>AMER</td>\n",
       "      <td>AR</td>\n",
       "      <td>SMB</td>\n",
       "      <td>DISPLAY</td>\n",
       "      <td>REMK</td>\n",
       "      <td>Type 288347008 (LENA - B Lead)</td>\n",
       "      <td>Google SMB | Q3 2021 | Acquisition | GDN AR RMKT</td>\n",
       "      <td>...</td>\n",
       "      <td>913.0</td>\n",
       "      <td>1447421.0</td>\n",
       "      <td>790.586853</td>\n",
       "      <td>338.0</td>\n",
       "      <td>2.331689</td>\n",
       "      <td>28952.369800</td>\n",
       "      <td>122.413147</td>\n",
       "      <td>0.158467</td>\n",
       "      <td>0.969700</td>\n",
       "      <td>1.0</td>\n",
       "    </tr>\n",
       "    <tr>\n",
       "      <th>2</th>\n",
       "      <td>149167411.0</td>\n",
       "      <td>2021.0</td>\n",
       "      <td>Q4</td>\n",
       "      <td>AMER</td>\n",
       "      <td>AR</td>\n",
       "      <td>SMB</td>\n",
       "      <td>DISPLAY</td>\n",
       "      <td>non-REMK</td>\n",
       "      <td>Type 288347008 (LENA - B Lead)</td>\n",
       "      <td>Google SMB | Q3 2021 | Acquisition | GDN AR Pros</td>\n",
       "      <td>...</td>\n",
       "      <td>761.0</td>\n",
       "      <td>1163660.0</td>\n",
       "      <td>649.649963</td>\n",
       "      <td>279.0</td>\n",
       "      <td>2.330728</td>\n",
       "      <td>20423.227120</td>\n",
       "      <td>111.350044</td>\n",
       "      <td>0.170277</td>\n",
       "      <td>0.926700</td>\n",
       "      <td>1.0</td>\n",
       "    </tr>\n",
       "    <tr>\n",
       "      <th>3</th>\n",
       "      <td>149167580.0</td>\n",
       "      <td>2021.0</td>\n",
       "      <td>Q4</td>\n",
       "      <td>AMER</td>\n",
       "      <td>CO</td>\n",
       "      <td>SMB</td>\n",
       "      <td>DISPLAY</td>\n",
       "      <td>REMK</td>\n",
       "      <td>Type 288347008 (LENA - B Lead)</td>\n",
       "      <td>Google SMB | Q3 2021 | Acquisition | GDN CO RMKT</td>\n",
       "      <td>...</td>\n",
       "      <td>738.0</td>\n",
       "      <td>622688.0</td>\n",
       "      <td>552.239258</td>\n",
       "      <td>237.0</td>\n",
       "      <td>2.331061</td>\n",
       "      <td>12694.184520</td>\n",
       "      <td>185.760742</td>\n",
       "      <td>0.335840</td>\n",
       "      <td>0.991300</td>\n",
       "      <td>1.0</td>\n",
       "    </tr>\n",
       "    <tr>\n",
       "      <th>6</th>\n",
       "      <td>149544593.0</td>\n",
       "      <td>2022.0</td>\n",
       "      <td>Q1</td>\n",
       "      <td>EMEA</td>\n",
       "      <td>LAC-Others (BO, CR, DO, EC, GT, HN, NI, PA, PR...</td>\n",
       "      <td>SMB</td>\n",
       "      <td>DISPLAY</td>\n",
       "      <td>non-REMK</td>\n",
       "      <td>Type 288347008 (LENA - B Lead)</td>\n",
       "      <td>Study #4: GDN LAC-Others Prospects</td>\n",
       "      <td>...</td>\n",
       "      <td>1281.0</td>\n",
       "      <td>2966950.0</td>\n",
       "      <td>992.126282</td>\n",
       "      <td>425.0</td>\n",
       "      <td>2.335590</td>\n",
       "      <td>47788.858417</td>\n",
       "      <td>288.873688</td>\n",
       "      <td>0.291166</td>\n",
       "      <td>0.997597</td>\n",
       "      <td>1.0</td>\n",
       "    </tr>\n",
       "  </tbody>\n",
       "</table>\n",
       "<p>5 rows × 21 columns</p>\n",
       "</div>"
      ],
      "text/plain": [
       "      study_id    year quarter region  \\\n",
       "0  148612498.0  2021.0      Q1   AMER   \n",
       "1  149166897.0  2021.0      Q4   AMER   \n",
       "2  149167411.0  2021.0      Q4   AMER   \n",
       "3  149167580.0  2021.0      Q4   AMER   \n",
       "6  149544593.0  2022.0      Q1   EMEA   \n",
       "\n",
       "                                             country   pa  channel    tactic  \\\n",
       "0                                                 US  SMB  DISPLAY      REMK   \n",
       "1                                                 AR  SMB  DISPLAY      REMK   \n",
       "2                                                 AR  SMB  DISPLAY  non-REMK   \n",
       "3                                                 CO  SMB  DISPLAY      REMK   \n",
       "6  LAC-Others (BO, CR, DO, EC, GT, HN, NI, PA, PR...  SMB  DISPLAY  non-REMK   \n",
       "\n",
       "                       conversion  \\\n",
       "0  Type 288347008 (LENA - B Lead)   \n",
       "1  Type 288347008 (LENA - B Lead)   \n",
       "2  Type 288347008 (LENA - B Lead)   \n",
       "3  Type 288347008 (LENA - B Lead)   \n",
       "6  Type 288347008 (LENA - B Lead)   \n",
       "\n",
       "                                         study_name  ...  exposed  \\\n",
       "0  Google SMB | Q1 2021 | Acquisition | GDN US RMKT  ...   5735.0   \n",
       "1  Google SMB | Q3 2021 | Acquisition | GDN AR RMKT  ...    913.0   \n",
       "2  Google SMB | Q3 2021 | Acquisition | GDN AR Pros  ...    761.0   \n",
       "3  Google SMB | Q3 2021 | Acquisition | GDN CO RMKT  ...    738.0   \n",
       "6                Study #4: GDN LAC-Others Prospects  ...   1281.0   \n",
       "\n",
       "   control_user_count  scaled_control  control  scaling_factor  \\\n",
       "0            334180.0     5079.615234   2177.0        2.330932   \n",
       "1           1447421.0      790.586853    338.0        2.331689   \n",
       "2           1163660.0      649.649963    279.0        2.330728   \n",
       "3            622688.0      552.239258    237.0        2.331061   \n",
       "6           2966950.0      992.126282    425.0        2.335590   \n",
       "\n",
       "   cost_spent_on_exposed_group  absolute_lift  relative_lift  \\\n",
       "0                 27861.472510     655.384583       0.130174   \n",
       "1                 28952.369800     122.413147       0.158467   \n",
       "2                 20423.227120     111.350044       0.170277   \n",
       "3                 12694.184520     185.760742       0.335840   \n",
       "6                 47788.858417     288.873688       0.291166   \n",
       "\n",
       "   probability_of_lift  Significant_Spend  \n",
       "0             0.996500                1.0  \n",
       "1             0.969700                1.0  \n",
       "2             0.926700                1.0  \n",
       "3             0.991300                1.0  \n",
       "6             0.997597                1.0  \n",
       "\n",
       "[5 rows x 21 columns]"
      ]
     },
     "execution_count": 219,
     "metadata": {},
     "output_type": "execute_result"
    }
   ],
   "source": [
    "display_data_cooks.head()"
   ]
  },
  {
   "cell_type": "code",
   "execution_count": 221,
   "id": "6711ddc6",
   "metadata": {},
   "outputs": [
    {
     "data": {
      "text/html": [
       "<div>\n",
       "<style scoped>\n",
       "    .dataframe tbody tr th:only-of-type {\n",
       "        vertical-align: middle;\n",
       "    }\n",
       "\n",
       "    .dataframe tbody tr th {\n",
       "        vertical-align: top;\n",
       "    }\n",
       "\n",
       "    .dataframe thead th {\n",
       "        text-align: right;\n",
       "    }\n",
       "</style>\n",
       "<table border=\"1\" class=\"dataframe\">\n",
       "  <thead>\n",
       "    <tr style=\"text-align: right;\">\n",
       "      <th></th>\n",
       "      <th>study_id</th>\n",
       "      <th>year</th>\n",
       "      <th>quarter</th>\n",
       "      <th>region</th>\n",
       "      <th>country</th>\n",
       "      <th>pa</th>\n",
       "      <th>channel</th>\n",
       "      <th>tactic</th>\n",
       "      <th>conversion</th>\n",
       "      <th>study_name</th>\n",
       "      <th>...</th>\n",
       "      <th>exposed</th>\n",
       "      <th>control_user_count</th>\n",
       "      <th>scaled_control</th>\n",
       "      <th>control</th>\n",
       "      <th>scaling_factor</th>\n",
       "      <th>cost_spent_on_exposed_group</th>\n",
       "      <th>absolute_lift</th>\n",
       "      <th>relative_lift</th>\n",
       "      <th>probability_of_lift</th>\n",
       "      <th>Significant_Spend</th>\n",
       "    </tr>\n",
       "  </thead>\n",
       "  <tbody>\n",
       "    <tr>\n",
       "      <th>0</th>\n",
       "      <td>5475007.0</td>\n",
       "      <td>2022.0</td>\n",
       "      <td>Q1</td>\n",
       "      <td>EMEA</td>\n",
       "      <td>BR</td>\n",
       "      <td>SMB</td>\n",
       "      <td>YOUTUBE</td>\n",
       "      <td>non-REMK</td>\n",
       "      <td>Type 288347008 (LENA - B Lead)</td>\n",
       "      <td>Study #8: YouTube BR Prospecting</td>\n",
       "      <td>...</td>\n",
       "      <td>41750.0</td>\n",
       "      <td>3027483.0</td>\n",
       "      <td>30420.0</td>\n",
       "      <td>13684.0</td>\n",
       "      <td>2.223291</td>\n",
       "      <td>37943.032364</td>\n",
       "      <td>11330.0</td>\n",
       "      <td>0.372456</td>\n",
       "      <td>1.000000</td>\n",
       "      <td>1.0</td>\n",
       "    </tr>\n",
       "    <tr>\n",
       "      <th>1</th>\n",
       "      <td>5481684.0</td>\n",
       "      <td>2022.0</td>\n",
       "      <td>Q1</td>\n",
       "      <td>EMEA</td>\n",
       "      <td>US</td>\n",
       "      <td>SMB</td>\n",
       "      <td>YOUTUBE</td>\n",
       "      <td>REMK</td>\n",
       "      <td>Type 288347008 (LENA - B Lead)</td>\n",
       "      <td>Study #10: YouTube US Remarketing</td>\n",
       "      <td>...</td>\n",
       "      <td>4104.0</td>\n",
       "      <td>28317.0</td>\n",
       "      <td>3065.0</td>\n",
       "      <td>1331.0</td>\n",
       "      <td>2.301515</td>\n",
       "      <td>3514.206758</td>\n",
       "      <td>1039.0</td>\n",
       "      <td>0.339014</td>\n",
       "      <td>0.999826</td>\n",
       "      <td>1.0</td>\n",
       "    </tr>\n",
       "    <tr>\n",
       "      <th>2</th>\n",
       "      <td>5550419.0</td>\n",
       "      <td>2022.0</td>\n",
       "      <td>Q1</td>\n",
       "      <td>EMEA</td>\n",
       "      <td>US</td>\n",
       "      <td>SMB</td>\n",
       "      <td>YOUTUBE</td>\n",
       "      <td>non-REMK</td>\n",
       "      <td>Type 288347008 (LENA - B Lead)</td>\n",
       "      <td>Study #9: YouTube US Prospecting</td>\n",
       "      <td>...</td>\n",
       "      <td>3009.0</td>\n",
       "      <td>111677.0</td>\n",
       "      <td>2680.0</td>\n",
       "      <td>1170.0</td>\n",
       "      <td>2.290731</td>\n",
       "      <td>20301.975943</td>\n",
       "      <td>329.0</td>\n",
       "      <td>0.122851</td>\n",
       "      <td>0.938057</td>\n",
       "      <td>1.0</td>\n",
       "    </tr>\n",
       "    <tr>\n",
       "      <th>3</th>\n",
       "      <td>6243271.0</td>\n",
       "      <td>2022.0</td>\n",
       "      <td>Q2</td>\n",
       "      <td>EMEA</td>\n",
       "      <td>BR</td>\n",
       "      <td>SMB</td>\n",
       "      <td>YOUTUBE</td>\n",
       "      <td>non-REMK</td>\n",
       "      <td>Type 288347008 (LENA - B Lead)</td>\n",
       "      <td>SMB Ads_LATAM_BR_Q2_22_LENA - B Lead_YouTube_N...</td>\n",
       "      <td>...</td>\n",
       "      <td>41560.0</td>\n",
       "      <td>5308397.0</td>\n",
       "      <td>38511.0</td>\n",
       "      <td>17142.0</td>\n",
       "      <td>2.249761</td>\n",
       "      <td>60180.015069</td>\n",
       "      <td>3049.0</td>\n",
       "      <td>0.079165</td>\n",
       "      <td>0.997551</td>\n",
       "      <td>1.0</td>\n",
       "    </tr>\n",
       "    <tr>\n",
       "      <th>4</th>\n",
       "      <td>6232008.0</td>\n",
       "      <td>2022.0</td>\n",
       "      <td>Q2</td>\n",
       "      <td>EMEA</td>\n",
       "      <td>BR</td>\n",
       "      <td>SMB</td>\n",
       "      <td>YOUTUBE</td>\n",
       "      <td>REMK</td>\n",
       "      <td>Type 288347008 (LENA - B Lead)</td>\n",
       "      <td>SMB Ads_LATAM_BR_Q2_22_LENA - B Lead_YouTube_R...</td>\n",
       "      <td>...</td>\n",
       "      <td>24440.0</td>\n",
       "      <td>99469.0</td>\n",
       "      <td>23382.0</td>\n",
       "      <td>10076.0</td>\n",
       "      <td>2.321547</td>\n",
       "      <td>15454.618297</td>\n",
       "      <td>1058.0</td>\n",
       "      <td>0.045244</td>\n",
       "      <td>0.928382</td>\n",
       "      <td>1.0</td>\n",
       "    </tr>\n",
       "  </tbody>\n",
       "</table>\n",
       "<p>5 rows × 21 columns</p>\n",
       "</div>"
      ],
      "text/plain": [
       "    study_id    year quarter region country   pa  channel    tactic  \\\n",
       "0  5475007.0  2022.0      Q1   EMEA      BR  SMB  YOUTUBE  non-REMK   \n",
       "1  5481684.0  2022.0      Q1   EMEA      US  SMB  YOUTUBE      REMK   \n",
       "2  5550419.0  2022.0      Q1   EMEA      US  SMB  YOUTUBE  non-REMK   \n",
       "3  6243271.0  2022.0      Q2   EMEA      BR  SMB  YOUTUBE  non-REMK   \n",
       "4  6232008.0  2022.0      Q2   EMEA      BR  SMB  YOUTUBE      REMK   \n",
       "\n",
       "                       conversion  \\\n",
       "0  Type 288347008 (LENA - B Lead)   \n",
       "1  Type 288347008 (LENA - B Lead)   \n",
       "2  Type 288347008 (LENA - B Lead)   \n",
       "3  Type 288347008 (LENA - B Lead)   \n",
       "4  Type 288347008 (LENA - B Lead)   \n",
       "\n",
       "                                          study_name  ...  exposed  \\\n",
       "0                   Study #8: YouTube BR Prospecting  ...  41750.0   \n",
       "1                  Study #10: YouTube US Remarketing  ...   4104.0   \n",
       "2                   Study #9: YouTube US Prospecting  ...   3009.0   \n",
       "3  SMB Ads_LATAM_BR_Q2_22_LENA - B Lead_YouTube_N...  ...  41560.0   \n",
       "4  SMB Ads_LATAM_BR_Q2_22_LENA - B Lead_YouTube_R...  ...  24440.0   \n",
       "\n",
       "   control_user_count  scaled_control  control  scaling_factor  \\\n",
       "0           3027483.0         30420.0  13684.0        2.223291   \n",
       "1             28317.0          3065.0   1331.0        2.301515   \n",
       "2            111677.0          2680.0   1170.0        2.290731   \n",
       "3           5308397.0         38511.0  17142.0        2.249761   \n",
       "4             99469.0         23382.0  10076.0        2.321547   \n",
       "\n",
       "   cost_spent_on_exposed_group  absolute_lift  relative_lift  \\\n",
       "0                 37943.032364        11330.0       0.372456   \n",
       "1                  3514.206758         1039.0       0.339014   \n",
       "2                 20301.975943          329.0       0.122851   \n",
       "3                 60180.015069         3049.0       0.079165   \n",
       "4                 15454.618297         1058.0       0.045244   \n",
       "\n",
       "   probability_of_lift  Significant_Spend  \n",
       "0             1.000000                1.0  \n",
       "1             0.999826                1.0  \n",
       "2             0.938057                1.0  \n",
       "3             0.997551                1.0  \n",
       "4             0.928382                1.0  \n",
       "\n",
       "[5 rows x 21 columns]"
      ]
     },
     "execution_count": 221,
     "metadata": {},
     "output_type": "execute_result"
    }
   ],
   "source": [
    "youtube_data_cooks"
   ]
  },
  {
   "cell_type": "code",
   "execution_count": 222,
   "id": "596ef06e",
   "metadata": {},
   "outputs": [],
   "source": [
    "discovery_data_cooks.reset_index(drop = True,inplace = True)\n",
    "display_data_cooks.reset_index(drop = True, inplace = True)"
   ]
  },
  {
   "cell_type": "code",
   "execution_count": 223,
   "id": "1ed0d162",
   "metadata": {},
   "outputs": [],
   "source": [
    "powers2 = []\n",
    "for i in np.arange(0.1,0.9,0.1):\n",
    "    powers2.append(i)"
   ]
  },
  {
   "cell_type": "code",
   "execution_count": 224,
   "id": "1e1b278e",
   "metadata": {},
   "outputs": [
    {
     "data": {
      "text/plain": [
       "((0.8, 267.3916585102812), (0.8, 0.9149608124857733))"
      ]
     },
     "execution_count": 224,
     "metadata": {},
     "output_type": "execute_result"
    }
   ],
   "source": [
    "Hubor_Regressor(discovery_data_cooks, powers = powers2, channel = 'DISCOVERY')"
   ]
  },
  {
   "cell_type": "code",
   "execution_count": 225,
   "id": "f6457cf2",
   "metadata": {},
   "outputs": [
    {
     "data": {
      "text/plain": [
       "((0.8, 258.84260960753903), (0.8, 0.9203116322098226))"
      ]
     },
     "execution_count": 225,
     "metadata": {},
     "output_type": "execute_result"
    }
   ],
   "source": [
    "ridge_regression(discovery_data_cooks, powers = powers2, channel = 'DISCOVERY')"
   ]
  },
  {
   "cell_type": "code",
   "execution_count": 227,
   "id": "b33e0cf5",
   "metadata": {},
   "outputs": [
    {
     "data": {
      "text/plain": [
       "((0.8, 258.8426096075396), (0.8, 0.9203116322098222))"
      ]
     },
     "execution_count": 227,
     "metadata": {},
     "output_type": "execute_result"
    }
   ],
   "source": [
    "lasso_regression(discovery_data_cooks, powers = powers2, channel = 'DISCOVERY')"
   ]
  },
  {
   "cell_type": "code",
   "execution_count": 228,
   "id": "2a7b7b44",
   "metadata": {},
   "outputs": [
    {
     "data": {
      "text/plain": [
       "((0.1, 190.8341532335184), (0.1, 0.028157192786490204))"
      ]
     },
     "execution_count": 228,
     "metadata": {},
     "output_type": "execute_result"
    }
   ],
   "source": [
    "Hubor_Regressor(display_data_cooks, powers = powers2, channel = 'DISPLAY')"
   ]
  },
  {
   "cell_type": "code",
   "execution_count": 229,
   "id": "89fe7699",
   "metadata": {},
   "outputs": [
    {
     "data": {
      "text/plain": [
       "((0.1, 183.01302711342635), (0.1, 0.10618460773184124))"
      ]
     },
     "execution_count": 229,
     "metadata": {},
     "output_type": "execute_result"
    }
   ],
   "source": [
    "ridge_regression(display_data_cooks, powers = powers2, channel = 'DISPLAY')"
   ]
  },
  {
   "cell_type": "code",
   "execution_count": 230,
   "id": "5d435852",
   "metadata": {},
   "outputs": [
    {
     "data": {
      "text/plain": [
       "((0.1, 182.86826559447638), (0.1, 0.1075980470125586))"
      ]
     },
     "execution_count": 230,
     "metadata": {},
     "output_type": "execute_result"
    }
   ],
   "source": [
    "lasso_regression(display_data_cooks, powers = powers2, channel = 'DISPLAY')"
   ]
  },
  {
   "cell_type": "code",
   "execution_count": 231,
   "id": "277f3f5d",
   "metadata": {},
   "outputs": [
    {
     "data": {
      "text/plain": [
       "((0.30000000000000004, 4025.931850036387),\n",
       " (0.30000000000000004, 0.029346766933411872))"
      ]
     },
     "execution_count": 231,
     "metadata": {},
     "output_type": "execute_result"
    }
   ],
   "source": [
    "Hubor_Regressor(youtube_data_cooks, powers = powers2, channel = 'YOUTUBE')"
   ]
  },
  {
   "cell_type": "code",
   "execution_count": 232,
   "id": "43b01ccd",
   "metadata": {},
   "outputs": [
    {
     "data": {
      "text/plain": [
       "((0.30000000000000004, 3578.8973284700173),\n",
       " (0.30000000000000004, 0.23293927518585045))"
      ]
     },
     "execution_count": 232,
     "metadata": {},
     "output_type": "execute_result"
    }
   ],
   "source": [
    "ridge_regression(youtube_data_cooks, powers = powers2, channel = 'YOUTUBE')"
   ]
  },
  {
   "cell_type": "code",
   "execution_count": 233,
   "id": "57f6206e",
   "metadata": {},
   "outputs": [
    {
     "data": {
      "text/plain": [
       "((0.30000000000000004, 3578.897048751886),\n",
       " (0.30000000000000004, 0.23293939508914163))"
      ]
     },
     "execution_count": 233,
     "metadata": {},
     "output_type": "execute_result"
    }
   ],
   "source": [
    "lasso_regression(youtube_data_cooks, powers = powers2, channel = 'YOUTUBE')"
   ]
  },
  {
   "cell_type": "markdown",
   "id": "dee9a03b",
   "metadata": {},
   "source": [
    "# Isolation forest method "
   ]
  },
  {
   "cell_type": "markdown",
   "id": "bbb041a8",
   "metadata": {},
   "source": [
    "[Isolation Forest Method](https://www.analyticsvidhya.com/blog/2021/07/anomaly-detection-using-isolation-forest-a-complete-guide/) - documentation for how it works"
   ]
  },
  {
   "cell_type": "code",
   "execution_count": null,
   "id": "954502eb",
   "metadata": {},
   "outputs": [],
   "source": [
    "smb_classifier = pd.read_excel('SMB_Dataset_2022_Update.xlsx')"
   ]
  },
  {
   "cell_type": "code",
   "execution_count": null,
   "id": "f06a2a3e",
   "metadata": {},
   "outputs": [],
   "source": [
    "#replacing 'NA' values in region with most frequent region in dataset - 'EMEA'\n",
    "smb_classifier['region'].fillna('EMEA', inplace = True)"
   ]
  },
  {
   "cell_type": "code",
   "execution_count": null,
   "id": "287884dc",
   "metadata": {},
   "outputs": [],
   "source": [
    "#making sure there are no null values anymore \n",
    "smb_classifier.isnull().sum()\n"
   ]
  },
  {
   "cell_type": "code",
   "execution_count": null,
   "id": "58ad8371",
   "metadata": {},
   "outputs": [],
   "source": [
    "#defining variables to be converted to dummy variables \n",
    "cols = ['quarter', 'region', 'channel', 'tactic', 'conversion']\n",
    "\n",
    "#getting dummy variables \n",
    "encoded_vars = pd.get_dummies(smb_classifier[cols])\n",
    "\n",
    "\n",
    "smb_classifier_sub = smb_classifier.drop(cols, axis = 1)\n",
    "smb_classifier = pd.concat([encoded_vars, smb_classifier_sub], axis = 1)\n",
    "\n",
    "smb_classifier[cols].head()"
   ]
  },
  {
   "cell_type": "code",
   "execution_count": null,
   "id": "5ab41f1e",
   "metadata": {},
   "outputs": [],
   "source": [
    "labels = smb_classifier.columns.drop(['Significant_Spend'])\n",
    "target = smb_classifier['Significant_Spend']\n",
    "\n",
    "isf = IsolationForest(n_jobs=-1, random_state=1)\n",
    "isf.fit(smb_classifier[labels], target)\n",
    "\n",
    "\n",
    "print(isf.score_samples(smb_classifier[labels]))"
   ]
  },
  {
   "cell_type": "code",
   "execution_count": null,
   "id": "2a867582",
   "metadata": {},
   "outputs": [],
   "source": [
    "#predicting what data points are outliers (1 is not an outlier, -1 is an outlier)\n",
    "\n",
    "outlier_predictions = isf.predict(smb_classifier[labels])\n",
    "outlier_predictions"
   ]
  },
  {
   "cell_type": "code",
   "execution_count": null,
   "id": "b1444724",
   "metadata": {},
   "outputs": [],
   "source": [
    "#total of 17 outliers \n",
    "\n",
    "list(outlier_predictions).count(-1)"
   ]
  },
  {
   "cell_type": "code",
   "execution_count": null,
   "id": "cc047b38",
   "metadata": {},
   "outputs": [],
   "source": [
    "#getting index values so we can find which points are outliers \n",
    "\n",
    "indices = []\n",
    "for index, elem in enumerate(list(outlier_predictions)):\n",
    "        if elem == -1:\n",
    "            indices.append(index)\n",
    "\n",
    "indices"
   ]
  },
  {
   "cell_type": "code",
   "execution_count": null,
   "id": "13e85f61",
   "metadata": {},
   "outputs": [],
   "source": [
    "#extracting outlier data points\n",
    "outliers = smb_classifier.loc[indices, :]\n",
    "outliers.head()"
   ]
  },
  {
   "cell_type": "code",
   "execution_count": null,
   "id": "d1e4cd17",
   "metadata": {},
   "outputs": [],
   "source": [
    "wo_outliers = smb_classifier.drop(smb_classifier.iloc[indices].index)\n",
    "len(wo_outliers)"
   ]
  },
  {
   "cell_type": "code",
   "execution_count": null,
   "id": "59f52e28",
   "metadata": {},
   "outputs": [],
   "source": [
    "#plotting outliers vs non outliers on cost spent to see if they visually look like outliers \n",
    "# open figure/axis\n",
    "fig, ax = plt.subplots(figsize=(12,8))\n",
    "\n",
    "# plot // you need to specify the axis\n",
    "outliers.plot(x='cost_spent_on_exposed_group', y='absolute_lift', kind='scatter', ax=ax, c='r')\n",
    "wo_outliers.plot(x='cost_spent_on_exposed_group', y='absolute_lift', kind='scatter', ax=ax, c='b')\n",
    "plt.title('Cost Spent vs. Absolute Lift (Non-outliers vs. Outliers)')"
   ]
  },
  {
   "cell_type": "code",
   "execution_count": null,
   "id": "74ff1dd9",
   "metadata": {},
   "outputs": [],
   "source": [
    "#copying ridge regression function form EDA notebook and running it on non outliers to see if rmse scores improve \n",
    "\n",
    "def ridge_regression_2(dataset, powers, channel):\n",
    "\n",
    "    rmse_scores = {}\n",
    "    r2_scores = {}\n",
    "    fig_count = 1\n",
    "    \n",
    "    for i in powers:\n",
    "        \n",
    "        x = dataset[dataset['channel_' + channel ] == 1]['cost_spent_on_exposed_group']\n",
    "        y = dataset[dataset['channel_' + channel] == 1]['absolute_lift']\n",
    "    \n",
    "        #need to reshape x and y\n",
    "        x = np.array(x).reshape(-1,1)\n",
    "        y = np.array(y).reshape(-1,1)\n",
    "    \n",
    "        \n",
    "        #initializing model\n",
    "        ridge = Ridge(alpha = 0.1)\n",
    "        ridge.fit(x**i,y)\n",
    "        pred_train_ridge = ridge.predict(x**i)\n",
    "        rmse_scores[i] = np.sqrt(mean_squared_error(y, pred_train_ridge))\n",
    "        r2_scores[i] = r2_score(y, pred_train_ridge)\n",
    "        \n",
    "        #sorting x and y values for line plot \n",
    "        #x_plot, y_plot = zip(*sorted(zip(x, pred_train_ridge)))\n",
    "        \n",
    "        #code to smoothen line \n",
    "        #xnew = np.linspace(np.asarray(x_plot).min(), np.asarray(x_plot).max(), 200) \n",
    "        \n",
    "        #define spline\n",
    "        #spl = make_interp_spline(np.asarray(x_plot).flatten(), np.asarray(y_plot).flatten(), k=2)\n",
    "        #y_smooth = spl(xnew)\n",
    "\n",
    "        #plotting fitted values against real values\n",
    "        #fig = plt.figure(figsize = (12,8))\n",
    "        #plt.scatter(x,y)\n",
    "        #plt.plot(xnew,y_smooth, c = 'r')\n",
    "        #plt.title(channel + ' channel: Ridge Regression Modeling', fontsize=16)\n",
    "        #plt.xlabel('Cost Spent on Exposed Group ^ ' + str(i))\n",
    "        #plt.ylabel('Absolute Lift')\n",
    "        #plt.savefig('Modeling Results WO Outliers/{} Ridge {}.png'.format(channel,fig_count))\n",
    "        #plt.close(fig)\n",
    "        #fig_count += 1\n",
    "        \n",
    "        \n",
    "    return min(rmse_scores.items(), key=lambda x: x[1]), max(r2_scores.items(), key=lambda x: x[1])\n"
   ]
  },
  {
   "cell_type": "code",
   "execution_count": null,
   "id": "45e6fe5d",
   "metadata": {},
   "outputs": [],
   "source": [
    "powers = []\n",
    "for i in np.arange(0.1,0.9,0.01):\n",
    "    powers.append(i)"
   ]
  },
  {
   "cell_type": "code",
   "execution_count": null,
   "id": "3b7fcff0",
   "metadata": {},
   "outputs": [],
   "source": [
    "ridge_regression_2(wo_outliers, powers = powers, channel = 'DISPLAY')"
   ]
  },
  {
   "cell_type": "code",
   "execution_count": null,
   "id": "3f8af768",
   "metadata": {},
   "outputs": [],
   "source": [
    "ridge_regression_2(wo_outliers, powers = powers, channel = 'DISCOVERY')"
   ]
  },
  {
   "cell_type": "code",
   "execution_count": null,
   "id": "6d836a01",
   "metadata": {},
   "outputs": [],
   "source": [
    "ridge_regression_2(wo_outliers, powers = powers, channel = 'YOUTUBE')"
   ]
  }
 ],
 "metadata": {
  "kernelspec": {
   "display_name": "Python 3 (ipykernel)",
   "language": "python",
   "name": "python3"
  },
  "language_info": {
   "codemirror_mode": {
    "name": "ipython",
    "version": 3
   },
   "file_extension": ".py",
   "mimetype": "text/x-python",
   "name": "python",
   "nbconvert_exporter": "python",
   "pygments_lexer": "ipython3",
   "version": "3.9.12"
  }
 },
 "nbformat": 4,
 "nbformat_minor": 5
}
